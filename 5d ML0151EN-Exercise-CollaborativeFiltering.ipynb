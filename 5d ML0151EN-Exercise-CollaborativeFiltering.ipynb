{
 "cells": [
  {
   "cell_type": "markdown",
   "metadata": {},
   "source": [
    "<a href=\"https://www.bigdatauniversity.com\"><img src = \"https://ibm.box.com/shared/static/cw2c7r3o20w9zn8gkecaeyjhgw3xdgbj.png\" width = 400, align = \"center\"></a>\n",
    "\n",
    "<h1 align=center><font size = 5>Exercise: Collaborative Filtering</font></h1>\n",
    "\n",
    "In this notebook we will be doing a collaborative filtering exercise using the *recommenderlab* function from the package 'recommenderlab'. For this exercise we will be using datasets acquired from [GroupLens](http://grouplens.org/datasets/movielens/) containing some information regarding a list of movies, such as user ratings, user IDs, movie IDs, and movie titles.\n",
    "\n",
    "<hl>"
   ]
  },
  {
   "cell_type": "markdown",
   "metadata": {},
   "source": [
    "## Table of Contents\n",
    "<div class=\"alert alert-block alert-info\" style=\"margin-top: 20px\">\n",
    "\n",
    "<br>\n",
    "- <p><a href=\"#ref0\">Acquiring the data</a></p>\n",
    "- <p><a href=\"#ref1\">Preprocessing</a></p>\n",
    "- <p><a href=\"#ref2\">Collaborative Filtering</a></p>\n",
    "- <p><a href=\"#ref3\">Advantages and Disadvantages of Collaborative Filtering</a></p>\n",
    "<p></p>\n",
    "</div>\n",
    "<hr>"
   ]
  },
  {
   "cell_type": "markdown",
   "metadata": {},
   "source": [
    "<a id=\"ref0\"></a>\n",
    "## Donwload the Data\n",
    "\n",
    "To download and store the data, simply run the following R cell:  \n",
    "Dataset acquired from [GroupLens](http://grouplens.org/datasets/movielens/)"
   ]
  },
  {
   "cell_type": "code",
   "execution_count": null,
   "metadata": {
    "collapsed": true
   },
   "outputs": [],
   "source": [
    "# rating dataset\n",
    "download.file(\"https://ibm.box.com/shared/static/226cs3qlqylgkdiiqttjghwij0mfd6sp.csv\", \"/resources/data/ratings_cleaned.csv\")\n",
    "#Moview dtaset\n",
    "download.file(\"https://ibm.box.com/shared/static/jj7hu6jsvdwtyw1q4n9gpfdnt4mtd9rc.csv\", \"/resources/data/movies_cleaned.csv\")"
   ]
  },
  {
   "cell_type": "markdown",
   "metadata": {},
   "source": [
    "## Load the Data"
   ]
  },
  {
   "cell_type": "markdown",
   "metadata": {},
   "source": [
    "Let's begin by loading the data and storing them into dataframes named **'movies_df'** and **'ratings_df'**:"
   ]
  },
  {
   "cell_type": "code",
   "execution_count": null,
   "metadata": {
    "collapsed": true
   },
   "outputs": [],
   "source": [
    "#Loading the movie information into a dataframe\n",
    "movies_df <- read.csv('/resources/data/movies_cleaned.csv',  sep=\",\")"
   ]
  },
  {
   "cell_type": "code",
   "execution_count": null,
   "metadata": {
    "collapsed": true
   },
   "outputs": [],
   "source": [
    "#Loading the user information into a dataframe\n",
    "ratings_df <- read.csv('/resources/data/ratings_cleaned.csv',  sep=\",\")"
   ]
  },
  {
   "cell_type": "markdown",
   "metadata": {},
   "source": [
    "Let's have a look at the structure of these dataframes:"
   ]
  },
  {
   "cell_type": "code",
   "execution_count": null,
   "metadata": {
    "collapsed": true,
    "scrolled": false
   },
   "outputs": [],
   "source": [
    "# write your code here\n",
    "\n",
    "\n"
   ]
  },
  {
   "cell_type": "markdown",
   "metadata": {},
   "source": [
    "<div align=\"right\">\n",
    "<a href=\"#p1\" class=\"btn btn-default\" data-toggle=\"collapse\">Click here for the solution</a>\n",
    "</div>\n",
    "<div id=\"p1\" class=\"collapse\">\n",
    "```\n",
    "str(movies_df)\n",
    "str(ratings_df)\n",
    "```\n",
    "</div>"
   ]
  },
  {
   "cell_type": "markdown",
   "metadata": {},
   "source": [
    "## Format the data"
   ]
  },
  {
   "cell_type": "markdown",
   "metadata": {},
   "source": [
    "Now we will clean the data and have a look at the first few rows of each dataframes, to see what our data looks like:"
   ]
  },
  {
   "cell_type": "code",
   "execution_count": null,
   "metadata": {
    "collapsed": true,
    "scrolled": true
   },
   "outputs": [],
   "source": [
    "head(movies_df)\n",
    "head(ratings_df)"
   ]
  },
  {
   "cell_type": "markdown",
   "metadata": {},
   "source": [
    "Let's remove the timestamp column from the ratings dataframe, since we won't need it for this exercise. Then, look at the first few rows of our final dataframes:"
   ]
  },
  {
   "cell_type": "code",
   "execution_count": null,
   "metadata": {
    "collapsed": true,
    "scrolled": false
   },
   "outputs": [],
   "source": [
    "# write your code here\n",
    "\n"
   ]
  },
  {
   "cell_type": "markdown",
   "metadata": {},
   "source": [
    "<div align=\"right\">\n",
    "<a href=\"#p2\" class=\"btn btn-default\" data-toggle=\"collapse\">Click here for the solution</a>\n",
    "</div>\n",
    "<div id=\"p2\" class=\"collapse\">\n",
    "```\n",
    "ratings_df$timestamp = NULL\n",
    "head(movies_df)\n",
    "head(ratings_df)\n",
    "```\n",
    "</div>"
   ]
  },
  {
   "cell_type": "markdown",
   "metadata": {},
   "source": [
    "<a id=\"ref2\"></a>\n",
    "## User-Based Collaborative Filtering"
   ]
  },
  {
   "cell_type": "markdown",
   "metadata": {},
   "source": [
    "User-based collaborative filtering (**UBCF**) is a collaborative filtering technique that makes recommendations using the similarity between users. The assumption is that users with similar preferences will rate items similarly. Thus missing ratings for a user can be predicted by first finding a neighborhood of similar users and then aggregate the ratings of these users to form a prediction.\n",
    "\n",
    "\n",
    "UBCF algorithms first identify the k most similar users (nearest neighbors) to the active user, using a similarity measure such as the Pearson correlation or Cosine similarity, in which each user is treated as a vector in the m-dimensional item space and the similarities between the active user and other users are computed between the vectors. After the most similar users have been discovered, their corresponding rows in the user-item matrix are aggregated to identify a set of items, L, rated by the group together with their frequency. With the set L, UBCF techniques then recommend the top-n most frequent items in that the active user has not rated. UBCF algorithms have limitations related to scalability and real-time performance."
   ]
  },
  {
   "cell_type": "markdown",
   "metadata": {},
   "source": [
    "To do our implementation of recommender systems we will install and load the recommenderlab and Matrix packages:"
   ]
  },
  {
   "cell_type": "code",
   "execution_count": null,
   "metadata": {
    "collapsed": true,
    "scrolled": true
   },
   "outputs": [],
   "source": [
    "install.packages(\"proxy\")\n",
    "install.packages(\"recommenderlab\")\n",
    "install.packages(\"Matrix\")\n",
    "library(recommenderlab)\n",
    "library(Matrix)"
   ]
  },
  {
   "cell_type": "markdown",
   "metadata": {},
   "source": [
    "## Prepare the data"
   ]
  },
  {
   "cell_type": "markdown",
   "metadata": {},
   "source": [
    "To use the recommenderlab package, our data will need to be converted to sparse format:"
   ]
  },
  {
   "cell_type": "code",
   "execution_count": null,
   "metadata": {
    "collapsed": true,
    "scrolled": true
   },
   "outputs": [],
   "source": [
    "sparse_ratings <- sparseMatrix(i = ratings_df$userId, j = ratings_df$movieId, x = ratings_df$rating,\n",
    "                              dimnames = list(paste(\"u\", 1:length(unique(ratings_df$userId)), sep = \"\"), \n",
    "                                               paste(\"m\", 1:max(ratings_df$movieId), sep = \"\"))) \n",
    "                               \n",
    "sparse_ratings[1:10, 1:10]\n",
    "\n",
    "dim(sparse_ratings)"
   ]
  },
  {
   "cell_type": "markdown",
   "metadata": {},
   "source": [
    "We can see that our sparse matrix has more columns (movies) at 163949 than the 9066 movies that we have ratings for in our ratings dataframe. However, this will not affect our results.\n",
    "\n",
    "NOTE: In our ratings dataframe, we have 9066 different movieIds with the largest value for a movieId being 163949. While in our movies dataframe, we have 9125 different movies with the largest value for a movieId being 164979."
   ]
  },
  {
   "cell_type": "markdown",
   "metadata": {},
   "source": [
    "## Create recommender models"
   ]
  },
  {
   "cell_type": "markdown",
   "metadata": {},
   "source": [
    "The function **recommender** from the recommenderlab package works with a realRatingMatrix object, which we will create from our sparse matrix:"
   ]
  },
  {
   "cell_type": "code",
   "execution_count": null,
   "metadata": {
    "collapsed": true
   },
   "outputs": [],
   "source": [
    "real_ratings <- new(\"realRatingMatrix\", data = sparse_ratings)\n",
    "real_ratings"
   ]
  },
  {
   "cell_type": "markdown",
   "metadata": {},
   "source": [
    "Now let's construct a recommender model using the **Recommender** algorithm and the first 500 users of the real rating matrix. "
   ]
  },
  {
   "cell_type": "code",
   "execution_count": null,
   "metadata": {
    "collapsed": true,
    "scrolled": true
   },
   "outputs": [],
   "source": [
    "rmodel <- Recommender(real_ratings[1:500], method = \"UBCF\", param=list(normalize = \"center\", method = \"Pearson\"))"
   ]
  },
  {
   "cell_type": "markdown",
   "metadata": {},
   "source": [
    "Let's make movie recommendations for users 501 and 502 from our data."
   ]
  },
  {
   "cell_type": "markdown",
   "metadata": {},
   "source": [
    "We can make recommendations for new users using the **predict** function and the recommender models we created. However, the recommendations will not be in list form so we will have to use the **as** function to display it as a list."
   ]
  },
  {
   "cell_type": "code",
   "execution_count": null,
   "metadata": {
    "collapsed": true,
    "scrolled": false
   },
   "outputs": [],
   "source": [
    "recom <- predict(rmodel, real_ratings[501:502],n=5)\n",
    "lrecom <- as(recom, \"list\")\n",
    "lrecom"
   ]
  },
  {
   "cell_type": "markdown",
   "metadata": {},
   "source": [
    "As you can see our lists contain the recommendations as the corresponding movieIds prefixed with the letter 'm'.\n",
    "To obtain a list of integer-valued movieIds we will have to perform some data transformation."
   ]
  },
  {
   "cell_type": "markdown",
   "metadata": {},
   "source": [
    "We can do this using a combination of the **as.numeric** and **sub** functions in R:"
   ]
  },
  {
   "cell_type": "code",
   "execution_count": null,
   "metadata": {
    "collapsed": true,
    "scrolled": false
   },
   "outputs": [],
   "source": [
    "lr <- lapply(lrecom, function(x) as.numeric(sub(\"m\",\"\", x)))\n",
    "lr"
   ]
  },
  {
   "cell_type": "markdown",
   "metadata": {},
   "source": [
    "Let's have a look at the movies user 501 has rated."
   ]
  },
  {
   "cell_type": "code",
   "execution_count": null,
   "metadata": {
    "collapsed": true,
    "scrolled": true
   },
   "outputs": [],
   "source": [
    "user501=ratings_df$movieId[ratings_df$userId==501]\n",
    "print(\"User501\")\n",
    "cat(\"\\n\")\n",
    "for (i in user501){\n",
    "    movie <- movies_df$title[movies_df$movieId==i]\n",
    "    print (movie, max.levels=0)\n",
    "}"
   ]
  },
  {
   "cell_type": "markdown",
   "metadata": {},
   "source": [
    "Now, let's see which movies are recommended for the user. For each movie we will show the title, the genres, the total number of ratings and the average rating."
   ]
  },
  {
   "cell_type": "code",
   "execution_count": null,
   "metadata": {
    "collapsed": true,
    "scrolled": false
   },
   "outputs": [],
   "source": [
    "print(\"User-based collaborative filtering\")\n",
    "cat(\"\\n\")\n",
    "cat(\"\\n\")\n",
    "cat(\"\\n\")\n",
    "\n",
    "print(\"User 501 Recommendations:\")\n",
    "cat(\"\\n\")\n",
    "cat(\"\\n\")\n",
    "\n",
    "u501_recom <- lapply(lr[1], function(x) for (i in x){\n",
    "                                movie <- movies_df$title[movies_df$movieId==i]\n",
    "                                print (movie, max.levels=0)\n",
    "                                genres <- movies_df$genres[movies_df$movieId==i]\n",
    "                                cat(\"Genres: \", as.character(genres), \"\\n\")\n",
    "                                indices <- which(ratings_df$movieId==i, arr.ind=T)\n",
    "                                cat(\"Total ratings: \", length(indices), \"\\n\")\n",
    "                                cat(\"Average rating: \",mean(ratings_df$rating[indices]), \"\\n\")\n",
    "                                cat(\"\\n\")\n",
    "}\n",
    "    )\n",
    "u501_recom"
   ]
  },
  {
   "cell_type": "markdown",
   "metadata": {},
   "source": [
    "Now, let's do the same for user 502. "
   ]
  },
  {
   "cell_type": "markdown",
   "metadata": {},
   "source": [
    "Display the list of movies user 502 has rated:"
   ]
  },
  {
   "cell_type": "code",
   "execution_count": null,
   "metadata": {
    "collapsed": true
   },
   "outputs": [],
   "source": [
    "# your code here\n",
    "\n",
    "\n"
   ]
  },
  {
   "cell_type": "markdown",
   "metadata": {},
   "source": [
    "<div align=\"right\">\n",
    "<a href=\"#p3\" class=\"btn btn-default\" data-toggle=\"collapse\">Click here for the solution</a>\n",
    "</div>\n",
    "<div id=\"p3\" class=\"collapse\">\n",
    "```\n",
    "user502 <- ratings_df$movieId[ratings_df$userId==502]\n",
    "print(\"User502\")\n",
    "cat(\"\\n\")\n",
    "for (i in user502){\n",
    "    movie <- movies_df$title[movies_df$movieId==i]\n",
    "    print (movie, max.levels=0)\n",
    "}\n",
    "```\n",
    "</div>"
   ]
  },
  {
   "cell_type": "markdown",
   "metadata": {},
   "source": [
    "Display the recommendations for user 502, similarly to what we did for user 501:"
   ]
  },
  {
   "cell_type": "code",
   "execution_count": null,
   "metadata": {
    "collapsed": true,
    "scrolled": true
   },
   "outputs": [],
   "source": [
    "# you code here:\n",
    "\n",
    "\n"
   ]
  },
  {
   "cell_type": "markdown",
   "metadata": {},
   "source": [
    "<div align=\"right\">\n",
    "<a href=\"#p4\" class=\"btn btn-default\" data-toggle=\"collapse\">Click here for the solution</a>\n",
    "</div>\n",
    "<div id=\"p4\" class=\"collapse\">\n",
    "```\n",
    "print(\"User-based collaborative filtering\")\n",
    "cat(\"\\n\")\n",
    "cat(\"\\n\")\n",
    "cat(\"\\n\")\n",
    "\n",
    "print(\"User 502 Recommendations:\")\n",
    "cat(\"\\n\")\n",
    "cat(\"\\n\")\n",
    "\n",
    "u502_recom <- lapply(lr[2], function(x) for (i in x){\n",
    "                                movie <- movies_df$title[movies_df$movieId==i]\n",
    "                                print (movie, max.levels=0)\n",
    "                                genres <- movies_df$genres[movies_df$movieId==i]\n",
    "                                cat(\"Genres: \", as.character(genres), \"\\n\")\n",
    "                                indices <- which(ratings_df$movieId==i, arr.ind=T)\n",
    "                                indices <- which(ratings_df$movieId==i, arr.ind=T)\n",
    "                                cat(\"Total ratings: \", length(indices), \"\\n\")\n",
    "                                cat(\"Average rating: \",mean(ratings_df$rating[indices]), \"\\n\")\n",
    "                                cat(\"\\n\")\n",
    "}\n",
    "    )\n",
    "u502_recom\n",
    "```\n",
    "</div>"
   ]
  },
  {
   "cell_type": "markdown",
   "metadata": {},
   "source": [
    "## Want to learn more?\n",
    "\n",
    "IBM SPSS Modeler is a comprehensive analytics platform that has many machine learning algorithms. It has been designed to bring predictive intelligence to decisions made by individuals, by groups, by systems – by your enterprise as a whole. A free trial is available through this course, available here: [SPSS Modeler for Mac users](https://cocl.us/ML0151EN_SPSSMod_mac) and [SPSS Modeler for Windows users](https://cocl.us/ML0151EN_SPSSMod_win)\n",
    "\n",
    "Also, you can use Data Science Experience to run these notebooks faster with bigger datasets. Data Science Experience is IBM's leading cloud solution for data scientists, built by data scientists. With Jupyter notebooks, RStudio, Apache Spark and popular libraries pre-packaged in the cloud, DSX enables data scientists to collaborate on their projects without having to install anything. Join the fast-growing community of DSX users today with a free account at [Data Science Experience](https://cocl.us/ML0151EN_DSX)"
   ]
  },
  {
   "cell_type": "markdown",
   "metadata": {},
   "source": [
    "### Thank you for completing this exercise!\n",
    "\n",
    "Notebook created by: Dominique Warren, <a href = \"https://ca.linkedin.com/in/saeedaghabozorgi\">Saeed Aghabozorgi</a>"
   ]
  },
  {
   "cell_type": "markdown",
   "metadata": {},
   "source": [
    "## References\n",
    "[Recommenderlab](https://cran.r-project.org/web/packages/recommenderlab/vignettes/recommenderlab.pdf)\n",
    "\n",
    "[Package 'recommenderlab'](https://cran.r-project.org/web/packages/recommenderlab/recommenderlab.pdf)\n",
    "\n",
    "[Package ‘Matrix’](https://cran.r-project.org/web/packages/Matrix/Matrix.pdf)\n",
    "\n",
    "[Collaborative Filtering Recommender Systems](http://files.grouplens.org/papers/FnT%20CF%20Recsys%20Survey.pdf)\n",
    "\n",
    "[R Documentation](https://cran.r-project.org/manuals.html)\n"
   ]
  },
  {
   "cell_type": "markdown",
   "metadata": {},
   "source": [
    "<hr>\n",
    "Copyright &copy; 2017 [IBM Cognitive Class](https://cocl.us/ML0151EN_cclab_cc). This notebook and its source code are released under the terms of the [MIT License](https://cognitiveclass.ai/mit-license/)."
   ]
  },
  {
   "cell_type": "code",
   "execution_count": null,
   "metadata": {
    "collapsed": true
   },
   "outputs": [],
   "source": []
  }
 ],
 "metadata": {
  "anaconda-cloud": {},
  "kernelspec": {
   "display_name": "R",
   "language": "R",
   "name": "ir"
  },
  "language_info": {
   "codemirror_mode": "r",
   "file_extension": ".r",
   "mimetype": "text/x-r-source",
   "name": "R",
   "pygments_lexer": "r",
   "version": "3.4.0"
  }
 },
 "nbformat": 4,
 "nbformat_minor": 1
}
