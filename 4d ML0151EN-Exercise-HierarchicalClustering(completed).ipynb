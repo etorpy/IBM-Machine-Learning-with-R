{
 "cells": [
  {
   "cell_type": "markdown",
   "metadata": {
    "button": false,
    "new_sheet": false,
    "run_control": {
     "read_only": false
    }
   },
   "source": [
    "<a href=\"https://www.bigdatauniversity.com\"><img src = \"https://ibm.box.com/shared/static/cw2c7r3o20w9zn8gkecaeyjhgw3xdgbj.png\" width = 400, align = \"center\"></a>\n",
    "\n",
    "\n",
    "<h1 align=center><font size = 5>Exercise: Hierarchical Clustering in R</font></h1>"
   ]
  },
  {
   "cell_type": "markdown",
   "metadata": {
    "button": false,
    "new_sheet": false,
    "run_control": {
     "read_only": false
    }
   },
   "source": [
    "In this exercise, we will use the Hierarchical clustering algorithm to cluster weather station data. let's start playing with the data. We will be working according to the following workflow: </font>\n",
    "1. Loading data\n",
    "- Overview data\n",
    "- Data cleaning\n",
    "- Data selection\n",
    "- Clusteing"
   ]
  },
  {
   "cell_type": "markdown",
   "metadata": {
    "button": false,
    "new_sheet": false,
    "run_control": {
     "read_only": false
    }
   },
   "source": [
    "In this notebook, we will use the weather data, and will be using only the columns with names listed in <font color = \"green\">green</font>.\n",
    "\n",
    "<h4 align = \"center\">\n",
    "Environment Canada    \n",
    "Monthly Values for July - 2015\t\n",
    "</h4>\n",
    "<html>\n",
    "<head>\n",
    "<style>\n",
    "table {\n",
    "    font-family: arial, sans-serif;\n",
    "    border-collapse: collapse;\n",
    "    width: 100%;\n",
    "}\n",
    "\n",
    "td, th {\n",
    "    border: 1px solid #dddddd;\n",
    "    text-align: left;\n",
    "    padding: 8px;\n",
    "}\n",
    "\n",
    "tr:nth-child(even) {\n",
    "    background-color: #dddddd;\n",
    "}\n",
    "</style>\n",
    "</head>\n",
    "<body>\n",
    "\n",
    "<table>\n",
    "  <tr>\n",
    "    <th>Name in the table</th>\n",
    "    <th>Meaning</th>\n",
    "  </tr>\n",
    "  <tr>\n",
    "    <td><font color = \"green\"><strong>Stn_Name</font></td>\n",
    "    <td><font color = \"green\"><strong>Station Name</font</td>\n",
    "  </tr>\n",
    "  <tr>\n",
    "    <td><font color = \"green\"><strong>Lat</font></td>\n",
    "    <td><font color = \"green\"><strong>Latitude (North+, degrees)</font></td>\n",
    "  </tr>\n",
    "  <tr>\n",
    "    <td><font color = \"green\"><strong>Long</font></td>\n",
    "    <td><font color = \"green\"><strong>Longitude (West - , degrees)</font></td>\n",
    "  </tr>\n",
    "  <tr>\n",
    "    <td>Prov</td>\n",
    "    <td>Province</td>\n",
    "  </tr>\n",
    "  <tr>\n",
    "    <td>Tm</td>\n",
    "    <td>Mean Temperature (°C)</td>\n",
    "  </tr>\n",
    "  <tr>\n",
    "    <td>DwTm</td>\n",
    "    <td>Days without Valid Mean Temperature</td>\n",
    "  </tr>\n",
    "  <tr>\n",
    "    <td>D</td>\n",
    "    <td>Mean Temperature difference from Normal (1981-2010) (°C)</td>\n",
    "  </tr>\n",
    "  <tr>\n",
    "    <td><font color = \"black\">Tx</font></td>\n",
    "    <td><font color = \"black\">Highest Monthly Maximum Temperature (°C)</font></td>\n",
    "  </tr>\n",
    "  <tr>\n",
    "    <td>DwTx</td>\n",
    "    <td>Days without Valid Maximum Temperature</td>\n",
    "  </tr>\n",
    "  <tr>\n",
    "    <td><font color = \"black\">Tn</font></td>\n",
    "    <td><font color = \"black\">Lowest Monthly Minimum Temperature (°C)</font></td>\n",
    "  </tr>\n",
    "  <tr>\n",
    "    <td>DwTn</td>\n",
    "    <td>Days without Valid Minimum Temperature</td>\n",
    "  </tr>\n",
    "  <tr>\n",
    "    <td>S</td>\n",
    "    <td>Snowfall (cm)</td>\n",
    "  </tr>\n",
    "  <tr>\n",
    "    <td>DwS</td>\n",
    "    <td>Days without Valid Snowfall</td>\n",
    "  </tr>\n",
    "  <tr>\n",
    "    <td>S%N</td>\n",
    "    <td>Percent of Normal (1981-2010) Snowfall</td>\n",
    "  </tr>\n",
    "  <tr>\n",
    "    <td><font color = \"green\"><strong>P</font></td>\n",
    "    <td><font color = \"green\"><strong>Total Precipitation (mm)</font></td>\n",
    "  </tr>\n",
    "  <tr>\n",
    "    <td>DwP</td>\n",
    "    <td>Days without Valid Precipitation</td>\n",
    "  </tr>\n",
    "  <tr>\n",
    "    <td>P%N</td>\n",
    "    <td>Percent of Normal (1981-2010) Precipitation</td>\n",
    "  </tr>\n",
    "  <tr>\n",
    "    <td>S_G</td>\n",
    "    <td>Snow on the ground at the end of the month (cm)</td>\n",
    "  </tr>\n",
    "  <tr>\n",
    "    <td>Pd</td>\n",
    "    <td>Number of days with Precipitation 1.0 mm or more</td>\n",
    "  </tr>\n",
    "  <tr>\n",
    "    <td>BS</td>\n",
    "    <td>Bright Sunshine (hours)</td>\n",
    "  </tr>\n",
    "  <tr>\n",
    "    <td>DwBS</td>\n",
    "    <td>Days without Valid Bright Sunshine</td>\n",
    "  </tr>\n",
    "  <tr>\n",
    "    <td>BS%</td>\n",
    "    <td>Percent of Normal (1981-2010) Bright Sunshine</td>\n",
    "  </tr>\n",
    "  <tr>\n",
    "    <td>HDD</td>\n",
    "    <td>Degree Days below 18 °C</td>\n",
    "  </tr>\n",
    "  <tr>\n",
    "    <td>CDD</td>\n",
    "    <td>Degree Days above 18 °C</td>\n",
    "  </tr>\n",
    "  <tr>\n",
    "    <td>Stn_No</td>\n",
    "    <td>Climate station identifier (first 3 digits indicate   drainage basin, last 4 characters are for sorting alphabetically).</td>\n",
    "  </tr>\n",
    "  <tr>\n",
    "    <td>NA</td>\n",
    "    <td>Not Available</td>\n",
    "  </tr>\n",
    "\n",
    "\n",
    "</table>\n",
    "\n",
    "</body>\n",
    "</html>\n",
    "\n"
   ]
  },
  {
   "cell_type": "markdown",
   "metadata": {
    "button": false,
    "new_sheet": false,
    "run_control": {
     "read_only": false
    }
   },
   "source": [
    "### Install and import required libraries"
   ]
  },
  {
   "cell_type": "code",
   "execution_count": 1,
   "metadata": {
    "button": false,
    "collapsed": true,
    "new_sheet": false,
    "run_control": {
     "read_only": false
    }
   },
   "outputs": [
    {
     "name": "stderr",
     "output_type": "stream",
     "text": [
      "Updating HTML index of packages in '.Library'\n",
      "Making 'packages.html' ... done\n",
      "Updating HTML index of packages in '.Library'\n",
      "Making 'packages.html' ... done\n"
     ]
    }
   ],
   "source": [
    "# import libraries\n",
    "install.packages('ggdendro')\n",
    "install.packages('ggplot2')\n",
    "library(ggdendro)\n",
    "library(ggplot2)"
   ]
  },
  {
   "cell_type": "markdown",
   "metadata": {
    "button": false,
    "new_sheet": false,
    "run_control": {
     "read_only": false
    }
   },
   "source": [
    "### 1. Loading the data\n",
    "Since the dataset was uploaded to a Box folder, we can use the ***download.file*** command to download the dataset, and load the data using the ***read.csv*** command."
   ]
  },
  {
   "cell_type": "code",
   "execution_count": 2,
   "metadata": {
    "button": false,
    "collapsed": true,
    "new_sheet": false,
    "run_control": {
     "read_only": false
    }
   },
   "outputs": [],
   "source": [
    "# download file and save it to weather and load data\n",
    "download.file(\"https://ibm.box.com/shared/static/mv6g5p1wpmpvzoz6e5zgo47t44q8dvm0.csv\", destfile = \"WeatherStations.csv\", quiet = FALSE)\n",
    "WeatherStations <- read.csv(\"WeatherStations.csv\", sep =',')"
   ]
  },
  {
   "cell_type": "markdown",
   "metadata": {
    "button": false,
    "new_sheet": false,
    "run_control": {
     "read_only": false
    }
   },
   "source": [
    "### 2. Overview of the data\n",
    "Using __head__ and __str__, take a quick look in the data before processing it."
   ]
  },
  {
   "cell_type": "code",
   "execution_count": 3,
   "metadata": {
    "button": false,
    "collapsed": true,
    "new_sheet": false,
    "run_control": {
     "read_only": false
    }
   },
   "outputs": [
    {
     "data": {
      "text/html": [
       "<table>\n",
       "<thead><tr><th scope=col>Stn_Name</th><th scope=col>Lat</th><th scope=col>Long</th><th scope=col>Prov</th><th scope=col>Tm</th><th scope=col>DwTm</th><th scope=col>D</th><th scope=col>Tx</th><th scope=col>DwTx</th><th scope=col>Tn</th><th scope=col>⋯</th><th scope=col>DwP</th><th scope=col>P.N</th><th scope=col>S_G</th><th scope=col>Pd</th><th scope=col>BS</th><th scope=col>DwBS</th><th scope=col>BS.</th><th scope=col>HDD</th><th scope=col>CDD</th><th scope=col>Stn_No</th></tr></thead>\n",
       "<tbody>\n",
       "\t<tr><td>CHEMAINUS             </td><td>48.935                </td><td>-123.742              </td><td>BC                    </td><td>8.2                   </td><td> 0                    </td><td> NA                   </td><td>13.5                  </td><td>0                     </td><td> 1.0                  </td><td>⋯                     </td><td> 0                    </td><td> NA                   </td><td> 0                    </td><td>12                    </td><td>NA                    </td><td>NA                    </td><td>NA                    </td><td>273.3                 </td><td> 0                    </td><td>1011500               </td></tr>\n",
       "\t<tr><td>COWICHAN LAKE FORESTRY</td><td>48.824                </td><td>-124.133              </td><td>BC                    </td><td>7.0                   </td><td> 0                    </td><td>3.0                   </td><td>15.0                  </td><td>0                     </td><td>-3.0                  </td><td>⋯                     </td><td> 0                    </td><td>104                   </td><td> 0                    </td><td>12                    </td><td>NA                    </td><td>NA                    </td><td>NA                    </td><td>307.0                 </td><td> 0                    </td><td>1012040               </td></tr>\n",
       "\t<tr><td>LAKE COWICHAN         </td><td>48.829                </td><td>-124.052              </td><td>BC                    </td><td>6.8                   </td><td>13                    </td><td>2.8                   </td><td>16.0                  </td><td>9                     </td><td>-2.5                  </td><td>⋯                     </td><td> 9                    </td><td> NA                   </td><td>NA                    </td><td>11                    </td><td>NA                    </td><td>NA                    </td><td>NA                    </td><td>168.1                 </td><td> 0                    </td><td>1012055               </td></tr>\n",
       "\t<tr><td>DISCOVERY ISLAND      </td><td>48.425                </td><td>-123.226              </td><td>BC                    </td><td> NA                   </td><td>NA                    </td><td> NA                   </td><td>12.5                  </td><td>0                     </td><td>  NA                  </td><td>⋯                     </td><td>NA                    </td><td> NA                   </td><td>NA                    </td><td>NA                    </td><td>NA                    </td><td>NA                    </td><td>NA                    </td><td>   NA                 </td><td>NA                    </td><td>1012475               </td></tr>\n",
       "\t<tr><td>DUNCAN KELVIN CREEK   </td><td>48.735                </td><td>-123.728              </td><td>BC                    </td><td>7.7                   </td><td> 2                    </td><td>3.4                   </td><td>14.5                  </td><td>2                     </td><td>-1.0                  </td><td>⋯                     </td><td> 2                    </td><td> NA                   </td><td>NA                    </td><td>11                    </td><td>NA                    </td><td>NA                    </td><td>NA                    </td><td>267.7                 </td><td> 0                    </td><td>1012573               </td></tr>\n",
       "\t<tr><td>ESQUIMALT HARBOUR     </td><td>48.432                </td><td>-123.439              </td><td>BC                    </td><td>8.8                   </td><td> 0                    </td><td> NA                   </td><td>13.1                  </td><td>0                     </td><td> 1.9                  </td><td>⋯                     </td><td> 8                    </td><td> NA                   </td><td>NA                    </td><td>12                    </td><td>NA                    </td><td>NA                    </td><td>NA                    </td><td>258.6                 </td><td> 0                    </td><td>1012710               </td></tr>\n",
       "</tbody>\n",
       "</table>\n"
      ],
      "text/latex": [
       "\\begin{tabular}{r|lllllllllllllllllllllllll}\n",
       " Stn\\_Name & Lat & Long & Prov & Tm & DwTm & D & Tx & DwTx & Tn & ⋯ & DwP & P.N & S\\_G & Pd & BS & DwBS & BS. & HDD & CDD & Stn\\_No\\\\\n",
       "\\hline\n",
       "\t CHEMAINUS              & 48.935                 & -123.742               & BC                     & 8.2                    &  0                     &  NA                    & 13.5                   & 0                      &  1.0                   & ⋯                      &  0                     &  NA                    &  0                     & 12                     & NA                     & NA                     & NA                     & 273.3                  &  0                     & 1011500               \\\\\n",
       "\t COWICHAN LAKE FORESTRY & 48.824                 & -124.133               & BC                     & 7.0                    &  0                     & 3.0                    & 15.0                   & 0                      & -3.0                   & ⋯                      &  0                     & 104                    &  0                     & 12                     & NA                     & NA                     & NA                     & 307.0                  &  0                     & 1012040               \\\\\n",
       "\t LAKE COWICHAN          & 48.829                 & -124.052               & BC                     & 6.8                    & 13                     & 2.8                    & 16.0                   & 9                      & -2.5                   & ⋯                      &  9                     &  NA                    & NA                     & 11                     & NA                     & NA                     & NA                     & 168.1                  &  0                     & 1012055               \\\\\n",
       "\t DISCOVERY ISLAND       & 48.425                 & -123.226               & BC                     &  NA                    & NA                     &  NA                    & 12.5                   & 0                      &   NA                   & ⋯                      & NA                     &  NA                    & NA                     & NA                     & NA                     & NA                     & NA                     &    NA                  & NA                     & 1012475               \\\\\n",
       "\t DUNCAN KELVIN CREEK    & 48.735                 & -123.728               & BC                     & 7.7                    &  2                     & 3.4                    & 14.5                   & 2                      & -1.0                   & ⋯                      &  2                     &  NA                    & NA                     & 11                     & NA                     & NA                     & NA                     & 267.7                  &  0                     & 1012573               \\\\\n",
       "\t ESQUIMALT HARBOUR      & 48.432                 & -123.439               & BC                     & 8.8                    &  0                     &  NA                    & 13.1                   & 0                      &  1.9                   & ⋯                      &  8                     &  NA                    & NA                     & 12                     & NA                     & NA                     & NA                     & 258.6                  &  0                     & 1012710               \\\\\n",
       "\\end{tabular}\n"
      ],
      "text/markdown": [
       "\n",
       "Stn_Name | Lat | Long | Prov | Tm | DwTm | D | Tx | DwTx | Tn | ⋯ | DwP | P.N | S_G | Pd | BS | DwBS | BS. | HDD | CDD | Stn_No | \n",
       "|---|---|---|---|---|---|\n",
       "| CHEMAINUS              | 48.935                 | -123.742               | BC                     | 8.2                    |  0                     |  NA                    | 13.5                   | 0                      |  1.0                   | ⋯                      |  0                     |  NA                    |  0                     | 12                     | NA                     | NA                     | NA                     | 273.3                  |  0                     | 1011500                | \n",
       "| COWICHAN LAKE FORESTRY | 48.824                 | -124.133               | BC                     | 7.0                    |  0                     | 3.0                    | 15.0                   | 0                      | -3.0                   | ⋯                      |  0                     | 104                    |  0                     | 12                     | NA                     | NA                     | NA                     | 307.0                  |  0                     | 1012040                | \n",
       "| LAKE COWICHAN          | 48.829                 | -124.052               | BC                     | 6.8                    | 13                     | 2.8                    | 16.0                   | 9                      | -2.5                   | ⋯                      |  9                     |  NA                    | NA                     | 11                     | NA                     | NA                     | NA                     | 168.1                  |  0                     | 1012055                | \n",
       "| DISCOVERY ISLAND       | 48.425                 | -123.226               | BC                     |  NA                    | NA                     |  NA                    | 12.5                   | 0                      |   NA                   | ⋯                      | NA                     |  NA                    | NA                     | NA                     | NA                     | NA                     | NA                     |    NA                  | NA                     | 1012475                | \n",
       "| DUNCAN KELVIN CREEK    | 48.735                 | -123.728               | BC                     | 7.7                    |  2                     | 3.4                    | 14.5                   | 2                      | -1.0                   | ⋯                      |  2                     |  NA                    | NA                     | 11                     | NA                     | NA                     | NA                     | 267.7                  |  0                     | 1012573                | \n",
       "| ESQUIMALT HARBOUR      | 48.432                 | -123.439               | BC                     | 8.8                    |  0                     |  NA                    | 13.1                   | 0                      |  1.9                   | ⋯                      |  8                     |  NA                    | NA                     | 12                     | NA                     | NA                     | NA                     | 258.6                  |  0                     | 1012710                | \n",
       "\n",
       "\n"
      ],
      "text/plain": [
       "  Stn_Name               Lat    Long     Prov Tm  DwTm D   Tx   DwTx Tn   ⋯ DwP\n",
       "1 CHEMAINUS              48.935 -123.742 BC   8.2  0    NA 13.5 0     1.0 ⋯  0 \n",
       "2 COWICHAN LAKE FORESTRY 48.824 -124.133 BC   7.0  0   3.0 15.0 0    -3.0 ⋯  0 \n",
       "3 LAKE COWICHAN          48.829 -124.052 BC   6.8 13   2.8 16.0 9    -2.5 ⋯  9 \n",
       "4 DISCOVERY ISLAND       48.425 -123.226 BC    NA NA    NA 12.5 0      NA ⋯ NA \n",
       "5 DUNCAN KELVIN CREEK    48.735 -123.728 BC   7.7  2   3.4 14.5 2    -1.0 ⋯  2 \n",
       "6 ESQUIMALT HARBOUR      48.432 -123.439 BC   8.8  0    NA 13.1 0     1.9 ⋯  8 \n",
       "  P.N S_G Pd BS DwBS BS. HDD   CDD Stn_No \n",
       "1  NA  0  12 NA NA   NA  273.3  0  1011500\n",
       "2 104  0  12 NA NA   NA  307.0  0  1012040\n",
       "3  NA NA  11 NA NA   NA  168.1  0  1012055\n",
       "4  NA NA  NA NA NA   NA     NA NA  1012475\n",
       "5  NA NA  11 NA NA   NA  267.7  0  1012573\n",
       "6  NA NA  12 NA NA   NA  258.6  0  1012710"
      ]
     },
     "metadata": {},
     "output_type": "display_data"
    },
    {
     "name": "stdout",
     "output_type": "stream",
     "text": [
      "'data.frame':\t1341 obs. of  25 variables:\n",
      " $ Stn_Name: Factor w/ 1318 levels \"100 MILE HOUSE 6NE\",..: 203 255 616 298 307 347 413 680 717 799 ...\n",
      " $ Lat     : num  48.9 48.8 48.8 48.4 48.7 ...\n",
      " $ Long    : num  -124 -124 -124 -123 -124 ...\n",
      " $ Prov    : Factor w/ 13 levels \"AB\",\"BC\",\"MB\",..: 2 2 2 2 2 2 2 2 2 2 ...\n",
      " $ Tm      : num  8.2 7 6.8 NA 7.7 8.8 8.9 7.2 NA NA ...\n",
      " $ DwTm    : int  0 0 13 NA 2 0 7 1 NA NA ...\n",
      " $ D       : num  NA 3 2.8 NA 3.4 NA NA NA NA NA ...\n",
      " $ Tx      : num  13.5 15 16 12.5 14.5 13.1 13.5 12.7 NA NA ...\n",
      " $ DwTx    : int  0 0 9 0 2 0 7 1 NA NA ...\n",
      " $ Tn      : num  1 -3 -2.5 NA -1 1.9 2 2.2 NA NA ...\n",
      " $ DwTn    : int  0 0 9 NA 2 0 7 0 NA NA ...\n",
      " $ S       : num  0 0 0 NA 0 NA 0 NA 0 0 ...\n",
      " $ DwS     : int  0 0 9 NA 2 NA 7 NA 0 0 ...\n",
      " $ S.N     : int  NA 0 NA NA NA NA NA NA 0 0 ...\n",
      " $ P       : num  179 259 265 NA 168 ...\n",
      " $ DwP     : int  0 0 9 NA 2 8 7 10 0 0 ...\n",
      " $ P.N     : int  NA 104 NA NA NA NA NA NA 95 114 ...\n",
      " $ S_G     : int  0 0 NA NA NA NA 0 NA 0 0 ...\n",
      " $ Pd      : int  12 12 11 NA 11 12 10 12 16 13 ...\n",
      " $ BS      : logi  NA NA NA NA NA NA ...\n",
      " $ DwBS    : logi  NA NA NA NA NA NA ...\n",
      " $ BS.     : logi  NA NA NA NA NA NA ...\n",
      " $ HDD     : num  273 307 168 NA 268 ...\n",
      " $ CDD     : int  0 0 0 NA 0 0 0 0 NA NA ...\n",
      " $ Stn_No  : Factor w/ 1341 levels \"1011500\",\"1012040\",..: 1 2 3 4 5 6 7 8 9 10 ...\n"
     ]
    }
   ],
   "source": [
    "## your ccode here:\n",
    "\n",
    "head(WeatherStations)\n",
    "str(WeatherStations)\n"
   ]
  },
  {
   "cell_type": "markdown",
   "metadata": {},
   "source": [
    "<div align=\"right\">\n",
    "<a href=\"#p1\" class=\"btn btn-default\" data-toggle=\"collapse\">Click here for the solution</a>\n",
    "</div>\n",
    "<div id=\"p1\" class=\"collapse\">\n",
    "```\n",
    "head(WeatherStations)\n",
    "str(WeatherStations)\n",
    "```\n",
    "</div>"
   ]
  },
  {
   "cell_type": "markdown",
   "metadata": {
    "button": false,
    "new_sheet": false,
    "run_control": {
     "read_only": false
    }
   },
   "source": [
    "### 3. Cleaning the data"
   ]
  },
  {
   "cell_type": "markdown",
   "metadata": {
    "button": false,
    "new_sheet": false,
    "run_control": {
     "read_only": false
    }
   },
   "source": [
    "We are going to cluster the stations based on the Lat, Long, and Total Precepetation. Is there any missing Lat, Long or Total Precipitation ? If yes, remove entries that have missing values."
   ]
  },
  {
   "cell_type": "code",
   "execution_count": 4,
   "metadata": {
    "button": false,
    "collapsed": true,
    "new_sheet": false,
    "run_control": {
     "read_only": false
    }
   },
   "outputs": [
    {
     "data": {
      "text/html": [
       "<table>\n",
       "<thead><tr><th></th><th scope=col>Stn_Name</th><th scope=col>Lat</th><th scope=col>Long</th><th scope=col>Prov</th><th scope=col>Tm</th><th scope=col>DwTm</th><th scope=col>D</th><th scope=col>Tx</th><th scope=col>DwTx</th><th scope=col>Tn</th><th scope=col>⋯</th><th scope=col>DwP</th><th scope=col>P.N</th><th scope=col>S_G</th><th scope=col>Pd</th><th scope=col>BS</th><th scope=col>DwBS</th><th scope=col>BS.</th><th scope=col>HDD</th><th scope=col>CDD</th><th scope=col>Stn_No</th></tr></thead>\n",
       "<tbody>\n",
       "\t<tr><th scope=row>1</th><td>CHEMAINUS             </td><td>48.935                </td><td>-123.742              </td><td>BC                    </td><td>8.2                   </td><td> 0                    </td><td> NA                   </td><td>13.5                  </td><td>0                     </td><td> 1.0                  </td><td>⋯                     </td><td>0                     </td><td> NA                   </td><td> 0                    </td><td>12                    </td><td>NA                    </td><td>NA                    </td><td>NA                    </td><td>273.3                 </td><td>0                     </td><td>1011500               </td></tr>\n",
       "\t<tr><th scope=row>2</th><td>COWICHAN LAKE FORESTRY</td><td>48.824                </td><td>-124.133              </td><td>BC                    </td><td>7.0                   </td><td> 0                    </td><td>3.0                   </td><td>15.0                  </td><td>0                     </td><td>-3.0                  </td><td>⋯                     </td><td>0                     </td><td>104                   </td><td> 0                    </td><td>12                    </td><td>NA                    </td><td>NA                    </td><td>NA                    </td><td>307.0                 </td><td>0                     </td><td>1012040               </td></tr>\n",
       "\t<tr><th scope=row>3</th><td>LAKE COWICHAN         </td><td>48.829                </td><td>-124.052              </td><td>BC                    </td><td>6.8                   </td><td>13                    </td><td>2.8                   </td><td>16.0                  </td><td>9                     </td><td>-2.5                  </td><td>⋯                     </td><td>9                     </td><td> NA                   </td><td>NA                    </td><td>11                    </td><td>NA                    </td><td>NA                    </td><td>NA                    </td><td>168.1                 </td><td>0                     </td><td>1012055               </td></tr>\n",
       "\t<tr><th scope=row>5</th><td>DUNCAN KELVIN CREEK   </td><td>48.735                </td><td>-123.728              </td><td>BC                    </td><td>7.7                   </td><td> 2                    </td><td>3.4                   </td><td>14.5                  </td><td>2                     </td><td>-1.0                  </td><td>⋯                     </td><td>2                     </td><td> NA                   </td><td>NA                    </td><td>11                    </td><td>NA                    </td><td>NA                    </td><td>NA                    </td><td>267.7                 </td><td>0                     </td><td>1012573               </td></tr>\n",
       "\t<tr><th scope=row>6</th><td>ESQUIMALT HARBOUR     </td><td>48.432                </td><td>-123.439              </td><td>BC                    </td><td>8.8                   </td><td> 0                    </td><td> NA                   </td><td>13.1                  </td><td>0                     </td><td> 1.9                  </td><td>⋯                     </td><td>8                     </td><td> NA                   </td><td>NA                    </td><td>12                    </td><td>NA                    </td><td>NA                    </td><td>NA                    </td><td>258.6                 </td><td>0                     </td><td>1012710               </td></tr>\n",
       "\t<tr><th scope=row>7</th><td>GALIANO NORTH         </td><td>48.985                </td><td>-123.573              </td><td>BC                    </td><td>8.9                   </td><td> 7                    </td><td> NA                   </td><td>13.5                  </td><td>7                     </td><td> 2.0                  </td><td>⋯                     </td><td>7                     </td><td> NA                   </td><td> 0                    </td><td>10                    </td><td>NA                    </td><td>NA                    </td><td>NA                    </td><td>191.7                 </td><td>0                     </td><td>10130MN               </td></tr>\n",
       "</tbody>\n",
       "</table>\n"
      ],
      "text/latex": [
       "\\begin{tabular}{r|lllllllllllllllllllllllll}\n",
       "  & Stn\\_Name & Lat & Long & Prov & Tm & DwTm & D & Tx & DwTx & Tn & ⋯ & DwP & P.N & S\\_G & Pd & BS & DwBS & BS. & HDD & CDD & Stn\\_No\\\\\n",
       "\\hline\n",
       "\t1 & CHEMAINUS              & 48.935                 & -123.742               & BC                     & 8.2                    &  0                     &  NA                    & 13.5                   & 0                      &  1.0                   & ⋯                      & 0                      &  NA                    &  0                     & 12                     & NA                     & NA                     & NA                     & 273.3                  & 0                      & 1011500               \\\\\n",
       "\t2 & COWICHAN LAKE FORESTRY & 48.824                 & -124.133               & BC                     & 7.0                    &  0                     & 3.0                    & 15.0                   & 0                      & -3.0                   & ⋯                      & 0                      & 104                    &  0                     & 12                     & NA                     & NA                     & NA                     & 307.0                  & 0                      & 1012040               \\\\\n",
       "\t3 & LAKE COWICHAN          & 48.829                 & -124.052               & BC                     & 6.8                    & 13                     & 2.8                    & 16.0                   & 9                      & -2.5                   & ⋯                      & 9                      &  NA                    & NA                     & 11                     & NA                     & NA                     & NA                     & 168.1                  & 0                      & 1012055               \\\\\n",
       "\t5 & DUNCAN KELVIN CREEK    & 48.735                 & -123.728               & BC                     & 7.7                    &  2                     & 3.4                    & 14.5                   & 2                      & -1.0                   & ⋯                      & 2                      &  NA                    & NA                     & 11                     & NA                     & NA                     & NA                     & 267.7                  & 0                      & 1012573               \\\\\n",
       "\t6 & ESQUIMALT HARBOUR      & 48.432                 & -123.439               & BC                     & 8.8                    &  0                     &  NA                    & 13.1                   & 0                      &  1.9                   & ⋯                      & 8                      &  NA                    & NA                     & 12                     & NA                     & NA                     & NA                     & 258.6                  & 0                      & 1012710               \\\\\n",
       "\t7 & GALIANO NORTH          & 48.985                 & -123.573               & BC                     & 8.9                    &  7                     &  NA                    & 13.5                   & 7                      &  2.0                   & ⋯                      & 7                      &  NA                    &  0                     & 10                     & NA                     & NA                     & NA                     & 191.7                  & 0                      & 10130MN               \\\\\n",
       "\\end{tabular}\n"
      ],
      "text/markdown": [
       "\n",
       "| <!--/--> | Stn_Name | Lat | Long | Prov | Tm | DwTm | D | Tx | DwTx | Tn | ⋯ | DwP | P.N | S_G | Pd | BS | DwBS | BS. | HDD | CDD | Stn_No | \n",
       "|---|---|---|---|---|---|\n",
       "| 1 | CHEMAINUS              | 48.935                 | -123.742               | BC                     | 8.2                    |  0                     |  NA                    | 13.5                   | 0                      |  1.0                   | ⋯                      | 0                      |  NA                    |  0                     | 12                     | NA                     | NA                     | NA                     | 273.3                  | 0                      | 1011500                | \n",
       "| 2 | COWICHAN LAKE FORESTRY | 48.824                 | -124.133               | BC                     | 7.0                    |  0                     | 3.0                    | 15.0                   | 0                      | -3.0                   | ⋯                      | 0                      | 104                    |  0                     | 12                     | NA                     | NA                     | NA                     | 307.0                  | 0                      | 1012040                | \n",
       "| 3 | LAKE COWICHAN          | 48.829                 | -124.052               | BC                     | 6.8                    | 13                     | 2.8                    | 16.0                   | 9                      | -2.5                   | ⋯                      | 9                      |  NA                    | NA                     | 11                     | NA                     | NA                     | NA                     | 168.1                  | 0                      | 1012055                | \n",
       "| 5 | DUNCAN KELVIN CREEK    | 48.735                 | -123.728               | BC                     | 7.7                    |  2                     | 3.4                    | 14.5                   | 2                      | -1.0                   | ⋯                      | 2                      |  NA                    | NA                     | 11                     | NA                     | NA                     | NA                     | 267.7                  | 0                      | 1012573                | \n",
       "| 6 | ESQUIMALT HARBOUR      | 48.432                 | -123.439               | BC                     | 8.8                    |  0                     |  NA                    | 13.1                   | 0                      |  1.9                   | ⋯                      | 8                      |  NA                    | NA                     | 12                     | NA                     | NA                     | NA                     | 258.6                  | 0                      | 1012710                | \n",
       "| 7 | GALIANO NORTH          | 48.985                 | -123.573               | BC                     | 8.9                    |  7                     |  NA                    | 13.5                   | 7                      |  2.0                   | ⋯                      | 7                      |  NA                    |  0                     | 10                     | NA                     | NA                     | NA                     | 191.7                  | 0                      | 10130MN                | \n",
       "\n",
       "\n"
      ],
      "text/plain": [
       "  Stn_Name               Lat    Long     Prov Tm  DwTm D   Tx   DwTx Tn   ⋯ DwP\n",
       "1 CHEMAINUS              48.935 -123.742 BC   8.2  0    NA 13.5 0     1.0 ⋯ 0  \n",
       "2 COWICHAN LAKE FORESTRY 48.824 -124.133 BC   7.0  0   3.0 15.0 0    -3.0 ⋯ 0  \n",
       "3 LAKE COWICHAN          48.829 -124.052 BC   6.8 13   2.8 16.0 9    -2.5 ⋯ 9  \n",
       "5 DUNCAN KELVIN CREEK    48.735 -123.728 BC   7.7  2   3.4 14.5 2    -1.0 ⋯ 2  \n",
       "6 ESQUIMALT HARBOUR      48.432 -123.439 BC   8.8  0    NA 13.1 0     1.9 ⋯ 8  \n",
       "7 GALIANO NORTH          48.985 -123.573 BC   8.9  7    NA 13.5 7     2.0 ⋯ 7  \n",
       "  P.N S_G Pd BS DwBS BS. HDD   CDD Stn_No \n",
       "1  NA  0  12 NA NA   NA  273.3 0   1011500\n",
       "2 104  0  12 NA NA   NA  307.0 0   1012040\n",
       "3  NA NA  11 NA NA   NA  168.1 0   1012055\n",
       "5  NA NA  11 NA NA   NA  267.7 0   1012573\n",
       "6  NA NA  12 NA NA   NA  258.6 0   1012710\n",
       "7  NA  0  10 NA NA   NA  191.7 0   10130MN"
      ]
     },
     "metadata": {},
     "output_type": "display_data"
    }
   ],
   "source": [
    "## your ccode here:\n",
    "\n",
    "WeatherStations <- WeatherStations[complete.cases( WeatherStations$Lat, WeatherStations$Long, WeatherStations$P),]\n",
    "head(WeatherStations)\n"
   ]
  },
  {
   "cell_type": "markdown",
   "metadata": {},
   "source": [
    "<div align=\"right\">\n",
    "<a href=\"#p2\" class=\"btn btn-default\" data-toggle=\"collapse\">Click here for the solution</a>\n",
    "</div>\n",
    "<div id=\"p2\" class=\"collapse\">\n",
    "```\n",
    "WeatherStations <- WeatherStations[complete.cases( WeatherStations$Lat, WeatherStations$Long, WeatherStations$P),]\n",
    "head(WeatherStations)\n",
    "```\n",
    "</div>"
   ]
  },
  {
   "cell_type": "markdown",
   "metadata": {
    "button": false,
    "new_sheet": false,
    "run_control": {
     "read_only": false
    }
   },
   "source": [
    "Filter for any entries that lie outside of Canada"
   ]
  },
  {
   "cell_type": "code",
   "execution_count": 5,
   "metadata": {
    "button": false,
    "collapsed": true,
    "new_sheet": false,
    "run_control": {
     "read_only": false
    },
    "scrolled": true
   },
   "outputs": [
    {
     "data": {
      "text/html": [
       "<table>\n",
       "<thead><tr><th scope=col>Stn_Name</th><th scope=col>Lat</th><th scope=col>Long</th><th scope=col>Prov</th><th scope=col>Tm</th><th scope=col>DwTm</th><th scope=col>D</th><th scope=col>Tx</th><th scope=col>DwTx</th><th scope=col>Tn</th><th scope=col>⋯</th><th scope=col>DwP</th><th scope=col>P.N</th><th scope=col>S_G</th><th scope=col>Pd</th><th scope=col>BS</th><th scope=col>DwBS</th><th scope=col>BS.</th><th scope=col>HDD</th><th scope=col>CDD</th><th scope=col>Stn_No</th></tr></thead>\n",
       "<tbody>\n",
       "\t<tr><td>CHEMAINUS             </td><td>48.935                </td><td>-123.742              </td><td>BC                    </td><td>8.2                   </td><td> 0                    </td><td> NA                   </td><td>13.5                  </td><td>0                     </td><td> 1.0                  </td><td>⋯                     </td><td>0                     </td><td> NA                   </td><td> 0                    </td><td>12                    </td><td>NA                    </td><td>NA                    </td><td>NA                    </td><td>273.3                 </td><td>0                     </td><td>1011500               </td></tr>\n",
       "\t<tr><td>COWICHAN LAKE FORESTRY</td><td>48.824                </td><td>-124.133              </td><td>BC                    </td><td>7.0                   </td><td> 0                    </td><td>3.0                   </td><td>15.0                  </td><td>0                     </td><td>-3.0                  </td><td>⋯                     </td><td>0                     </td><td>104                   </td><td> 0                    </td><td>12                    </td><td>NA                    </td><td>NA                    </td><td>NA                    </td><td>307.0                 </td><td>0                     </td><td>1012040               </td></tr>\n",
       "\t<tr><td>LAKE COWICHAN         </td><td>48.829                </td><td>-124.052              </td><td>BC                    </td><td>6.8                   </td><td>13                    </td><td>2.8                   </td><td>16.0                  </td><td>9                     </td><td>-2.5                  </td><td>⋯                     </td><td>9                     </td><td> NA                   </td><td>NA                    </td><td>11                    </td><td>NA                    </td><td>NA                    </td><td>NA                    </td><td>168.1                 </td><td>0                     </td><td>1012055               </td></tr>\n",
       "\t<tr><td>DUNCAN KELVIN CREEK   </td><td>48.735                </td><td>-123.728              </td><td>BC                    </td><td>7.7                   </td><td> 2                    </td><td>3.4                   </td><td>14.5                  </td><td>2                     </td><td>-1.0                  </td><td>⋯                     </td><td>2                     </td><td> NA                   </td><td>NA                    </td><td>11                    </td><td>NA                    </td><td>NA                    </td><td>NA                    </td><td>267.7                 </td><td>0                     </td><td>1012573               </td></tr>\n",
       "\t<tr><td>ESQUIMALT HARBOUR     </td><td>48.432                </td><td>-123.439              </td><td>BC                    </td><td>8.8                   </td><td> 0                    </td><td> NA                   </td><td>13.1                  </td><td>0                     </td><td> 1.9                  </td><td>⋯                     </td><td>8                     </td><td> NA                   </td><td>NA                    </td><td>12                    </td><td>NA                    </td><td>NA                    </td><td>NA                    </td><td>258.6                 </td><td>0                     </td><td>1012710               </td></tr>\n",
       "\t<tr><td>GALIANO NORTH         </td><td>48.985                </td><td>-123.573              </td><td>BC                    </td><td>8.9                   </td><td> 7                    </td><td> NA                   </td><td>13.5                  </td><td>7                     </td><td> 2.0                  </td><td>⋯                     </td><td>7                     </td><td> NA                   </td><td> 0                    </td><td>10                    </td><td>NA                    </td><td>NA                    </td><td>NA                    </td><td>191.7                 </td><td>0                     </td><td>10130MN               </td></tr>\n",
       "</tbody>\n",
       "</table>\n"
      ],
      "text/latex": [
       "\\begin{tabular}{r|lllllllllllllllllllllllll}\n",
       " Stn\\_Name & Lat & Long & Prov & Tm & DwTm & D & Tx & DwTx & Tn & ⋯ & DwP & P.N & S\\_G & Pd & BS & DwBS & BS. & HDD & CDD & Stn\\_No\\\\\n",
       "\\hline\n",
       "\t CHEMAINUS              & 48.935                 & -123.742               & BC                     & 8.2                    &  0                     &  NA                    & 13.5                   & 0                      &  1.0                   & ⋯                      & 0                      &  NA                    &  0                     & 12                     & NA                     & NA                     & NA                     & 273.3                  & 0                      & 1011500               \\\\\n",
       "\t COWICHAN LAKE FORESTRY & 48.824                 & -124.133               & BC                     & 7.0                    &  0                     & 3.0                    & 15.0                   & 0                      & -3.0                   & ⋯                      & 0                      & 104                    &  0                     & 12                     & NA                     & NA                     & NA                     & 307.0                  & 0                      & 1012040               \\\\\n",
       "\t LAKE COWICHAN          & 48.829                 & -124.052               & BC                     & 6.8                    & 13                     & 2.8                    & 16.0                   & 9                      & -2.5                   & ⋯                      & 9                      &  NA                    & NA                     & 11                     & NA                     & NA                     & NA                     & 168.1                  & 0                      & 1012055               \\\\\n",
       "\t DUNCAN KELVIN CREEK    & 48.735                 & -123.728               & BC                     & 7.7                    &  2                     & 3.4                    & 14.5                   & 2                      & -1.0                   & ⋯                      & 2                      &  NA                    & NA                     & 11                     & NA                     & NA                     & NA                     & 267.7                  & 0                      & 1012573               \\\\\n",
       "\t ESQUIMALT HARBOUR      & 48.432                 & -123.439               & BC                     & 8.8                    &  0                     &  NA                    & 13.1                   & 0                      &  1.9                   & ⋯                      & 8                      &  NA                    & NA                     & 12                     & NA                     & NA                     & NA                     & 258.6                  & 0                      & 1012710               \\\\\n",
       "\t GALIANO NORTH          & 48.985                 & -123.573               & BC                     & 8.9                    &  7                     &  NA                    & 13.5                   & 7                      &  2.0                   & ⋯                      & 7                      &  NA                    &  0                     & 10                     & NA                     & NA                     & NA                     & 191.7                  & 0                      & 10130MN               \\\\\n",
       "\\end{tabular}\n"
      ],
      "text/markdown": [
       "\n",
       "Stn_Name | Lat | Long | Prov | Tm | DwTm | D | Tx | DwTx | Tn | ⋯ | DwP | P.N | S_G | Pd | BS | DwBS | BS. | HDD | CDD | Stn_No | \n",
       "|---|---|---|---|---|---|\n",
       "| CHEMAINUS              | 48.935                 | -123.742               | BC                     | 8.2                    |  0                     |  NA                    | 13.5                   | 0                      |  1.0                   | ⋯                      | 0                      |  NA                    |  0                     | 12                     | NA                     | NA                     | NA                     | 273.3                  | 0                      | 1011500                | \n",
       "| COWICHAN LAKE FORESTRY | 48.824                 | -124.133               | BC                     | 7.0                    |  0                     | 3.0                    | 15.0                   | 0                      | -3.0                   | ⋯                      | 0                      | 104                    |  0                     | 12                     | NA                     | NA                     | NA                     | 307.0                  | 0                      | 1012040                | \n",
       "| LAKE COWICHAN          | 48.829                 | -124.052               | BC                     | 6.8                    | 13                     | 2.8                    | 16.0                   | 9                      | -2.5                   | ⋯                      | 9                      |  NA                    | NA                     | 11                     | NA                     | NA                     | NA                     | 168.1                  | 0                      | 1012055                | \n",
       "| DUNCAN KELVIN CREEK    | 48.735                 | -123.728               | BC                     | 7.7                    |  2                     | 3.4                    | 14.5                   | 2                      | -1.0                   | ⋯                      | 2                      |  NA                    | NA                     | 11                     | NA                     | NA                     | NA                     | 267.7                  | 0                      | 1012573                | \n",
       "| ESQUIMALT HARBOUR      | 48.432                 | -123.439               | BC                     | 8.8                    |  0                     |  NA                    | 13.1                   | 0                      |  1.9                   | ⋯                      | 8                      |  NA                    | NA                     | 12                     | NA                     | NA                     | NA                     | 258.6                  | 0                      | 1012710                | \n",
       "| GALIANO NORTH          | 48.985                 | -123.573               | BC                     | 8.9                    |  7                     |  NA                    | 13.5                   | 7                      |  2.0                   | ⋯                      | 7                      |  NA                    |  0                     | 10                     | NA                     | NA                     | NA                     | 191.7                  | 0                      | 10130MN                | \n",
       "\n",
       "\n"
      ],
      "text/plain": [
       "  Stn_Name               Lat    Long     Prov Tm  DwTm D   Tx   DwTx Tn   ⋯ DwP\n",
       "1 CHEMAINUS              48.935 -123.742 BC   8.2  0    NA 13.5 0     1.0 ⋯ 0  \n",
       "2 COWICHAN LAKE FORESTRY 48.824 -124.133 BC   7.0  0   3.0 15.0 0    -3.0 ⋯ 0  \n",
       "3 LAKE COWICHAN          48.829 -124.052 BC   6.8 13   2.8 16.0 9    -2.5 ⋯ 9  \n",
       "4 DUNCAN KELVIN CREEK    48.735 -123.728 BC   7.7  2   3.4 14.5 2    -1.0 ⋯ 2  \n",
       "5 ESQUIMALT HARBOUR      48.432 -123.439 BC   8.8  0    NA 13.1 0     1.9 ⋯ 8  \n",
       "6 GALIANO NORTH          48.985 -123.573 BC   8.9  7    NA 13.5 7     2.0 ⋯ 7  \n",
       "  P.N S_G Pd BS DwBS BS. HDD   CDD Stn_No \n",
       "1  NA  0  12 NA NA   NA  273.3 0   1011500\n",
       "2 104  0  12 NA NA   NA  307.0 0   1012040\n",
       "3  NA NA  11 NA NA   NA  168.1 0   1012055\n",
       "4  NA NA  11 NA NA   NA  267.7 0   1012573\n",
       "5  NA NA  12 NA NA   NA  258.6 0   1012710\n",
       "6  NA  0  10 NA NA   NA  191.7 0   10130MN"
      ]
     },
     "metadata": {},
     "output_type": "display_data"
    }
   ],
   "source": [
    "# Canada Coordinates\n",
    "llon <- -140    # lower limit longitude\n",
    "ulon <- -50     # upper limit longitide\n",
    "llat <- 40      # lower limit latitude\n",
    "ulat <- 65      # upper limit latitude\n",
    "## your ccode here:\n",
    "\n",
    "filtered_stations <- subset(WeatherStations, Lat > llat & Lat < ulat & Long > llon & Long < ulon)\n",
    "rownames(filtered_stations) <- 1:nrow(filtered_stations)\n",
    "head(filtered_stations)\n",
    "\n"
   ]
  },
  {
   "cell_type": "markdown",
   "metadata": {},
   "source": [
    "<div align=\"right\">\n",
    "<a href=\"#p3\" class=\"btn btn-default\" data-toggle=\"collapse\">Click here for the solution</a>\n",
    "</div>\n",
    "<div id=\"p3\" class=\"collapse\">\n",
    "```\n",
    "filtered_stations <- subset(WeatherStations, Lat > llat & Lat < ulat & Long > llon & Long < ulon)\n",
    "rownames(filtered_stations) <- 1:nrow(filtered_stations)\n",
    "head(filtered_stations)\n",
    "```\n",
    "</div>"
   ]
  },
  {
   "cell_type": "markdown",
   "metadata": {
    "button": false,
    "new_sheet": false,
    "run_control": {
     "read_only": false
    }
   },
   "source": [
    "### 4. Data selection\n",
    "Lets Randomly sample dataset for thirty weather stations because we dont want to show a very big dendogram."
   ]
  },
  {
   "cell_type": "code",
   "execution_count": 6,
   "metadata": {
    "button": false,
    "collapsed": true,
    "new_sheet": false,
    "run_control": {
     "read_only": false
    }
   },
   "outputs": [
    {
     "data": {
      "text/html": [
       "<table>\n",
       "<thead><tr><th scope=col>Stn_Name</th><th scope=col>Lat</th><th scope=col>Long</th><th scope=col>Prov</th><th scope=col>Tm</th><th scope=col>DwTm</th><th scope=col>D</th><th scope=col>Tx</th><th scope=col>DwTx</th><th scope=col>Tn</th><th scope=col>⋯</th><th scope=col>DwP</th><th scope=col>P.N</th><th scope=col>S_G</th><th scope=col>Pd</th><th scope=col>BS</th><th scope=col>DwBS</th><th scope=col>BS.</th><th scope=col>HDD</th><th scope=col>CDD</th><th scope=col>Stn_No</th></tr></thead>\n",
       "<tbody>\n",
       "\t<tr><td>FORESTBURG AGCM    </td><td>52.548             </td><td>-112.123           </td><td>AB                 </td><td>-11.1              </td><td> 0                 </td><td>  NA               </td><td> 6.4               </td><td>0                  </td><td>-26.5              </td><td>⋯                  </td><td>0                  </td><td> NA                </td><td>NA                 </td><td> 7                 </td><td>NA                 </td><td>NA                 </td><td>NA                 </td><td> 815.2             </td><td>0                  </td><td>3012653            </td></tr>\n",
       "\t<tr><td>ST NAZAIRE         </td><td>45.733             </td><td> -72.617           </td><td>QC                 </td><td>-17.1              </td><td>11                 </td><td>-8.3               </td><td>-3.0               </td><td>9                  </td><td>-31.0              </td><td>⋯                  </td><td>2                  </td><td> NA                </td><td>76                 </td><td>11                 </td><td>NA                 </td><td>NA                 </td><td>NA                 </td><td> 596.6             </td><td>0                  </td><td>7027588            </td></tr>\n",
       "\t<tr><td>EDSON CLIMATE      </td><td>53.580             </td><td>-116.453           </td><td>AB                 </td><td> -7.6              </td><td> 0                 </td><td>  NA               </td><td>12.9               </td><td>0                  </td><td>-28.2              </td><td>⋯                  </td><td>0                  </td><td> NA                </td><td>35                 </td><td> 6                 </td><td>NA                 </td><td>NA                 </td><td>NA                 </td><td> 717.7             </td><td>0                  </td><td>3062246            </td></tr>\n",
       "\t<tr><td>MATAGAMI A         </td><td>49.762             </td><td> -77.803           </td><td>QC                 </td><td>-24.7              </td><td> 1                 </td><td>  NA               </td><td>-5.7               </td><td>1                  </td><td>-39.2              </td><td>⋯                  </td><td>2                  </td><td> NA                </td><td>NA                 </td><td> 0                 </td><td>NA                 </td><td>NA                 </td><td>NA                 </td><td>1153.6             </td><td>0                  </td><td>7094636            </td></tr>\n",
       "\t<tr><td>ST MARGARET'S BAY  </td><td>44.700             </td><td> -63.900           </td><td>NS                 </td><td> -7.5              </td><td> 0                 </td><td>-2.4               </td><td> 5.0               </td><td>0                  </td><td>-21.0              </td><td>⋯                  </td><td>0                  </td><td>113                </td><td> 0                 </td><td>10                 </td><td>NA                 </td><td>NA                 </td><td>NA                 </td><td> 713.8             </td><td>0                  </td><td>8204800            </td></tr>\n",
       "\t<tr><td>GOLD RIVER TOWNSITE</td><td>49.779             </td><td>-126.055           </td><td>BC                 </td><td>  7.5              </td><td> 0                 </td><td> 4.2               </td><td>16.0               </td><td>0                  </td><td> -3.0              </td><td>⋯                  </td><td>0                  </td><td>100                </td><td> 0                 </td><td>15                 </td><td>NA                 </td><td>NA                 </td><td>NA                 </td><td> 294.5             </td><td>0                  </td><td>1033232            </td></tr>\n",
       "</tbody>\n",
       "</table>\n"
      ],
      "text/latex": [
       "\\begin{tabular}{r|lllllllllllllllllllllllll}\n",
       " Stn\\_Name & Lat & Long & Prov & Tm & DwTm & D & Tx & DwTx & Tn & ⋯ & DwP & P.N & S\\_G & Pd & BS & DwBS & BS. & HDD & CDD & Stn\\_No\\\\\n",
       "\\hline\n",
       "\t FORESTBURG AGCM     & 52.548              & -112.123            & AB                  & -11.1               &  0                  &   NA                &  6.4                & 0                   & -26.5               & ⋯                   & 0                   &  NA                 & NA                  &  7                  & NA                  & NA                  & NA                  &  815.2              & 0                   & 3012653            \\\\\n",
       "\t ST NAZAIRE          & 45.733              &  -72.617            & QC                  & -17.1               & 11                  & -8.3                & -3.0                & 9                   & -31.0               & ⋯                   & 2                   &  NA                 & 76                  & 11                  & NA                  & NA                  & NA                  &  596.6              & 0                   & 7027588            \\\\\n",
       "\t EDSON CLIMATE       & 53.580              & -116.453            & AB                  &  -7.6               &  0                  &   NA                & 12.9                & 0                   & -28.2               & ⋯                   & 0                   &  NA                 & 35                  &  6                  & NA                  & NA                  & NA                  &  717.7              & 0                   & 3062246            \\\\\n",
       "\t MATAGAMI A          & 49.762              &  -77.803            & QC                  & -24.7               &  1                  &   NA                & -5.7                & 1                   & -39.2               & ⋯                   & 2                   &  NA                 & NA                  &  0                  & NA                  & NA                  & NA                  & 1153.6              & 0                   & 7094636            \\\\\n",
       "\t ST MARGARET'S BAY   & 44.700              &  -63.900            & NS                  &  -7.5               &  0                  & -2.4                &  5.0                & 0                   & -21.0               & ⋯                   & 0                   & 113                 &  0                  & 10                  & NA                  & NA                  & NA                  &  713.8              & 0                   & 8204800            \\\\\n",
       "\t GOLD RIVER TOWNSITE & 49.779              & -126.055            & BC                  &   7.5               &  0                  &  4.2                & 16.0                & 0                   &  -3.0               & ⋯                   & 0                   & 100                 &  0                  & 15                  & NA                  & NA                  & NA                  &  294.5              & 0                   & 1033232            \\\\\n",
       "\\end{tabular}\n"
      ],
      "text/markdown": [
       "\n",
       "Stn_Name | Lat | Long | Prov | Tm | DwTm | D | Tx | DwTx | Tn | ⋯ | DwP | P.N | S_G | Pd | BS | DwBS | BS. | HDD | CDD | Stn_No | \n",
       "|---|---|---|---|---|---|\n",
       "| FORESTBURG AGCM     | 52.548              | -112.123            | AB                  | -11.1               |  0                  |   NA                |  6.4                | 0                   | -26.5               | ⋯                   | 0                   |  NA                 | NA                  |  7                  | NA                  | NA                  | NA                  |  815.2              | 0                   | 3012653             | \n",
       "| ST NAZAIRE          | 45.733              |  -72.617            | QC                  | -17.1               | 11                  | -8.3                | -3.0                | 9                   | -31.0               | ⋯                   | 2                   |  NA                 | 76                  | 11                  | NA                  | NA                  | NA                  |  596.6              | 0                   | 7027588             | \n",
       "| EDSON CLIMATE       | 53.580              | -116.453            | AB                  |  -7.6               |  0                  |   NA                | 12.9                | 0                   | -28.2               | ⋯                   | 0                   |  NA                 | 35                  |  6                  | NA                  | NA                  | NA                  |  717.7              | 0                   | 3062246             | \n",
       "| MATAGAMI A          | 49.762              |  -77.803            | QC                  | -24.7               |  1                  |   NA                | -5.7                | 1                   | -39.2               | ⋯                   | 2                   |  NA                 | NA                  |  0                  | NA                  | NA                  | NA                  | 1153.6              | 0                   | 7094636             | \n",
       "| ST MARGARET'S BAY   | 44.700              |  -63.900            | NS                  |  -7.5               |  0                  | -2.4                |  5.0                | 0                   | -21.0               | ⋯                   | 0                   | 113                 |  0                  | 10                  | NA                  | NA                  | NA                  |  713.8              | 0                   | 8204800             | \n",
       "| GOLD RIVER TOWNSITE | 49.779              | -126.055            | BC                  |   7.5               |  0                  |  4.2                | 16.0                | 0                   |  -3.0               | ⋯                   | 0                   | 100                 |  0                  | 15                  | NA                  | NA                  | NA                  |  294.5              | 0                   | 1033232             | \n",
       "\n",
       "\n"
      ],
      "text/plain": [
       "  Stn_Name            Lat    Long     Prov Tm    DwTm D    Tx   DwTx Tn    ⋯\n",
       "1 FORESTBURG AGCM     52.548 -112.123 AB   -11.1  0     NA  6.4 0    -26.5 ⋯\n",
       "2 ST NAZAIRE          45.733  -72.617 QC   -17.1 11   -8.3 -3.0 9    -31.0 ⋯\n",
       "3 EDSON CLIMATE       53.580 -116.453 AB    -7.6  0     NA 12.9 0    -28.2 ⋯\n",
       "4 MATAGAMI A          49.762  -77.803 QC   -24.7  1     NA -5.7 1    -39.2 ⋯\n",
       "5 ST MARGARET'S BAY   44.700  -63.900 NS    -7.5  0   -2.4  5.0 0    -21.0 ⋯\n",
       "6 GOLD RIVER TOWNSITE 49.779 -126.055 BC     7.5  0    4.2 16.0 0     -3.0 ⋯\n",
       "  DwP P.N S_G Pd BS DwBS BS. HDD    CDD Stn_No \n",
       "1 0    NA NA   7 NA NA   NA   815.2 0   3012653\n",
       "2 2    NA 76  11 NA NA   NA   596.6 0   7027588\n",
       "3 0    NA 35   6 NA NA   NA   717.7 0   3062246\n",
       "4 2    NA NA   0 NA NA   NA  1153.6 0   7094636\n",
       "5 0   113  0  10 NA NA   NA   713.8 0   8204800\n",
       "6 0   100  0  15 NA NA   NA   294.5 0   1033232"
      ]
     },
     "metadata": {},
     "output_type": "display_data"
    }
   ],
   "source": [
    "# NOTE: This is why the dendogram is basically unusable in most situations.\n",
    "\n",
    "number_stations <- 30 # number of stations\n",
    "set.seed(123) # ensure reproducibility\n",
    "random_stations <- filtered_stations[sample.int(nrow(filtered_stations))[1:number_stations],]\n",
    "rownames(random_stations) <- 1:nrow(random_stations)\n",
    "head(random_stations)"
   ]
  },
  {
   "cell_type": "markdown",
   "metadata": {
    "button": false,
    "new_sheet": false,
    "run_control": {
     "read_only": false
    }
   },
   "source": [
    "### 5. Clustering\n",
    "\n",
    "In this exercise, we will use Agglomorative algorithm. It would be interesting to assign weather stations clustered by total precipitation. Cluster data using total precipitation and location, and then use __ggdendrogram__ to plot dendrogram of clusters:"
   ]
  },
  {
   "cell_type": "code",
   "execution_count": 7,
   "metadata": {
    "button": false,
    "collapsed": true,
    "new_sheet": false,
    "run_control": {
     "read_only": false
    }
   },
   "outputs": [
    {
     "data": {},
     "metadata": {},
     "output_type": "display_data"
    },
    {
     "data": {
      "image/png": "[encoded data removed]",
      "text/plain": [
       "plot without title"
      ]
     },
     "metadata": {},
     "output_type": "display_data",
     "source": "R display func"
    }
   ],
   "source": [
    "## your ccode here:\n",
    "\n",
    "temp_loc_dataframe <- scale(data.frame(\"TotalPrecipitation\" = random_stations$P,\n",
    "                                       \"Lat\" = random_stations$Lat,\n",
    "                                       \"Long\" = random_stations$Long), \n",
    "                            center = TRUE, scale = TRUE)\n",
    "\n",
    "rownames(temp_loc_dataframe) <- paste(random_stations$Tn, random_stations$Tm, random_stations$Tx, random_stations$Stn_Name, random_stations$Lat, random_stations$Long, sep=\", \")\n",
    "\n",
    "D <- dist(as.matrix(temp_loc_dataframe))\n",
    "hc <- hclust(D)\n",
    "ggdendrogram(hc, rotate = TRUE, theme_dendro = TRUE, color = \"tomato\")\n",
    "\n"
   ]
  },
  {
   "cell_type": "markdown",
   "metadata": {},
   "source": [
    "<div align=\"right\">\n",
    "<a href=\"#p4\" class=\"btn btn-default\" data-toggle=\"collapse\">Click here for the solution</a>\n",
    "</div>\n",
    "<div id=\"p4\" class=\"collapse\">\n",
    "```\n",
    "temp_loc_dataframe <- scale(data.frame(\"TotalPrecipitation\" = random_stations$P,\n",
    "                                       \"Lat\" = random_stations$Lat,\n",
    "                                       \"Long\" = random_stations$Long), \n",
    "                            center = TRUE, scale = TRUE)\n",
    "\n",
    "rownames(temp_loc_dataframe) <- paste(random_stations$Tn, random_stations$Tm, random_stations$Tx, random_stations$Stn_Name, random_stations$Lat, random_stations$Long, sep=\", \")\n",
    "\n",
    "D <- dist(as.matrix(temp_loc_dataframe))\n",
    "hc <- hclust(D)\n",
    "ggdendrogram(hc, rotate = TRUE, theme_dendro = TRUE, color = \"tomato\")\n",
    "```\n",
    "</div>"
   ]
  },
  {
   "cell_type": "markdown",
   "metadata": {
    "button": false,
    "new_sheet": false,
    "run_control": {
     "read_only": false
    }
   },
   "source": [
    "Choose threshold of __1.5__ to create distinct clusters:"
   ]
  },
  {
   "cell_type": "code",
   "execution_count": 8,
   "metadata": {
    "button": false,
    "collapsed": true,
    "new_sheet": false,
    "run_control": {
     "read_only": false
    }
   },
   "outputs": [
    {
     "data": {
      "text/html": [
       "<dl class=dl-horizontal>\n",
       "\t<dt>-26.5, -11.1, 6.4, FORESTBURG AGCM, 52.548, -112.123</dt>\n",
       "\t\t<dd>1</dd>\n",
       "\t<dt>-31, -17.1, -3, ST NAZAIRE, 45.733, -72.617</dt>\n",
       "\t\t<dd>2</dd>\n",
       "\t<dt>-28.2, -7.6, 12.9, EDSON CLIMATE, 53.58, -116.453</dt>\n",
       "\t\t<dd>1</dd>\n",
       "\t<dt>-39.2, -24.7, -5.7, MATAGAMI A, 49.762, -77.803</dt>\n",
       "\t\t<dd>3</dd>\n",
       "\t<dt>-21, -7.5, 5, ST MARGARET'S BAY, 44.7, -63.9</dt>\n",
       "\t\t<dd>4</dd>\n",
       "\t<dt>-3, 7.5, 16, GOLD RIVER TOWNSITE, 49.779, -126.055</dt>\n",
       "\t\t<dd>5</dd>\n",
       "\t<dt>-37.6, -21, -1.4, ROBLIN, 51.183, -101.363</dt>\n",
       "\t\t<dd>3</dd>\n",
       "\t<dt>-42, -31.6, -17.8, INUKJUAK A, 58.472, -78.077</dt>\n",
       "\t\t<dd>6</dd>\n",
       "\t<dt>-36, -20.2, -3, ARBORG, 50.933, -97.083</dt>\n",
       "\t\t<dd>3</dd>\n",
       "\t<dt>-36, -19.5, 0.5, LANGENBURG, 50.9, -101.717</dt>\n",
       "\t\t<dd>3</dd>\n",
       "\t<dt>-23, -11.4, 2.5, ELMWOOD, 46.25, -63.333</dt>\n",
       "\t\t<dd>4</dd>\n",
       "\t<dt>-36.2, -16, 0.2, ESTEVAN A, 49.21, -102.966</dt>\n",
       "\t\t<dd>3</dd>\n",
       "\t<dt>-31.5, -12.6, 2.5, TILLSONBURG NORTH, 42.861, -80.741</dt>\n",
       "\t\t<dd>2</dd>\n",
       "\t<dt>-36.2, -21.6, -1.1, THE PAS A, 53.971, -101.091</dt>\n",
       "\t\t<dd>3</dd>\n",
       "\t<dt>-21.3, -3.2, 11.1, PUNTZI MOUNTAIN (AUT), 52.114, -124.136</dt>\n",
       "\t\t<dd>1</dd>\n",
       "\t<dt>-44.5, -36.1, -26.7, PARC NATIONAL DES PINGUALUIT, 61.313, -73.668</dt>\n",
       "\t\t<dd>6</dd>\n",
       "\t<dt>-37.5, -22.8, -4.7, FORT SMITH CLIMATE, 60.026, -111.929</dt>\n",
       "\t\t<dd>7</dd>\n",
       "\t<dt>-5, 7.2, 18, ALBERNI ROBERTSON CREEK, 49.337, -124.982</dt>\n",
       "\t\t<dd>8</dd>\n",
       "\t<dt>-21.7, -8.6, 9.9, EDMONTON STONY PLAIN CS, 53.547, -114.108</dt>\n",
       "\t\t<dd>1</dd>\n",
       "\t<dt>-21, -8.1, 8.4, SYDNEY CS, 46.163, -60.042</dt>\n",
       "\t\t<dd>4</dd>\n",
       "\t<dt>-30, -17.7, -4.1, BARRAGE TEMISCAMINGUE, 46.71, -79.101</dt>\n",
       "\t\t<dd>2</dd>\n",
       "\t<dt>-28, -16.1, -6, FOLDENS, 43.018, -80.781</dt>\n",
       "\t\t<dd>2</dd>\n",
       "\t<dt>-28.4, -14.2, -0.4, KINGSTON CLIMATE, 44.223, -76.599</dt>\n",
       "\t\t<dd>2</dd>\n",
       "\t<dt>-17, -5.4, 7, HARBOUR BRETON, 47.467, -55.833</dt>\n",
       "\t\t<dd>4</dd>\n",
       "\t<dt>-31, -16, -3, MIDLAND WATER POLLUTION CONTROL PLANT, 44.758, -79.875</dt>\n",
       "\t\t<dd>2</dd>\n",
       "\t<dt>-32, -16.3, -3.5, GEORGETOWN WWTP, 43.64, -79.879</dt>\n",
       "\t\t<dd>2</dd>\n",
       "\t<dt>-30.2, -17.3, -0.7, DEERWOOD RCS, 49.4, -98.319</dt>\n",
       "\t\t<dd>3</dd>\n",
       "\t<dt>-35.8, -20.7, -4.8, EAR FALLS (AUT), 50.631, -93.221</dt>\n",
       "\t\t<dd>3</dd>\n",
       "\t<dt>-21.5, -8.3, 10, EDMONTON STONY PLAIN, 53.548, -114.108</dt>\n",
       "\t\t<dd>1</dd>\n",
       "\t<dt>-2, 6.8, 13.5, N VAN SEYMOUR HATCHERY, 49.438, -122.967</dt>\n",
       "\t\t<dd>8</dd>\n",
       "</dl>\n"
      ],
      "text/latex": [
       "\\begin{description*}\n",
       "\\item[-26.5, -11.1, 6.4, FORESTBURG AGCM, 52.548, -112.123] 1\n",
       "\\item[-31, -17.1, -3, ST NAZAIRE, 45.733, -72.617] 2\n",
       "\\item[-28.2, -7.6, 12.9, EDSON CLIMATE, 53.58, -116.453] 1\n",
       "\\item[-39.2, -24.7, -5.7, MATAGAMI A, 49.762, -77.803] 3\n",
       "\\item[-21, -7.5, 5, ST MARGARET'S BAY, 44.7, -63.9] 4\n",
       "\\item[-3, 7.5, 16, GOLD RIVER TOWNSITE, 49.779, -126.055] 5\n",
       "\\item[-37.6, -21, -1.4, ROBLIN, 51.183, -101.363] 3\n",
       "\\item[-42, -31.6, -17.8, INUKJUAK A, 58.472, -78.077] 6\n",
       "\\item[-36, -20.2, -3, ARBORG, 50.933, -97.083] 3\n",
       "\\item[-36, -19.5, 0.5, LANGENBURG, 50.9, -101.717] 3\n",
       "\\item[-23, -11.4, 2.5, ELMWOOD, 46.25, -63.333] 4\n",
       "\\item[-36.2, -16, 0.2, ESTEVAN A, 49.21, -102.966] 3\n",
       "\\item[-31.5, -12.6, 2.5, TILLSONBURG NORTH, 42.861, -80.741] 2\n",
       "\\item[-36.2, -21.6, -1.1, THE PAS A, 53.971, -101.091] 3\n",
       "\\item[-21.3, -3.2, 11.1, PUNTZI MOUNTAIN (AUT), 52.114, -124.136] 1\n",
       "\\item[-44.5, -36.1, -26.7, PARC NATIONAL DES PINGUALUIT, 61.313, -73.668] 6\n",
       "\\item[-37.5, -22.8, -4.7, FORT SMITH CLIMATE, 60.026, -111.929] 7\n",
       "\\item[-5, 7.2, 18, ALBERNI ROBERTSON CREEK, 49.337, -124.982] 8\n",
       "\\item[-21.7, -8.6, 9.9, EDMONTON STONY PLAIN CS, 53.547, -114.108] 1\n",
       "\\item[-21, -8.1, 8.4, SYDNEY CS, 46.163, -60.042] 4\n",
       "\\item[-30, -17.7, -4.1, BARRAGE TEMISCAMINGUE, 46.71, -79.101] 2\n",
       "\\item[-28, -16.1, -6, FOLDENS, 43.018, -80.781] 2\n",
       "\\item[-28.4, -14.2, -0.4, KINGSTON CLIMATE, 44.223, -76.599] 2\n",
       "\\item[-17, -5.4, 7, HARBOUR BRETON, 47.467, -55.833] 4\n",
       "\\item[-31, -16, -3, MIDLAND WATER POLLUTION CONTROL PLANT, 44.758, -79.875] 2\n",
       "\\item[-32, -16.3, -3.5, GEORGETOWN WWTP, 43.64, -79.879] 2\n",
       "\\item[-30.2, -17.3, -0.7, DEERWOOD RCS, 49.4, -98.319] 3\n",
       "\\item[-35.8, -20.7, -4.8, EAR FALLS (AUT), 50.631, -93.221] 3\n",
       "\\item[-21.5, -8.3, 10, EDMONTON STONY PLAIN, 53.548, -114.108] 1\n",
       "\\item[-2, 6.8, 13.5, N VAN SEYMOUR HATCHERY, 49.438, -122.967] 8\n",
       "\\end{description*}\n"
      ],
      "text/markdown": [
       "-26.5, -11.1, 6.4, FORESTBURG AGCM, 52.548, -112.123\n",
       ":   1-31, -17.1, -3, ST NAZAIRE, 45.733, -72.617\n",
       ":   2-28.2, -7.6, 12.9, EDSON CLIMATE, 53.58, -116.453\n",
       ":   1-39.2, -24.7, -5.7, MATAGAMI A, 49.762, -77.803\n",
       ":   3-21, -7.5, 5, ST MARGARET'S BAY, 44.7, -63.9\n",
       ":   4-3, 7.5, 16, GOLD RIVER TOWNSITE, 49.779, -126.055\n",
       ":   5-37.6, -21, -1.4, ROBLIN, 51.183, -101.363\n",
       ":   3-42, -31.6, -17.8, INUKJUAK A, 58.472, -78.077\n",
       ":   6-36, -20.2, -3, ARBORG, 50.933, -97.083\n",
       ":   3-36, -19.5, 0.5, LANGENBURG, 50.9, -101.717\n",
       ":   3-23, -11.4, 2.5, ELMWOOD, 46.25, -63.333\n",
       ":   4-36.2, -16, 0.2, ESTEVAN A, 49.21, -102.966\n",
       ":   3-31.5, -12.6, 2.5, TILLSONBURG NORTH, 42.861, -80.741\n",
       ":   2-36.2, -21.6, -1.1, THE PAS A, 53.971, -101.091\n",
       ":   3-21.3, -3.2, 11.1, PUNTZI MOUNTAIN (AUT), 52.114, -124.136\n",
       ":   1-44.5, -36.1, -26.7, PARC NATIONAL DES PINGUALUIT, 61.313, -73.668\n",
       ":   6-37.5, -22.8, -4.7, FORT SMITH CLIMATE, 60.026, -111.929\n",
       ":   7-5, 7.2, 18, ALBERNI ROBERTSON CREEK, 49.337, -124.982\n",
       ":   8-21.7, -8.6, 9.9, EDMONTON STONY PLAIN CS, 53.547, -114.108\n",
       ":   1-21, -8.1, 8.4, SYDNEY CS, 46.163, -60.042\n",
       ":   4-30, -17.7, -4.1, BARRAGE TEMISCAMINGUE, 46.71, -79.101\n",
       ":   2-28, -16.1, -6, FOLDENS, 43.018, -80.781\n",
       ":   2-28.4, -14.2, -0.4, KINGSTON CLIMATE, 44.223, -76.599\n",
       ":   2-17, -5.4, 7, HARBOUR BRETON, 47.467, -55.833\n",
       ":   4-31, -16, -3, MIDLAND WATER POLLUTION CONTROL PLANT, 44.758, -79.875\n",
       ":   2-32, -16.3, -3.5, GEORGETOWN WWTP, 43.64, -79.879\n",
       ":   2-30.2, -17.3, -0.7, DEERWOOD RCS, 49.4, -98.319\n",
       ":   3-35.8, -20.7, -4.8, EAR FALLS (AUT), 50.631, -93.221\n",
       ":   3-21.5, -8.3, 10, EDMONTON STONY PLAIN, 53.548, -114.108\n",
       ":   1-2, 6.8, 13.5, N VAN SEYMOUR HATCHERY, 49.438, -122.967\n",
       ":   8\n",
       "\n"
      ],
      "text/plain": [
       "                -26.5, -11.1, 6.4, FORESTBURG AGCM, 52.548, -112.123 \n",
       "                                                                   1 \n",
       "                         -31, -17.1, -3, ST NAZAIRE, 45.733, -72.617 \n",
       "                                                                   2 \n",
       "                   -28.2, -7.6, 12.9, EDSON CLIMATE, 53.58, -116.453 \n",
       "                                                                   1 \n",
       "                     -39.2, -24.7, -5.7, MATAGAMI A, 49.762, -77.803 \n",
       "                                                                   3 \n",
       "                        -21, -7.5, 5, ST MARGARET'S BAY, 44.7, -63.9 \n",
       "                                                                   4 \n",
       "                  -3, 7.5, 16, GOLD RIVER TOWNSITE, 49.779, -126.055 \n",
       "                                                                   5 \n",
       "                          -37.6, -21, -1.4, ROBLIN, 51.183, -101.363 \n",
       "                                                                   3 \n",
       "                      -42, -31.6, -17.8, INUKJUAK A, 58.472, -78.077 \n",
       "                                                                   6 \n",
       "                             -36, -20.2, -3, ARBORG, 50.933, -97.083 \n",
       "                                                                   3 \n",
       "                         -36, -19.5, 0.5, LANGENBURG, 50.9, -101.717 \n",
       "                                                                   3 \n",
       "                            -23, -11.4, 2.5, ELMWOOD, 46.25, -63.333 \n",
       "                                                                   4 \n",
       "                         -36.2, -16, 0.2, ESTEVAN A, 49.21, -102.966 \n",
       "                                                                   3 \n",
       "               -31.5, -12.6, 2.5, TILLSONBURG NORTH, 42.861, -80.741 \n",
       "                                                                   2 \n",
       "                     -36.2, -21.6, -1.1, THE PAS A, 53.971, -101.091 \n",
       "                                                                   3 \n",
       "          -21.3, -3.2, 11.1, PUNTZI MOUNTAIN (AUT), 52.114, -124.136 \n",
       "                                                                   1 \n",
       "  -44.5, -36.1, -26.7, PARC NATIONAL DES PINGUALUIT, 61.313, -73.668 \n",
       "                                                                   6 \n",
       "            -37.5, -22.8, -4.7, FORT SMITH CLIMATE, 60.026, -111.929 \n",
       "                                                                   7 \n",
       "              -5, 7.2, 18, ALBERNI ROBERTSON CREEK, 49.337, -124.982 \n",
       "                                                                   8 \n",
       "         -21.7, -8.6, 9.9, EDMONTON STONY PLAIN CS, 53.547, -114.108 \n",
       "                                                                   1 \n",
       "                          -21, -8.1, 8.4, SYDNEY CS, 46.163, -60.042 \n",
       "                                                                   4 \n",
       "             -30, -17.7, -4.1, BARRAGE TEMISCAMINGUE, 46.71, -79.101 \n",
       "                                                                   2 \n",
       "                            -28, -16.1, -6, FOLDENS, 43.018, -80.781 \n",
       "                                                                   2 \n",
       "               -28.4, -14.2, -0.4, KINGSTON CLIMATE, 44.223, -76.599 \n",
       "                                                                   2 \n",
       "                       -17, -5.4, 7, HARBOUR BRETON, 47.467, -55.833 \n",
       "                                                                   4 \n",
       "-31, -16, -3, MIDLAND WATER POLLUTION CONTROL PLANT, 44.758, -79.875 \n",
       "                                                                   2 \n",
       "                   -32, -16.3, -3.5, GEORGETOWN WWTP, 43.64, -79.879 \n",
       "                                                                   2 \n",
       "                     -30.2, -17.3, -0.7, DEERWOOD RCS, 49.4, -98.319 \n",
       "                                                                   3 \n",
       "                -35.8, -20.7, -4.8, EAR FALLS (AUT), 50.631, -93.221 \n",
       "                                                                   3 \n",
       "             -21.5, -8.3, 10, EDMONTON STONY PLAIN, 53.548, -114.108 \n",
       "                                                                   1 \n",
       "             -2, 6.8, 13.5, N VAN SEYMOUR HATCHERY, 49.438, -122.967 \n",
       "                                                                   8 "
      ]
     },
     "metadata": {},
     "output_type": "display_data"
    }
   ],
   "source": [
    "## your ccode here:\n",
    "\n",
    "threshold <- 1.5 # define threshold\n",
    "\n",
    "groups <- cutree(hc, h=threshold) # cut three at defined threshold\n",
    "num_clusters <- max(groups) # number of clusters\n",
    "\n",
    "# show groups\n",
    "groups\n"
   ]
  },
  {
   "cell_type": "markdown",
   "metadata": {},
   "source": [
    "<div align=\"right\">\n",
    "<a href=\"#p5\" class=\"btn btn-default\" data-toggle=\"collapse\">Click here for the solution</a>\n",
    "</div>\n",
    "<div id=\"p5\" class=\"collapse\">\n",
    "```\n",
    "threshold <- 1.5 # define threshold\n",
    "\n",
    "groups <- cutree(hc, h=threshold) # cut three at defined threshold\n",
    "num_clusters <- max(groups) # number of clusters\n",
    "\n",
    "# show groups\n",
    "groups\n",
    "    \n",
    "```\n",
    "</div>"
   ]
  },
  {
   "cell_type": "markdown",
   "metadata": {
    "button": false,
    "new_sheet": false,
    "run_control": {
     "read_only": false
    }
   },
   "source": [
    "### Add cluster labels to dataframe"
   ]
  },
  {
   "cell_type": "code",
   "execution_count": 9,
   "metadata": {
    "button": false,
    "collapsed": true,
    "new_sheet": false,
    "run_control": {
     "read_only": false
    },
    "scrolled": true
   },
   "outputs": [
    {
     "data": {
      "text/html": [
       "<table>\n",
       "<thead><tr><th scope=col>Stn_Name</th><th scope=col>Lat</th><th scope=col>Long</th><th scope=col>Prov</th><th scope=col>Tm</th><th scope=col>DwTm</th><th scope=col>D</th><th scope=col>Tx</th><th scope=col>DwTx</th><th scope=col>Tn</th><th scope=col>⋯</th><th scope=col>P.N</th><th scope=col>S_G</th><th scope=col>Pd</th><th scope=col>BS</th><th scope=col>DwBS</th><th scope=col>BS.</th><th scope=col>HDD</th><th scope=col>CDD</th><th scope=col>Stn_No</th><th scope=col>clusters</th></tr></thead>\n",
       "<tbody>\n",
       "\t<tr><td>FORESTBURG AGCM    </td><td>52.548             </td><td>-112.123           </td><td>AB                 </td><td>-11.1              </td><td> 0                 </td><td>  NA               </td><td> 6.4               </td><td>0                  </td><td>-26.5              </td><td>⋯                  </td><td> NA                </td><td>NA                 </td><td> 7                 </td><td>NA                 </td><td>NA                 </td><td>NA                 </td><td> 815.2             </td><td>0                  </td><td>3012653            </td><td>1                  </td></tr>\n",
       "\t<tr><td>ST NAZAIRE         </td><td>45.733             </td><td> -72.617           </td><td>QC                 </td><td>-17.1              </td><td>11                 </td><td>-8.3               </td><td>-3.0               </td><td>9                  </td><td>-31.0              </td><td>⋯                  </td><td> NA                </td><td>76                 </td><td>11                 </td><td>NA                 </td><td>NA                 </td><td>NA                 </td><td> 596.6             </td><td>0                  </td><td>7027588            </td><td>2                  </td></tr>\n",
       "\t<tr><td>EDSON CLIMATE      </td><td>53.580             </td><td>-116.453           </td><td>AB                 </td><td> -7.6              </td><td> 0                 </td><td>  NA               </td><td>12.9               </td><td>0                  </td><td>-28.2              </td><td>⋯                  </td><td> NA                </td><td>35                 </td><td> 6                 </td><td>NA                 </td><td>NA                 </td><td>NA                 </td><td> 717.7             </td><td>0                  </td><td>3062246            </td><td>1                  </td></tr>\n",
       "\t<tr><td>MATAGAMI A         </td><td>49.762             </td><td> -77.803           </td><td>QC                 </td><td>-24.7              </td><td> 1                 </td><td>  NA               </td><td>-5.7               </td><td>1                  </td><td>-39.2              </td><td>⋯                  </td><td> NA                </td><td>NA                 </td><td> 0                 </td><td>NA                 </td><td>NA                 </td><td>NA                 </td><td>1153.6             </td><td>0                  </td><td>7094636            </td><td>3                  </td></tr>\n",
       "\t<tr><td>ST MARGARET'S BAY  </td><td>44.700             </td><td> -63.900           </td><td>NS                 </td><td> -7.5              </td><td> 0                 </td><td>-2.4               </td><td> 5.0               </td><td>0                  </td><td>-21.0              </td><td>⋯                  </td><td>113                </td><td> 0                 </td><td>10                 </td><td>NA                 </td><td>NA                 </td><td>NA                 </td><td> 713.8             </td><td>0                  </td><td>8204800            </td><td>4                  </td></tr>\n",
       "\t<tr><td>GOLD RIVER TOWNSITE</td><td>49.779             </td><td>-126.055           </td><td>BC                 </td><td>  7.5              </td><td> 0                 </td><td> 4.2               </td><td>16.0               </td><td>0                  </td><td> -3.0              </td><td>⋯                  </td><td>100                </td><td> 0                 </td><td>15                 </td><td>NA                 </td><td>NA                 </td><td>NA                 </td><td> 294.5             </td><td>0                  </td><td>1033232            </td><td>5                  </td></tr>\n",
       "</tbody>\n",
       "</table>\n"
      ],
      "text/latex": [
       "\\begin{tabular}{r|llllllllllllllllllllllllll}\n",
       " Stn\\_Name & Lat & Long & Prov & Tm & DwTm & D & Tx & DwTx & Tn & ⋯ & P.N & S\\_G & Pd & BS & DwBS & BS. & HDD & CDD & Stn\\_No & clusters\\\\\n",
       "\\hline\n",
       "\t FORESTBURG AGCM     & 52.548              & -112.123            & AB                  & -11.1               &  0                  &   NA                &  6.4                & 0                   & -26.5               & ⋯                   &  NA                 & NA                  &  7                  & NA                  & NA                  & NA                  &  815.2              & 0                   & 3012653             & 1                  \\\\\n",
       "\t ST NAZAIRE          & 45.733              &  -72.617            & QC                  & -17.1               & 11                  & -8.3                & -3.0                & 9                   & -31.0               & ⋯                   &  NA                 & 76                  & 11                  & NA                  & NA                  & NA                  &  596.6              & 0                   & 7027588             & 2                  \\\\\n",
       "\t EDSON CLIMATE       & 53.580              & -116.453            & AB                  &  -7.6               &  0                  &   NA                & 12.9                & 0                   & -28.2               & ⋯                   &  NA                 & 35                  &  6                  & NA                  & NA                  & NA                  &  717.7              & 0                   & 3062246             & 1                  \\\\\n",
       "\t MATAGAMI A          & 49.762              &  -77.803            & QC                  & -24.7               &  1                  &   NA                & -5.7                & 1                   & -39.2               & ⋯                   &  NA                 & NA                  &  0                  & NA                  & NA                  & NA                  & 1153.6              & 0                   & 7094636             & 3                  \\\\\n",
       "\t ST MARGARET'S BAY   & 44.700              &  -63.900            & NS                  &  -7.5               &  0                  & -2.4                &  5.0                & 0                   & -21.0               & ⋯                   & 113                 &  0                  & 10                  & NA                  & NA                  & NA                  &  713.8              & 0                   & 8204800             & 4                  \\\\\n",
       "\t GOLD RIVER TOWNSITE & 49.779              & -126.055            & BC                  &   7.5               &  0                  &  4.2                & 16.0                & 0                   &  -3.0               & ⋯                   & 100                 &  0                  & 15                  & NA                  & NA                  & NA                  &  294.5              & 0                   & 1033232             & 5                  \\\\\n",
       "\\end{tabular}\n"
      ],
      "text/markdown": [
       "\n",
       "Stn_Name | Lat | Long | Prov | Tm | DwTm | D | Tx | DwTx | Tn | ⋯ | P.N | S_G | Pd | BS | DwBS | BS. | HDD | CDD | Stn_No | clusters | \n",
       "|---|---|---|---|---|---|\n",
       "| FORESTBURG AGCM     | 52.548              | -112.123            | AB                  | -11.1               |  0                  |   NA                |  6.4                | 0                   | -26.5               | ⋯                   |  NA                 | NA                  |  7                  | NA                  | NA                  | NA                  |  815.2              | 0                   | 3012653             | 1                   | \n",
       "| ST NAZAIRE          | 45.733              |  -72.617            | QC                  | -17.1               | 11                  | -8.3                | -3.0                | 9                   | -31.0               | ⋯                   |  NA                 | 76                  | 11                  | NA                  | NA                  | NA                  |  596.6              | 0                   | 7027588             | 2                   | \n",
       "| EDSON CLIMATE       | 53.580              | -116.453            | AB                  |  -7.6               |  0                  |   NA                | 12.9                | 0                   | -28.2               | ⋯                   |  NA                 | 35                  |  6                  | NA                  | NA                  | NA                  |  717.7              | 0                   | 3062246             | 1                   | \n",
       "| MATAGAMI A          | 49.762              |  -77.803            | QC                  | -24.7               |  1                  |   NA                | -5.7                | 1                   | -39.2               | ⋯                   |  NA                 | NA                  |  0                  | NA                  | NA                  | NA                  | 1153.6              | 0                   | 7094636             | 3                   | \n",
       "| ST MARGARET'S BAY   | 44.700              |  -63.900            | NS                  |  -7.5               |  0                  | -2.4                |  5.0                | 0                   | -21.0               | ⋯                   | 113                 |  0                  | 10                  | NA                  | NA                  | NA                  |  713.8              | 0                   | 8204800             | 4                   | \n",
       "| GOLD RIVER TOWNSITE | 49.779              | -126.055            | BC                  |   7.5               |  0                  |  4.2                | 16.0                | 0                   |  -3.0               | ⋯                   | 100                 |  0                  | 15                  | NA                  | NA                  | NA                  |  294.5              | 0                   | 1033232             | 5                   | \n",
       "\n",
       "\n"
      ],
      "text/plain": [
       "  Stn_Name            Lat    Long     Prov Tm    DwTm D    Tx   DwTx Tn    ⋯\n",
       "1 FORESTBURG AGCM     52.548 -112.123 AB   -11.1  0     NA  6.4 0    -26.5 ⋯\n",
       "2 ST NAZAIRE          45.733  -72.617 QC   -17.1 11   -8.3 -3.0 9    -31.0 ⋯\n",
       "3 EDSON CLIMATE       53.580 -116.453 AB    -7.6  0     NA 12.9 0    -28.2 ⋯\n",
       "4 MATAGAMI A          49.762  -77.803 QC   -24.7  1     NA -5.7 1    -39.2 ⋯\n",
       "5 ST MARGARET'S BAY   44.700  -63.900 NS    -7.5  0   -2.4  5.0 0    -21.0 ⋯\n",
       "6 GOLD RIVER TOWNSITE 49.779 -126.055 BC     7.5  0    4.2 16.0 0     -3.0 ⋯\n",
       "  P.N S_G Pd BS DwBS BS. HDD    CDD Stn_No  clusters\n",
       "1  NA NA   7 NA NA   NA   815.2 0   3012653 1       \n",
       "2  NA 76  11 NA NA   NA   596.6 0   7027588 2       \n",
       "3  NA 35   6 NA NA   NA   717.7 0   3062246 1       \n",
       "4  NA NA   0 NA NA   NA  1153.6 0   7094636 3       \n",
       "5 113  0  10 NA NA   NA   713.8 0   8204800 4       \n",
       "6 100  0  15 NA NA   NA   294.5 0   1033232 5       "
      ]
     },
     "metadata": {},
     "output_type": "display_data"
    }
   ],
   "source": [
    "random_stations <- cbind(random_stations, clusters =as.factor(as.vector(groups)))\n",
    "head(random_stations)"
   ]
  },
  {
   "cell_type": "markdown",
   "metadata": {
    "button": false,
    "new_sheet": false,
    "run_control": {
     "read_only": false
    }
   },
   "source": [
    "### Check out clusters centroidsd"
   ]
  },
  {
   "cell_type": "code",
   "execution_count": 10,
   "metadata": {
    "button": false,
    "collapsed": true,
    "new_sheet": false,
    "run_control": {
     "read_only": false
    },
    "scrolled": true
   },
   "outputs": [
    {
     "data": {
      "text/html": [
       "<table>\n",
       "<thead><tr><th scope=col>cluster</th><th scope=col>Lat</th><th scope=col>Long</th></tr></thead>\n",
       "<tbody>\n",
       "\t<tr><td>1         </td><td>53.06740  </td><td>-116.18560</td></tr>\n",
       "\t<tr><td>2         </td><td>44.42043  </td><td> -78.51329</td></tr>\n",
       "\t<tr><td>3         </td><td>50.74875  </td><td> -96.69537</td></tr>\n",
       "\t<tr><td>4         </td><td>46.14500  </td><td> -60.77700</td></tr>\n",
       "\t<tr><td>5         </td><td>49.77900  </td><td>-126.05500</td></tr>\n",
       "\t<tr><td>6         </td><td>59.89250  </td><td> -75.87250</td></tr>\n",
       "\t<tr><td>7         </td><td>60.02600  </td><td>-111.92900</td></tr>\n",
       "\t<tr><td>8         </td><td>49.38750  </td><td>-123.97450</td></tr>\n",
       "</tbody>\n",
       "</table>\n"
      ],
      "text/latex": [
       "\\begin{tabular}{r|lll}\n",
       " cluster & Lat & Long\\\\\n",
       "\\hline\n",
       "\t 1          & 53.06740   & -116.18560\\\\\n",
       "\t 2          & 44.42043   &  -78.51329\\\\\n",
       "\t 3          & 50.74875   &  -96.69537\\\\\n",
       "\t 4          & 46.14500   &  -60.77700\\\\\n",
       "\t 5          & 49.77900   & -126.05500\\\\\n",
       "\t 6          & 59.89250   &  -75.87250\\\\\n",
       "\t 7          & 60.02600   & -111.92900\\\\\n",
       "\t 8          & 49.38750   & -123.97450\\\\\n",
       "\\end{tabular}\n"
      ],
      "text/markdown": [
       "\n",
       "cluster | Lat | Long | \n",
       "|---|---|---|---|---|---|---|---|\n",
       "| 1          | 53.06740   | -116.18560 | \n",
       "| 2          | 44.42043   |  -78.51329 | \n",
       "| 3          | 50.74875   |  -96.69537 | \n",
       "| 4          | 46.14500   |  -60.77700 | \n",
       "| 5          | 49.77900   | -126.05500 | \n",
       "| 6          | 59.89250   |  -75.87250 | \n",
       "| 7          | 60.02600   | -111.92900 | \n",
       "| 8          | 49.38750   | -123.97450 | \n",
       "\n",
       "\n"
      ],
      "text/plain": [
       "  cluster Lat      Long      \n",
       "1 1       53.06740 -116.18560\n",
       "2 2       44.42043  -78.51329\n",
       "3 3       50.74875  -96.69537\n",
       "4 4       46.14500  -60.77700\n",
       "5 5       49.77900 -126.05500\n",
       "6 6       59.89250  -75.87250\n",
       "7 7       60.02600 -111.92900\n",
       "8 8       49.38750 -123.97450"
      ]
     },
     "metadata": {},
     "output_type": "display_data"
    }
   ],
   "source": [
    "clusters_centers_dataframe <- aggregate(random_stations[, c(\"Lat\", \"Long\")], list(cluster = random_stations$clusters), mean)\n",
    "clusters_centers_dataframe"
   ]
  },
  {
   "cell_type": "markdown",
   "metadata": {},
   "source": [
    "## Want to learn more?\n",
    "\n",
    "IBM SPSS Modeler is a comprehensive analytics platform that has many machine learning algorithms. It has been designed to bring predictive intelligence to decisions made by individuals, by groups, by systems – by your enterprise as a whole. A free trial is available through this course, available here: [SPSS Modeler for Mac users](https://cocl.us/ML0151EN_SPSSMod_mac) and [SPSS Modeler for Windows users](https://cocl.us/ML0151EN_SPSSMod_win)\n",
    "\n",
    "Also, you can use Data Science Experience to run these notebooks faster with bigger datasets. Data Science Experience is IBM's leading cloud solution for data scientists, built by data scientists. With Jupyter notebooks, RStudio, Apache Spark and popular libraries pre-packaged in the cloud, DSX enables data scientists to collaborate on their projects without having to install anything. Join the fast-growing community of DSX users today with a free account at [Data Science Experience](https://cocl.us/ML0151EN_DSX)"
   ]
  },
  {
   "cell_type": "markdown",
   "metadata": {
    "button": false,
    "new_sheet": false,
    "run_control": {
     "read_only": false
    }
   },
   "source": [
    "### Thanks for completing this lesson!\n",
    "\n",
    "Notebook created by: <a href = \"https://ca.linkedin.com/in/saeedaghabozorgi\">Saeed Aghabozorgi</a>, [Alex Aklson](https://www.linkedin.com/in/aklson/)"
   ]
  },
  {
   "cell_type": "markdown",
   "metadata": {},
   "source": [
    "<hr>\n",
    "Copyright &copy; 2017 [IBM Cognitive Class](https://cognitiveclass.ai/?utm_source=ML0151&utm_medium=lab&utm_campaign=cclab). This notebook and its source code are released under the terms of the [MIT License](https://cognitiveclass.ai/mit-license/)."
   ]
  }
 ],
 "metadata": {
  "kernelspec": {
   "display_name": "R",
   "language": "R",
   "name": "ir"
  },
  "language_info": {
   "codemirror_mode": "r",
   "file_extension": ".r",
   "mimetype": "text/x-r-source",
   "name": "R",
   "pygments_lexer": "r",
   "version": "3.5.1"
  },
  "widgets": {
   "state": {},
   "version": "1.1.2"
  }
 },
 "nbformat": 4,
 "nbformat_minor": 2
}
