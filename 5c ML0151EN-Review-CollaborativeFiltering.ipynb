{
 "cells": [
  {
   "cell_type": "markdown",
   "metadata": {},
   "source": [
    "<a href=\"https://www.bigdatauniversity.com\"><img src = \"https://ibm.box.com/shared/static/cw2c7r3o20w9zn8gkecaeyjhgw3xdgbj.png\" width = 400, align = \"center\"></a>\n",
    "\n",
    "<h1 align=center><font size = 5>COLLABORATTIVE FILTERING</font></h1>\n",
    "\n",
    "Recommendation systems (sometimes called *recommender systems*) are a collection of algorithms used to recommend items to users based on information taken from the user. These systems have become ubiquitous and can commonly be seen in online stores, movies databases and job finders. In this notebook, we will explore recommendation systems based on Collaborative Filtering and implement a simple version of one using R.\n",
    "\n",
    "<hl>"
   ]
  },
  {
   "cell_type": "markdown",
   "metadata": {},
   "source": [
    "## Table of Contents\n",
    "<div class=\"alert alert-block alert-info\" style=\"margin-top: 20px\">\n",
    "\n",
    "<br>\n",
    "- <p><a href=\"#ref0\">Acquiring the data</a></p>\n",
    "- <p><a href=\"#ref1\">Preprocessing</a></p>\n",
    "- <p><a href=\"#ref2\">Collaborative Filtering</a></p>\n",
    "- <p><a href=\"#ref3\">Advantages and Disadvantages of Collaborative Filtering</a></p>\n",
    "<p></p>\n",
    "</div>\n",
    "<hr>"
   ]
  },
  {
   "cell_type": "markdown",
   "metadata": {},
   "source": [
    "<a id=\"ref0\"></a>\n",
    "## Acquiring the Data\n",
    "\n",
    "To acquire and extract the data, simply run the following R cell to download and store them. It might take a few minutes:  \n",
    "Dataset acquired from [GroupLens](http://grouplens.org/datasets/movielens/)"
   ]
  },
  {
   "cell_type": "code",
   "execution_count": null,
   "metadata": {
    "collapsed": true
   },
   "outputs": [],
   "source": [
    "# rating dataset\n",
    "download.file(\"https://ibm.box.com/shared/static/q61myoukbyz969b97ddlcq0dny0l07bf.dat\", \"/resources/data/ratings.dat\")"
   ]
  },
  {
   "cell_type": "code",
   "execution_count": null,
   "metadata": {
    "collapsed": true
   },
   "outputs": [],
   "source": [
    "#Moview dtaset\n",
    "download.file(\"https://ibm.box.com/shared/static/dn84btkn9gmxmdau32c5xb0vamie6jy4.dat\", \"/resources/data/movies.dat\")"
   ]
  },
  {
   "cell_type": "markdown",
   "metadata": {},
   "source": [
    "Now you're ready to start working with the data!\n",
    "<a id=\"ref1\"></a>\n",
    "## Preprocessing"
   ]
  },
  {
   "cell_type": "markdown",
   "metadata": {},
   "source": [
    "Let's begin by loading the data into their dataframes:"
   ]
  },
  {
   "cell_type": "code",
   "execution_count": 1,
   "metadata": {
    "scrolled": true
   },
   "outputs": [
    {
     "data": {
      "text/html": [
       "<table>\n",
       "<thead><tr><th scope=col>V1</th><th scope=col>V2</th><th scope=col>V3</th><th scope=col>V4</th><th scope=col>V5</th></tr></thead>\n",
       "<tbody>\n",
       "\t<tr><td>1                                 </td><td>                                  </td><td>Toy Story (1995)                  </td><td>                                  </td><td>Animation|Children's|Comedy       </td></tr>\n",
       "\t<tr><td>2                                 </td><td>                                  </td><td>Jumanji (1995)                    </td><td>                                  </td><td>Adventure|Children's|Fantasy      </td></tr>\n",
       "\t<tr><td>3                                 </td><td>                                  </td><td>Grumpier Old Men (1995)           </td><td>                                  </td><td>Comedy|Romance                    </td></tr>\n",
       "\t<tr><td>4                                 </td><td>                                  </td><td>Waiting to Exhale (1995)          </td><td>                                  </td><td>Comedy|Drama                      </td></tr>\n",
       "\t<tr><td>5                                 </td><td>                                  </td><td>Father of the Bride Part II (1995)</td><td>                                  </td><td>Comedy                            </td></tr>\n",
       "\t<tr><td>6                                 </td><td>                                  </td><td>Heat (1995)                       </td><td>                                  </td><td>Action|Crime|Thriller             </td></tr>\n",
       "</tbody>\n",
       "</table>\n"
      ],
      "text/latex": [
       "\\begin{tabular}{r|lllll}\n",
       " V1 & V2 & V3 & V4 & V5\\\\\n",
       "\\hline\n",
       "\t 1                                                &                                                  & Toy Story (1995)                                 &                                                  & Animation\\textbar{}Children's\\textbar{}Comedy \\\\\n",
       "\t 2                                                &                                                  & Jumanji (1995)                                   &                                                  & Adventure\\textbar{}Children's\\textbar{}Fantasy\\\\\n",
       "\t 3                                      &                                        & Grumpier Old Men (1995)                &                                        & Comedy\\textbar{}Romance              \\\\\n",
       "\t 4                                      &                                        & Waiting to Exhale (1995)               &                                        & Comedy\\textbar{}Drama                \\\\\n",
       "\t 5                                  &                                    & Father of the Bride Part II (1995) &                                    & Comedy                            \\\\\n",
       "\t 6                                                &                                                  & Heat (1995)                                      &                                                  & Action\\textbar{}Crime\\textbar{}Thriller       \\\\\n",
       "\\end{tabular}\n"
      ],
      "text/markdown": [
       "\n",
       "V1 | V2 | V3 | V4 | V5 | \n",
       "|---|---|---|---|---|---|\n",
       "| 1                                  |                                    | Toy Story (1995)                   |                                    | Animation|Children's|Comedy        | \n",
       "| 2                                  |                                    | Jumanji (1995)                     |                                    | Adventure|Children's|Fantasy       | \n",
       "| 3                                  |                                    | Grumpier Old Men (1995)            |                                    | Comedy|Romance                     | \n",
       "| 4                                  |                                    | Waiting to Exhale (1995)           |                                    | Comedy|Drama                       | \n",
       "| 5                                  |                                    | Father of the Bride Part II (1995) |                                    | Comedy                             | \n",
       "| 6                                  |                                    | Heat (1995)                        |                                    | Action|Crime|Thriller              | \n",
       "\n",
       "\n"
      ],
      "text/plain": [
       "  V1 V2 V3                                 V4 V5                          \n",
       "1 1     Toy Story (1995)                      Animation|Children's|Comedy \n",
       "2 2     Jumanji (1995)                        Adventure|Children's|Fantasy\n",
       "3 3     Grumpier Old Men (1995)               Comedy|Romance              \n",
       "4 4     Waiting to Exhale (1995)              Comedy|Drama                \n",
       "5 5     Father of the Bride Part II (1995)    Comedy                      \n",
       "6 6     Heat (1995)                           Action|Crime|Thriller       "
      ]
     },
     "metadata": {},
     "output_type": "display_data"
    }
   ],
   "source": [
    "#Loading the movie information into a dataframe\n",
    "movies_df <- read.csv('/resources/data/movies.dat', header = FALSE, sep=\":\")\n",
    "# Head is a function that gets the first 6 rows of a dataframe\n",
    "head(movies_df)"
   ]
  },
  {
   "cell_type": "code",
   "execution_count": 1,
   "metadata": {
    "scrolled": false
   },
   "outputs": [
    {
     "data": {
      "text/html": [
       "<table>\n",
       "<thead><tr><th scope=col>V1</th><th scope=col>V2</th><th scope=col>V3</th><th scope=col>V4</th><th scope=col>V5</th><th scope=col>V6</th><th scope=col>V7</th></tr></thead>\n",
       "<tbody>\n",
       "\t<tr><td>1        </td><td>NA       </td><td>1193     </td><td>NA       </td><td>5        </td><td>NA       </td><td>978300760</td></tr>\n",
       "\t<tr><td>1        </td><td>NA       </td><td> 661     </td><td>NA       </td><td>3        </td><td>NA       </td><td>978302109</td></tr>\n",
       "\t<tr><td>1        </td><td>NA       </td><td> 914     </td><td>NA       </td><td>3        </td><td>NA       </td><td>978301968</td></tr>\n",
       "\t<tr><td>1        </td><td>NA       </td><td>3408     </td><td>NA       </td><td>4        </td><td>NA       </td><td>978300275</td></tr>\n",
       "\t<tr><td>1        </td><td>NA       </td><td>2355     </td><td>NA       </td><td>5        </td><td>NA       </td><td>978824291</td></tr>\n",
       "\t<tr><td>1        </td><td>NA       </td><td>1197     </td><td>NA       </td><td>3        </td><td>NA       </td><td>978302268</td></tr>\n",
       "\t<tr><td>1        </td><td>NA       </td><td>1287     </td><td>NA       </td><td>5        </td><td>NA       </td><td>978302039</td></tr>\n",
       "\t<tr><td>1        </td><td>NA       </td><td>2804     </td><td>NA       </td><td>5        </td><td>NA       </td><td>978300719</td></tr>\n",
       "\t<tr><td>1        </td><td>NA       </td><td> 594     </td><td>NA       </td><td>4        </td><td>NA       </td><td>978302268</td></tr>\n",
       "\t<tr><td>1        </td><td>NA       </td><td> 919     </td><td>NA       </td><td>4        </td><td>NA       </td><td>978301368</td></tr>\n",
       "\t<tr><td>1        </td><td>NA       </td><td> 595     </td><td>NA       </td><td>5        </td><td>NA       </td><td>978824268</td></tr>\n",
       "\t<tr><td>1        </td><td>NA       </td><td> 938     </td><td>NA       </td><td>4        </td><td>NA       </td><td>978301752</td></tr>\n",
       "\t<tr><td>1        </td><td>NA       </td><td>2398     </td><td>NA       </td><td>4        </td><td>NA       </td><td>978302281</td></tr>\n",
       "\t<tr><td>1        </td><td>NA       </td><td>2918     </td><td>NA       </td><td>4        </td><td>NA       </td><td>978302124</td></tr>\n",
       "\t<tr><td>1        </td><td>NA       </td><td>1035     </td><td>NA       </td><td>5        </td><td>NA       </td><td>978301753</td></tr>\n",
       "\t<tr><td>1        </td><td>NA       </td><td>2791     </td><td>NA       </td><td>4        </td><td>NA       </td><td>978302188</td></tr>\n",
       "\t<tr><td>1        </td><td>NA       </td><td>2687     </td><td>NA       </td><td>3        </td><td>NA       </td><td>978824268</td></tr>\n",
       "\t<tr><td>1        </td><td>NA       </td><td>2018     </td><td>NA       </td><td>4        </td><td>NA       </td><td>978301777</td></tr>\n",
       "\t<tr><td>1        </td><td>NA       </td><td>3105     </td><td>NA       </td><td>5        </td><td>NA       </td><td>978301713</td></tr>\n",
       "\t<tr><td>1        </td><td>NA       </td><td>2797     </td><td>NA       </td><td>4        </td><td>NA       </td><td>978302039</td></tr>\n",
       "</tbody>\n",
       "</table>\n"
      ],
      "text/latex": [
       "\\begin{tabular}{r|lllllll}\n",
       " V1 & V2 & V3 & V4 & V5 & V6 & V7\\\\\n",
       "\\hline\n",
       "\t 1         & NA        & 1193      & NA        & 5         & NA        & 978300760\\\\\n",
       "\t 1         & NA        &  661      & NA        & 3         & NA        & 978302109\\\\\n",
       "\t 1         & NA        &  914      & NA        & 3         & NA        & 978301968\\\\\n",
       "\t 1         & NA        & 3408      & NA        & 4         & NA        & 978300275\\\\\n",
       "\t 1         & NA        & 2355      & NA        & 5         & NA        & 978824291\\\\\n",
       "\t 1         & NA        & 1197      & NA        & 3         & NA        & 978302268\\\\\n",
       "\t 1         & NA        & 1287      & NA        & 5         & NA        & 978302039\\\\\n",
       "\t 1         & NA        & 2804      & NA        & 5         & NA        & 978300719\\\\\n",
       "\t 1         & NA        &  594      & NA        & 4         & NA        & 978302268\\\\\n",
       "\t 1         & NA        &  919      & NA        & 4         & NA        & 978301368\\\\\n",
       "\t 1         & NA        &  595      & NA        & 5         & NA        & 978824268\\\\\n",
       "\t 1         & NA        &  938      & NA        & 4         & NA        & 978301752\\\\\n",
       "\t 1         & NA        & 2398      & NA        & 4         & NA        & 978302281\\\\\n",
       "\t 1         & NA        & 2918      & NA        & 4         & NA        & 978302124\\\\\n",
       "\t 1         & NA        & 1035      & NA        & 5         & NA        & 978301753\\\\\n",
       "\t 1         & NA        & 2791      & NA        & 4         & NA        & 978302188\\\\\n",
       "\t 1         & NA        & 2687      & NA        & 3         & NA        & 978824268\\\\\n",
       "\t 1         & NA        & 2018      & NA        & 4         & NA        & 978301777\\\\\n",
       "\t 1         & NA        & 3105      & NA        & 5         & NA        & 978301713\\\\\n",
       "\t 1         & NA        & 2797      & NA        & 4         & NA        & 978302039\\\\\n",
       "\\end{tabular}\n"
      ],
      "text/markdown": [
       "\n",
       "V1 | V2 | V3 | V4 | V5 | V6 | V7 | \n",
       "|---|---|---|---|---|---|---|---|---|---|---|---|---|---|---|---|---|---|---|---|\n",
       "| 1         | NA        | 1193      | NA        | 5         | NA        | 978300760 | \n",
       "| 1         | NA        |  661      | NA        | 3         | NA        | 978302109 | \n",
       "| 1         | NA        |  914      | NA        | 3         | NA        | 978301968 | \n",
       "| 1         | NA        | 3408      | NA        | 4         | NA        | 978300275 | \n",
       "| 1         | NA        | 2355      | NA        | 5         | NA        | 978824291 | \n",
       "| 1         | NA        | 1197      | NA        | 3         | NA        | 978302268 | \n",
       "| 1         | NA        | 1287      | NA        | 5         | NA        | 978302039 | \n",
       "| 1         | NA        | 2804      | NA        | 5         | NA        | 978300719 | \n",
       "| 1         | NA        |  594      | NA        | 4         | NA        | 978302268 | \n",
       "| 1         | NA        |  919      | NA        | 4         | NA        | 978301368 | \n",
       "| 1         | NA        |  595      | NA        | 5         | NA        | 978824268 | \n",
       "| 1         | NA        |  938      | NA        | 4         | NA        | 978301752 | \n",
       "| 1         | NA        | 2398      | NA        | 4         | NA        | 978302281 | \n",
       "| 1         | NA        | 2918      | NA        | 4         | NA        | 978302124 | \n",
       "| 1         | NA        | 1035      | NA        | 5         | NA        | 978301753 | \n",
       "| 1         | NA        | 2791      | NA        | 4         | NA        | 978302188 | \n",
       "| 1         | NA        | 2687      | NA        | 3         | NA        | 978824268 | \n",
       "| 1         | NA        | 2018      | NA        | 4         | NA        | 978301777 | \n",
       "| 1         | NA        | 3105      | NA        | 5         | NA        | 978301713 | \n",
       "| 1         | NA        | 2797      | NA        | 4         | NA        | 978302039 | \n",
       "\n",
       "\n"
      ],
      "text/plain": [
       "   V1 V2 V3   V4 V5 V6 V7       \n",
       "1  1  NA 1193 NA 5  NA 978300760\n",
       "2  1  NA  661 NA 3  NA 978302109\n",
       "3  1  NA  914 NA 3  NA 978301968\n",
       "4  1  NA 3408 NA 4  NA 978300275\n",
       "5  1  NA 2355 NA 5  NA 978824291\n",
       "6  1  NA 1197 NA 3  NA 978302268\n",
       "7  1  NA 1287 NA 5  NA 978302039\n",
       "8  1  NA 2804 NA 5  NA 978300719\n",
       "9  1  NA  594 NA 4  NA 978302268\n",
       "10 1  NA  919 NA 4  NA 978301368\n",
       "11 1  NA  595 NA 5  NA 978824268\n",
       "12 1  NA  938 NA 4  NA 978301752\n",
       "13 1  NA 2398 NA 4  NA 978302281\n",
       "14 1  NA 2918 NA 4  NA 978302124\n",
       "15 1  NA 1035 NA 5  NA 978301753\n",
       "16 1  NA 2791 NA 4  NA 978302188\n",
       "17 1  NA 2687 NA 3  NA 978824268\n",
       "18 1  NA 2018 NA 4  NA 978301777\n",
       "19 1  NA 3105 NA 5  NA 978301713\n",
       "20 1  NA 2797 NA 4  NA 978302039"
      ]
     },
     "metadata": {},
     "output_type": "display_data"
    }
   ],
   "source": [
    "#Loading the user information into a dataframe\n",
    "ratings_df <- read.csv('/resources/data/ratings.dat', header = FALSE, sep=\":\")\n",
    "# Alternatively let's look at the first 20 rows of the datatframe\n",
    "head(ratings_df, 20)"
   ]
  },
  {
   "cell_type": "markdown",
   "metadata": {},
   "source": [
    "You can see here that there are some issues that arise when reading the data. Movies that have a colon in the title are causing additional columns to be generated, such as column 4 which contains the part of a movie's title that appears after the colon for movies with a colon in the title. We will now run some code to deal with some of these issues."
   ]
  },
  {
   "cell_type": "markdown",
   "metadata": {},
   "source": [
    "Let's have a look at the raw data to see what may be causing the problem.\n",
    "\n",
    "We will do this by using the function **readLines** to store the raw data and using the head function to preview it."
   ]
  },
  {
   "cell_type": "code",
   "execution_count": 2,
   "metadata": {
    "scrolled": true
   },
   "outputs": [
    {
     "data": {
      "text/html": [
       "<ol class=list-inline>\n",
       "\t<li>'1::Toy Story (1995)::Animation|Children\\'s|Comedy'</li>\n",
       "\t<li>'2::Jumanji (1995)::Adventure|Children\\'s|Fantasy'</li>\n",
       "\t<li>'3::Grumpier Old Men (1995)::Comedy|Romance'</li>\n",
       "\t<li>'4::Waiting to Exhale (1995)::Comedy|Drama'</li>\n",
       "\t<li>'5::Father of the Bride Part II (1995)::Comedy'</li>\n",
       "\t<li>'6::Heat (1995)::Action|Crime|Thriller'</li>\n",
       "\t<li>'7::Sabrina (1995)::Comedy|Romance'</li>\n",
       "\t<li>'8::Tom and Huck (1995)::Adventure|Children\\'s'</li>\n",
       "\t<li>'9::Sudden Death (1995)::Action'</li>\n",
       "\t<li>'10::GoldenEye (1995)::Action|Adventure|Thriller'</li>\n",
       "\t<li>'11::American President, The (1995)::Comedy|Drama|Romance'</li>\n",
       "\t<li>'12::Dracula: Dead and Loving It (1995)::Comedy|Horror'</li>\n",
       "\t<li>'13::Balto (1995)::Animation|Children\\'s'</li>\n",
       "\t<li>'14::Nixon (1995)::Drama'</li>\n",
       "\t<li>'15::Cutthroat Island (1995)::Action|Adventure|Romance'</li>\n",
       "\t<li>'16::Casino (1995)::Drama|Thriller'</li>\n",
       "\t<li>'17::Sense and Sensibility (1995)::Drama|Romance'</li>\n",
       "\t<li>'18::Four Rooms (1995)::Thriller'</li>\n",
       "\t<li>'19::Ace Ventura: When Nature Calls (1995)::Comedy'</li>\n",
       "\t<li>'20::Money Train (1995)::Action'</li>\n",
       "</ol>\n"
      ],
      "text/latex": [
       "\\begin{enumerate*}\n",
       "\\item '1::Toy Story (1995)::Animation\\textbar{}Children\\textbackslash{}'s\\textbar{}Comedy'\n",
       "\\item '2::Jumanji (1995)::Adventure\\textbar{}Children\\textbackslash{}'s\\textbar{}Fantasy'\n",
       "\\item '3::Grumpier Old Men (1995)::Comedy\\textbar{}Romance'\n",
       "\\item '4::Waiting to Exhale (1995)::Comedy\\textbar{}Drama'\n",
       "\\item '5::Father of the Bride Part II (1995)::Comedy'\n",
       "\\item '6::Heat (1995)::Action\\textbar{}Crime\\textbar{}Thriller'\n",
       "\\item '7::Sabrina (1995)::Comedy\\textbar{}Romance'\n",
       "\\item '8::Tom and Huck (1995)::Adventure\\textbar{}Children\\textbackslash{}'s'\n",
       "\\item '9::Sudden Death (1995)::Action'\n",
       "\\item '10::GoldenEye (1995)::Action\\textbar{}Adventure\\textbar{}Thriller'\n",
       "\\item '11::American President, The (1995)::Comedy\\textbar{}Drama\\textbar{}Romance'\n",
       "\\item '12::Dracula: Dead and Loving It (1995)::Comedy\\textbar{}Horror'\n",
       "\\item '13::Balto (1995)::Animation\\textbar{}Children\\textbackslash{}'s'\n",
       "\\item '14::Nixon (1995)::Drama'\n",
       "\\item '15::Cutthroat Island (1995)::Action\\textbar{}Adventure\\textbar{}Romance'\n",
       "\\item '16::Casino (1995)::Drama\\textbar{}Thriller'\n",
       "\\item '17::Sense and Sensibility (1995)::Drama\\textbar{}Romance'\n",
       "\\item '18::Four Rooms (1995)::Thriller'\n",
       "\\item '19::Ace Ventura: When Nature Calls (1995)::Comedy'\n",
       "\\item '20::Money Train (1995)::Action'\n",
       "\\end{enumerate*}\n"
      ],
      "text/markdown": [
       "1. '1::Toy Story (1995)::Animation|Children\\'s|Comedy'\n",
       "2. '2::Jumanji (1995)::Adventure|Children\\'s|Fantasy'\n",
       "3. '3::Grumpier Old Men (1995)::Comedy|Romance'\n",
       "4. '4::Waiting to Exhale (1995)::Comedy|Drama'\n",
       "5. '5::Father of the Bride Part II (1995)::Comedy'\n",
       "6. '6::Heat (1995)::Action|Crime|Thriller'\n",
       "7. '7::Sabrina (1995)::Comedy|Romance'\n",
       "8. '8::Tom and Huck (1995)::Adventure|Children\\'s'\n",
       "9. '9::Sudden Death (1995)::Action'\n",
       "10. '10::GoldenEye (1995)::Action|Adventure|Thriller'\n",
       "11. '11::American President, The (1995)::Comedy|Drama|Romance'\n",
       "12. '12::Dracula: Dead and Loving It (1995)::Comedy|Horror'\n",
       "13. '13::Balto (1995)::Animation|Children\\'s'\n",
       "14. '14::Nixon (1995)::Drama'\n",
       "15. '15::Cutthroat Island (1995)::Action|Adventure|Romance'\n",
       "16. '16::Casino (1995)::Drama|Thriller'\n",
       "17. '17::Sense and Sensibility (1995)::Drama|Romance'\n",
       "18. '18::Four Rooms (1995)::Thriller'\n",
       "19. '19::Ace Ventura: When Nature Calls (1995)::Comedy'\n",
       "20. '20::Money Train (1995)::Action'\n",
       "\n",
       "\n"
      ],
      "text/plain": [
       " [1] \"1::Toy Story (1995)::Animation|Children's|Comedy\"        \n",
       " [2] \"2::Jumanji (1995)::Adventure|Children's|Fantasy\"         \n",
       " [3] \"3::Grumpier Old Men (1995)::Comedy|Romance\"              \n",
       " [4] \"4::Waiting to Exhale (1995)::Comedy|Drama\"               \n",
       " [5] \"5::Father of the Bride Part II (1995)::Comedy\"           \n",
       " [6] \"6::Heat (1995)::Action|Crime|Thriller\"                   \n",
       " [7] \"7::Sabrina (1995)::Comedy|Romance\"                       \n",
       " [8] \"8::Tom and Huck (1995)::Adventure|Children's\"            \n",
       " [9] \"9::Sudden Death (1995)::Action\"                          \n",
       "[10] \"10::GoldenEye (1995)::Action|Adventure|Thriller\"         \n",
       "[11] \"11::American President, The (1995)::Comedy|Drama|Romance\"\n",
       "[12] \"12::Dracula: Dead and Loving It (1995)::Comedy|Horror\"   \n",
       "[13] \"13::Balto (1995)::Animation|Children's\"                  \n",
       "[14] \"14::Nixon (1995)::Drama\"                                 \n",
       "[15] \"15::Cutthroat Island (1995)::Action|Adventure|Romance\"   \n",
       "[16] \"16::Casino (1995)::Drama|Thriller\"                       \n",
       "[17] \"17::Sense and Sensibility (1995)::Drama|Romance\"         \n",
       "[18] \"18::Four Rooms (1995)::Thriller\"                         \n",
       "[19] \"19::Ace Ventura: When Nature Calls (1995)::Comedy\"       \n",
       "[20] \"20::Money Train (1995)::Action\"                          "
      ]
     },
     "metadata": {},
     "output_type": "display_data"
    }
   ],
   "source": [
    "# Here we read the movies data again in the raw format and display the first few rows\n",
    "lines <- readLines(\"/resources/data/movies.dat\")\n",
    "head(lines, 20)"
   ]
  },
  {
   "cell_type": "markdown",
   "metadata": {},
   "source": [
    "It would appear that for each line of the data, the information that would go into each column is separated by a double colon (**::**) as opposed to the single colon (**:**) we used for our sep value in our *read.csv* function call. However, the read.csv function only allows us to use single characters for our field separator character (**sep**) value."
   ]
  },
  {
   "cell_type": "markdown",
   "metadata": {},
   "source": [
    "We can use the function gsub to replace the double colons (::) in our data with the symbol tilde (~)."
   ]
  },
  {
   "cell_type": "code",
   "execution_count": 3,
   "metadata": {
    "scrolled": false
   },
   "outputs": [
    {
     "data": {
      "text/html": [
       "<ol class=list-inline>\n",
       "\t<li>'1~Toy Story (1995)~Animation|Children\\'s|Comedy'</li>\n",
       "\t<li>'2~Jumanji (1995)~Adventure|Children\\'s|Fantasy'</li>\n",
       "\t<li>'3~Grumpier Old Men (1995)~Comedy|Romance'</li>\n",
       "\t<li>'4~Waiting to Exhale (1995)~Comedy|Drama'</li>\n",
       "\t<li>'5~Father of the Bride Part II (1995)~Comedy'</li>\n",
       "\t<li>'6~Heat (1995)~Action|Crime|Thriller'</li>\n",
       "\t<li>'7~Sabrina (1995)~Comedy|Romance'</li>\n",
       "\t<li>'8~Tom and Huck (1995)~Adventure|Children\\'s'</li>\n",
       "\t<li>'9~Sudden Death (1995)~Action'</li>\n",
       "\t<li>'10~GoldenEye (1995)~Action|Adventure|Thriller'</li>\n",
       "\t<li>'11~American President, The (1995)~Comedy|Drama|Romance'</li>\n",
       "\t<li>'12~Dracula: Dead and Loving It (1995)~Comedy|Horror'</li>\n",
       "\t<li>'13~Balto (1995)~Animation|Children\\'s'</li>\n",
       "\t<li>'14~Nixon (1995)~Drama'</li>\n",
       "\t<li>'15~Cutthroat Island (1995)~Action|Adventure|Romance'</li>\n",
       "\t<li>'16~Casino (1995)~Drama|Thriller'</li>\n",
       "\t<li>'17~Sense and Sensibility (1995)~Drama|Romance'</li>\n",
       "\t<li>'18~Four Rooms (1995)~Thriller'</li>\n",
       "\t<li>'19~Ace Ventura: When Nature Calls (1995)~Comedy'</li>\n",
       "\t<li>'20~Money Train (1995)~Action'</li>\n",
       "</ol>\n"
      ],
      "text/latex": [
       "\\begin{enumerate*}\n",
       "\\item '1\\textasciitilde{}Toy Story (1995)\\textasciitilde{}Animation\\textbar{}Children\\textbackslash{}'s\\textbar{}Comedy'\n",
       "\\item '2\\textasciitilde{}Jumanji (1995)\\textasciitilde{}Adventure\\textbar{}Children\\textbackslash{}'s\\textbar{}Fantasy'\n",
       "\\item '3\\textasciitilde{}Grumpier Old Men (1995)\\textasciitilde{}Comedy\\textbar{}Romance'\n",
       "\\item '4\\textasciitilde{}Waiting to Exhale (1995)\\textasciitilde{}Comedy\\textbar{}Drama'\n",
       "\\item '5\\textasciitilde{}Father of the Bride Part II (1995)\\textasciitilde{}Comedy'\n",
       "\\item '6\\textasciitilde{}Heat (1995)\\textasciitilde{}Action\\textbar{}Crime\\textbar{}Thriller'\n",
       "\\item '7\\textasciitilde{}Sabrina (1995)\\textasciitilde{}Comedy\\textbar{}Romance'\n",
       "\\item '8\\textasciitilde{}Tom and Huck (1995)\\textasciitilde{}Adventure\\textbar{}Children\\textbackslash{}'s'\n",
       "\\item '9\\textasciitilde{}Sudden Death (1995)\\textasciitilde{}Action'\n",
       "\\item '10\\textasciitilde{}GoldenEye (1995)\\textasciitilde{}Action\\textbar{}Adventure\\textbar{}Thriller'\n",
       "\\item '11\\textasciitilde{}American President, The (1995)\\textasciitilde{}Comedy\\textbar{}Drama\\textbar{}Romance'\n",
       "\\item '12\\textasciitilde{}Dracula: Dead and Loving It (1995)\\textasciitilde{}Comedy\\textbar{}Horror'\n",
       "\\item '13\\textasciitilde{}Balto (1995)\\textasciitilde{}Animation\\textbar{}Children\\textbackslash{}'s'\n",
       "\\item '14\\textasciitilde{}Nixon (1995)\\textasciitilde{}Drama'\n",
       "\\item '15\\textasciitilde{}Cutthroat Island (1995)\\textasciitilde{}Action\\textbar{}Adventure\\textbar{}Romance'\n",
       "\\item '16\\textasciitilde{}Casino (1995)\\textasciitilde{}Drama\\textbar{}Thriller'\n",
       "\\item '17\\textasciitilde{}Sense and Sensibility (1995)\\textasciitilde{}Drama\\textbar{}Romance'\n",
       "\\item '18\\textasciitilde{}Four Rooms (1995)\\textasciitilde{}Thriller'\n",
       "\\item '19\\textasciitilde{}Ace Ventura: When Nature Calls (1995)\\textasciitilde{}Comedy'\n",
       "\\item '20\\textasciitilde{}Money Train (1995)\\textasciitilde{}Action'\n",
       "\\end{enumerate*}\n"
      ],
      "text/markdown": [
       "1. '1~Toy Story (1995)~Animation|Children\\'s|Comedy'\n",
       "2. '2~Jumanji (1995)~Adventure|Children\\'s|Fantasy'\n",
       "3. '3~Grumpier Old Men (1995)~Comedy|Romance'\n",
       "4. '4~Waiting to Exhale (1995)~Comedy|Drama'\n",
       "5. '5~Father of the Bride Part II (1995)~Comedy'\n",
       "6. '6~Heat (1995)~Action|Crime|Thriller'\n",
       "7. '7~Sabrina (1995)~Comedy|Romance'\n",
       "8. '8~Tom and Huck (1995)~Adventure|Children\\'s'\n",
       "9. '9~Sudden Death (1995)~Action'\n",
       "10. '10~GoldenEye (1995)~Action|Adventure|Thriller'\n",
       "11. '11~American President, The (1995)~Comedy|Drama|Romance'\n",
       "12. '12~Dracula: Dead and Loving It (1995)~Comedy|Horror'\n",
       "13. '13~Balto (1995)~Animation|Children\\'s'\n",
       "14. '14~Nixon (1995)~Drama'\n",
       "15. '15~Cutthroat Island (1995)~Action|Adventure|Romance'\n",
       "16. '16~Casino (1995)~Drama|Thriller'\n",
       "17. '17~Sense and Sensibility (1995)~Drama|Romance'\n",
       "18. '18~Four Rooms (1995)~Thriller'\n",
       "19. '19~Ace Ventura: When Nature Calls (1995)~Comedy'\n",
       "20. '20~Money Train (1995)~Action'\n",
       "\n",
       "\n"
      ],
      "text/plain": [
       " [1] \"1~Toy Story (1995)~Animation|Children's|Comedy\"        \n",
       " [2] \"2~Jumanji (1995)~Adventure|Children's|Fantasy\"         \n",
       " [3] \"3~Grumpier Old Men (1995)~Comedy|Romance\"              \n",
       " [4] \"4~Waiting to Exhale (1995)~Comedy|Drama\"               \n",
       " [5] \"5~Father of the Bride Part II (1995)~Comedy\"           \n",
       " [6] \"6~Heat (1995)~Action|Crime|Thriller\"                   \n",
       " [7] \"7~Sabrina (1995)~Comedy|Romance\"                       \n",
       " [8] \"8~Tom and Huck (1995)~Adventure|Children's\"            \n",
       " [9] \"9~Sudden Death (1995)~Action\"                          \n",
       "[10] \"10~GoldenEye (1995)~Action|Adventure|Thriller\"         \n",
       "[11] \"11~American President, The (1995)~Comedy|Drama|Romance\"\n",
       "[12] \"12~Dracula: Dead and Loving It (1995)~Comedy|Horror\"   \n",
       "[13] \"13~Balto (1995)~Animation|Children's\"                  \n",
       "[14] \"14~Nixon (1995)~Drama\"                                 \n",
       "[15] \"15~Cutthroat Island (1995)~Action|Adventure|Romance\"   \n",
       "[16] \"16~Casino (1995)~Drama|Thriller\"                       \n",
       "[17] \"17~Sense and Sensibility (1995)~Drama|Romance\"         \n",
       "[18] \"18~Four Rooms (1995)~Thriller\"                         \n",
       "[19] \"19~Ace Ventura: When Nature Calls (1995)~Comedy\"       \n",
       "[20] \"20~Money Train (1995)~Action\"                          "
      ]
     },
     "metadata": {},
     "output_type": "display_data"
    }
   ],
   "source": [
    "# Here we replace the sep character used in the data (\"::\") with one that does not appear in the data (\"~\")\n",
    "lines <- gsub(\"::\", \"~\", lines)\n",
    "head(lines, 20)"
   ]
  },
  {
   "cell_type": "markdown",
   "metadata": {},
   "source": [
    "Let's redo the movies dataframe with our modified raw data."
   ]
  },
  {
   "cell_type": "code",
   "execution_count": 4,
   "metadata": {
    "scrolled": true
   },
   "outputs": [
    {
     "data": {
      "text/html": [
       "<table>\n",
       "<thead><tr><th scope=col>V1</th><th scope=col>V2</th><th scope=col>V3</th></tr></thead>\n",
       "<tbody>\n",
       "\t<tr><td> 1                                   </td><td>Toy Story (1995)                     </td><td>Animation|Children's|Comedy          </td></tr>\n",
       "\t<tr><td> 2                                   </td><td>Jumanji (1995)                       </td><td>Adventure|Children's|Fantasy         </td></tr>\n",
       "\t<tr><td> 3                                   </td><td>Grumpier Old Men (1995)              </td><td>Comedy|Romance                       </td></tr>\n",
       "\t<tr><td> 4                                   </td><td>Waiting to Exhale (1995)             </td><td>Comedy|Drama                         </td></tr>\n",
       "\t<tr><td> 5                                   </td><td>Father of the Bride Part II (1995)   </td><td>Comedy                               </td></tr>\n",
       "\t<tr><td> 6                                   </td><td>Heat (1995)                          </td><td>Action|Crime|Thriller                </td></tr>\n",
       "\t<tr><td> 7                                   </td><td>Sabrina (1995)                       </td><td>Comedy|Romance                       </td></tr>\n",
       "\t<tr><td> 8                                   </td><td>Tom and Huck (1995)                  </td><td>Adventure|Children's                 </td></tr>\n",
       "\t<tr><td> 9                                   </td><td>Sudden Death (1995)                  </td><td>Action                               </td></tr>\n",
       "\t<tr><td>10                                   </td><td>GoldenEye (1995)                     </td><td>Action|Adventure|Thriller            </td></tr>\n",
       "\t<tr><td>11                                   </td><td>American President, The (1995)       </td><td>Comedy|Drama|Romance                 </td></tr>\n",
       "\t<tr><td>12                                   </td><td>Dracula: Dead and Loving It (1995)   </td><td>Comedy|Horror                        </td></tr>\n",
       "\t<tr><td>13                                   </td><td>Balto (1995)                         </td><td>Animation|Children's                 </td></tr>\n",
       "\t<tr><td>14                                   </td><td>Nixon (1995)                         </td><td>Drama                                </td></tr>\n",
       "\t<tr><td>15                                   </td><td>Cutthroat Island (1995)              </td><td>Action|Adventure|Romance             </td></tr>\n",
       "\t<tr><td>16                                   </td><td>Casino (1995)                        </td><td>Drama|Thriller                       </td></tr>\n",
       "\t<tr><td>17                                   </td><td>Sense and Sensibility (1995)         </td><td>Drama|Romance                        </td></tr>\n",
       "\t<tr><td>18                                   </td><td>Four Rooms (1995)                    </td><td>Thriller                             </td></tr>\n",
       "\t<tr><td>19                                   </td><td>Ace Ventura: When Nature Calls (1995)</td><td>Comedy                               </td></tr>\n",
       "\t<tr><td>20                                   </td><td>Money Train (1995)                   </td><td>Action                               </td></tr>\n",
       "</tbody>\n",
       "</table>\n"
      ],
      "text/latex": [
       "\\begin{tabular}{r|lll}\n",
       " V1 & V2 & V3\\\\\n",
       "\\hline\n",
       "\t  1                                               & Toy Story (1995)                                 & Animation\\textbar{}Children's\\textbar{}Comedy \\\\\n",
       "\t  2                                               & Jumanji (1995)                                   & Adventure\\textbar{}Children's\\textbar{}Fantasy\\\\\n",
       "\t  3                                     & Grumpier Old Men (1995)                & Comedy\\textbar{}Romance              \\\\\n",
       "\t  4                                     & Waiting to Exhale (1995)               & Comedy\\textbar{}Drama                \\\\\n",
       "\t  5                                    & Father of the Bride Part II (1995)    & Comedy                               \\\\\n",
       "\t  6                                               & Heat (1995)                                      & Action\\textbar{}Crime\\textbar{}Thriller       \\\\\n",
       "\t  7                                     & Sabrina (1995)                         & Comedy\\textbar{}Romance              \\\\\n",
       "\t  8                                     & Tom and Huck (1995)                    & Adventure\\textbar{}Children's        \\\\\n",
       "\t  9                                    & Sudden Death (1995)                   & Action                               \\\\\n",
       "\t 10                                               & GoldenEye (1995)                                 & Action\\textbar{}Adventure\\textbar{}Thriller   \\\\\n",
       "\t 11                                               & American President, The (1995)                   & Comedy\\textbar{}Drama\\textbar{}Romance        \\\\\n",
       "\t 12                                     & Dracula: Dead and Loving It (1995)     & Comedy\\textbar{}Horror               \\\\\n",
       "\t 13                                     & Balto (1995)                           & Animation\\textbar{}Children's        \\\\\n",
       "\t 14                                    & Nixon (1995)                          & Drama                                \\\\\n",
       "\t 15                                               & Cutthroat Island (1995)                          & Action\\textbar{}Adventure\\textbar{}Romance    \\\\\n",
       "\t 16                                     & Casino (1995)                          & Drama\\textbar{}Thriller              \\\\\n",
       "\t 17                                     & Sense and Sensibility (1995)           & Drama\\textbar{}Romance               \\\\\n",
       "\t 18                                    & Four Rooms (1995)                     & Thriller                             \\\\\n",
       "\t 19                                    & Ace Ventura: When Nature Calls (1995) & Comedy                               \\\\\n",
       "\t 20                                    & Money Train (1995)                    & Action                               \\\\\n",
       "\\end{tabular}\n"
      ],
      "text/markdown": [
       "\n",
       "V1 | V2 | V3 | \n",
       "|---|---|---|---|---|---|---|---|---|---|---|---|---|---|---|---|---|---|---|---|\n",
       "|  1                                    | Toy Story (1995)                      | Animation|Children's|Comedy           | \n",
       "|  2                                    | Jumanji (1995)                        | Adventure|Children's|Fantasy          | \n",
       "|  3                                    | Grumpier Old Men (1995)               | Comedy|Romance                        | \n",
       "|  4                                    | Waiting to Exhale (1995)              | Comedy|Drama                          | \n",
       "|  5                                    | Father of the Bride Part II (1995)    | Comedy                                | \n",
       "|  6                                    | Heat (1995)                           | Action|Crime|Thriller                 | \n",
       "|  7                                    | Sabrina (1995)                        | Comedy|Romance                        | \n",
       "|  8                                    | Tom and Huck (1995)                   | Adventure|Children's                  | \n",
       "|  9                                    | Sudden Death (1995)                   | Action                                | \n",
       "| 10                                    | GoldenEye (1995)                      | Action|Adventure|Thriller             | \n",
       "| 11                                    | American President, The (1995)        | Comedy|Drama|Romance                  | \n",
       "| 12                                    | Dracula: Dead and Loving It (1995)    | Comedy|Horror                         | \n",
       "| 13                                    | Balto (1995)                          | Animation|Children's                  | \n",
       "| 14                                    | Nixon (1995)                          | Drama                                 | \n",
       "| 15                                    | Cutthroat Island (1995)               | Action|Adventure|Romance              | \n",
       "| 16                                    | Casino (1995)                         | Drama|Thriller                        | \n",
       "| 17                                    | Sense and Sensibility (1995)          | Drama|Romance                         | \n",
       "| 18                                    | Four Rooms (1995)                     | Thriller                              | \n",
       "| 19                                    | Ace Ventura: When Nature Calls (1995) | Comedy                                | \n",
       "| 20                                    | Money Train (1995)                    | Action                                | \n",
       "\n",
       "\n"
      ],
      "text/plain": [
       "   V1 V2                                    V3                          \n",
       "1   1 Toy Story (1995)                      Animation|Children's|Comedy \n",
       "2   2 Jumanji (1995)                        Adventure|Children's|Fantasy\n",
       "3   3 Grumpier Old Men (1995)               Comedy|Romance              \n",
       "4   4 Waiting to Exhale (1995)              Comedy|Drama                \n",
       "5   5 Father of the Bride Part II (1995)    Comedy                      \n",
       "6   6 Heat (1995)                           Action|Crime|Thriller       \n",
       "7   7 Sabrina (1995)                        Comedy|Romance              \n",
       "8   8 Tom and Huck (1995)                   Adventure|Children's        \n",
       "9   9 Sudden Death (1995)                   Action                      \n",
       "10 10 GoldenEye (1995)                      Action|Adventure|Thriller   \n",
       "11 11 American President, The (1995)        Comedy|Drama|Romance        \n",
       "12 12 Dracula: Dead and Loving It (1995)    Comedy|Horror               \n",
       "13 13 Balto (1995)                          Animation|Children's        \n",
       "14 14 Nixon (1995)                          Drama                       \n",
       "15 15 Cutthroat Island (1995)               Action|Adventure|Romance    \n",
       "16 16 Casino (1995)                         Drama|Thriller              \n",
       "17 17 Sense and Sensibility (1995)          Drama|Romance               \n",
       "18 18 Four Rooms (1995)                     Thriller                    \n",
       "19 19 Ace Ventura: When Nature Calls (1995) Comedy                      \n",
       "20 20 Money Train (1995)                    Action                      "
      ]
     },
     "metadata": {},
     "output_type": "display_data"
    }
   ],
   "source": [
    "# Now we recreate the movies dataframe using the updated data\n",
    "movies_df <- read.csv(text=lines, sep=\"~\", header = FALSE)\n",
    "head(movies_df, 20)"
   ]
  },
  {
   "cell_type": "markdown",
   "metadata": {},
   "source": [
    "So each movie has a unique ID, a title with its release year along with it and several different genres in the same field. Name the columns and then remove the year from the title column using R's handy \"sub\" function and then clean any trailing whitespaces."
   ]
  },
  {
   "cell_type": "code",
   "execution_count": 5,
   "metadata": {
    "collapsed": true,
    "scrolled": false
   },
   "outputs": [],
   "source": [
    "names(movies_df)[names(movies_df)==\"V1\"] = \"movieId\"\n",
    "names(movies_df)[names(movies_df)==\"V2\"] = \"title\"\n",
    "names(movies_df)[names(movies_df)==\"V3\"] = \"genres\"\n",
    "#Applying the strip function to get rid of any ending whitespace characters that may have appeared\n",
    "movies_df$title = sub(\"\\\\s+$\", \"\", movies_df$title)"
   ]
  },
  {
   "cell_type": "markdown",
   "metadata": {},
   "source": [
    "Let's look at the result!"
   ]
  },
  {
   "cell_type": "code",
   "execution_count": 6,
   "metadata": {
    "scrolled": true
   },
   "outputs": [
    {
     "data": {
      "text/html": [
       "<table>\n",
       "<thead><tr><th scope=col>movieId</th><th scope=col>title</th><th scope=col>genres</th></tr></thead>\n",
       "<tbody>\n",
       "\t<tr><td> 1                                   </td><td>Toy Story (1995)                     </td><td>Animation|Children's|Comedy          </td></tr>\n",
       "\t<tr><td> 2                                   </td><td>Jumanji (1995)                       </td><td>Adventure|Children's|Fantasy         </td></tr>\n",
       "\t<tr><td> 3                                   </td><td>Grumpier Old Men (1995)              </td><td>Comedy|Romance                       </td></tr>\n",
       "\t<tr><td> 4                                   </td><td>Waiting to Exhale (1995)             </td><td>Comedy|Drama                         </td></tr>\n",
       "\t<tr><td> 5                                   </td><td>Father of the Bride Part II (1995)   </td><td>Comedy                               </td></tr>\n",
       "\t<tr><td> 6                                   </td><td>Heat (1995)                          </td><td>Action|Crime|Thriller                </td></tr>\n",
       "\t<tr><td> 7                                   </td><td>Sabrina (1995)                       </td><td>Comedy|Romance                       </td></tr>\n",
       "\t<tr><td> 8                                   </td><td>Tom and Huck (1995)                  </td><td>Adventure|Children's                 </td></tr>\n",
       "\t<tr><td> 9                                   </td><td>Sudden Death (1995)                  </td><td>Action                               </td></tr>\n",
       "\t<tr><td>10                                   </td><td>GoldenEye (1995)                     </td><td>Action|Adventure|Thriller            </td></tr>\n",
       "\t<tr><td>11                                   </td><td>American President, The (1995)       </td><td>Comedy|Drama|Romance                 </td></tr>\n",
       "\t<tr><td>12                                   </td><td>Dracula: Dead and Loving It (1995)   </td><td>Comedy|Horror                        </td></tr>\n",
       "\t<tr><td>13                                   </td><td>Balto (1995)                         </td><td>Animation|Children's                 </td></tr>\n",
       "\t<tr><td>14                                   </td><td>Nixon (1995)                         </td><td>Drama                                </td></tr>\n",
       "\t<tr><td>15                                   </td><td>Cutthroat Island (1995)              </td><td>Action|Adventure|Romance             </td></tr>\n",
       "\t<tr><td>16                                   </td><td>Casino (1995)                        </td><td>Drama|Thriller                       </td></tr>\n",
       "\t<tr><td>17                                   </td><td>Sense and Sensibility (1995)         </td><td>Drama|Romance                        </td></tr>\n",
       "\t<tr><td>18                                   </td><td>Four Rooms (1995)                    </td><td>Thriller                             </td></tr>\n",
       "\t<tr><td>19                                   </td><td>Ace Ventura: When Nature Calls (1995)</td><td>Comedy                               </td></tr>\n",
       "\t<tr><td>20                                   </td><td>Money Train (1995)                   </td><td>Action                               </td></tr>\n",
       "</tbody>\n",
       "</table>\n"
      ],
      "text/latex": [
       "\\begin{tabular}{r|lll}\n",
       " movieId & title & genres\\\\\n",
       "\\hline\n",
       "\t  1                                               & Toy Story (1995)                                 & Animation\\textbar{}Children's\\textbar{}Comedy \\\\\n",
       "\t  2                                               & Jumanji (1995)                                   & Adventure\\textbar{}Children's\\textbar{}Fantasy\\\\\n",
       "\t  3                                     & Grumpier Old Men (1995)                & Comedy\\textbar{}Romance              \\\\\n",
       "\t  4                                     & Waiting to Exhale (1995)               & Comedy\\textbar{}Drama                \\\\\n",
       "\t  5                                    & Father of the Bride Part II (1995)    & Comedy                               \\\\\n",
       "\t  6                                               & Heat (1995)                                      & Action\\textbar{}Crime\\textbar{}Thriller       \\\\\n",
       "\t  7                                     & Sabrina (1995)                         & Comedy\\textbar{}Romance              \\\\\n",
       "\t  8                                     & Tom and Huck (1995)                    & Adventure\\textbar{}Children's        \\\\\n",
       "\t  9                                    & Sudden Death (1995)                   & Action                               \\\\\n",
       "\t 10                                               & GoldenEye (1995)                                 & Action\\textbar{}Adventure\\textbar{}Thriller   \\\\\n",
       "\t 11                                               & American President, The (1995)                   & Comedy\\textbar{}Drama\\textbar{}Romance        \\\\\n",
       "\t 12                                     & Dracula: Dead and Loving It (1995)     & Comedy\\textbar{}Horror               \\\\\n",
       "\t 13                                     & Balto (1995)                           & Animation\\textbar{}Children's        \\\\\n",
       "\t 14                                    & Nixon (1995)                          & Drama                                \\\\\n",
       "\t 15                                               & Cutthroat Island (1995)                          & Action\\textbar{}Adventure\\textbar{}Romance    \\\\\n",
       "\t 16                                     & Casino (1995)                          & Drama\\textbar{}Thriller              \\\\\n",
       "\t 17                                     & Sense and Sensibility (1995)           & Drama\\textbar{}Romance               \\\\\n",
       "\t 18                                    & Four Rooms (1995)                     & Thriller                             \\\\\n",
       "\t 19                                    & Ace Ventura: When Nature Calls (1995) & Comedy                               \\\\\n",
       "\t 20                                    & Money Train (1995)                    & Action                               \\\\\n",
       "\\end{tabular}\n"
      ],
      "text/markdown": [
       "\n",
       "movieId | title | genres | \n",
       "|---|---|---|---|---|---|---|---|---|---|---|---|---|---|---|---|---|---|---|---|\n",
       "|  1                                    | Toy Story (1995)                      | Animation|Children's|Comedy           | \n",
       "|  2                                    | Jumanji (1995)                        | Adventure|Children's|Fantasy          | \n",
       "|  3                                    | Grumpier Old Men (1995)               | Comedy|Romance                        | \n",
       "|  4                                    | Waiting to Exhale (1995)              | Comedy|Drama                          | \n",
       "|  5                                    | Father of the Bride Part II (1995)    | Comedy                                | \n",
       "|  6                                    | Heat (1995)                           | Action|Crime|Thriller                 | \n",
       "|  7                                    | Sabrina (1995)                        | Comedy|Romance                        | \n",
       "|  8                                    | Tom and Huck (1995)                   | Adventure|Children's                  | \n",
       "|  9                                    | Sudden Death (1995)                   | Action                                | \n",
       "| 10                                    | GoldenEye (1995)                      | Action|Adventure|Thriller             | \n",
       "| 11                                    | American President, The (1995)        | Comedy|Drama|Romance                  | \n",
       "| 12                                    | Dracula: Dead and Loving It (1995)    | Comedy|Horror                         | \n",
       "| 13                                    | Balto (1995)                          | Animation|Children's                  | \n",
       "| 14                                    | Nixon (1995)                          | Drama                                 | \n",
       "| 15                                    | Cutthroat Island (1995)               | Action|Adventure|Romance              | \n",
       "| 16                                    | Casino (1995)                         | Drama|Thriller                        | \n",
       "| 17                                    | Sense and Sensibility (1995)          | Drama|Romance                         | \n",
       "| 18                                    | Four Rooms (1995)                     | Thriller                              | \n",
       "| 19                                    | Ace Ventura: When Nature Calls (1995) | Comedy                                | \n",
       "| 20                                    | Money Train (1995)                    | Action                                | \n",
       "\n",
       "\n"
      ],
      "text/plain": [
       "   movieId title                                 genres                      \n",
       "1   1      Toy Story (1995)                      Animation|Children's|Comedy \n",
       "2   2      Jumanji (1995)                        Adventure|Children's|Fantasy\n",
       "3   3      Grumpier Old Men (1995)               Comedy|Romance              \n",
       "4   4      Waiting to Exhale (1995)              Comedy|Drama                \n",
       "5   5      Father of the Bride Part II (1995)    Comedy                      \n",
       "6   6      Heat (1995)                           Action|Crime|Thriller       \n",
       "7   7      Sabrina (1995)                        Comedy|Romance              \n",
       "8   8      Tom and Huck (1995)                   Adventure|Children's        \n",
       "9   9      Sudden Death (1995)                   Action                      \n",
       "10 10      GoldenEye (1995)                      Action|Adventure|Thriller   \n",
       "11 11      American President, The (1995)        Comedy|Drama|Romance        \n",
       "12 12      Dracula: Dead and Loving It (1995)    Comedy|Horror               \n",
       "13 13      Balto (1995)                          Animation|Children's        \n",
       "14 14      Nixon (1995)                          Drama                       \n",
       "15 15      Cutthroat Island (1995)               Action|Adventure|Romance    \n",
       "16 16      Casino (1995)                         Drama|Thriller              \n",
       "17 17      Sense and Sensibility (1995)          Drama|Romance               \n",
       "18 18      Four Rooms (1995)                     Thriller                    \n",
       "19 19      Ace Ventura: When Nature Calls (1995) Comedy                      \n",
       "20 20      Money Train (1995)                    Action                      "
      ]
     },
     "metadata": {},
     "output_type": "display_data"
    }
   ],
   "source": [
    "head(movies_df, 20)"
   ]
  },
  {
   "cell_type": "markdown",
   "metadata": {},
   "source": [
    "With that, let's also drop the genres column since we won't need it for this particular recommendation system."
   ]
  },
  {
   "cell_type": "code",
   "execution_count": 7,
   "metadata": {
    "collapsed": true,
    "scrolled": false
   },
   "outputs": [],
   "source": [
    "#Dropping the genres column\n",
    "movies_df$genres = NULL\n"
   ]
  },
  {
   "cell_type": "markdown",
   "metadata": {},
   "source": [
    "Here's the final movies dataframe:"
   ]
  },
  {
   "cell_type": "code",
   "execution_count": 8,
   "metadata": {
    "scrolled": true
   },
   "outputs": [
    {
     "data": {
      "text/html": [
       "<table>\n",
       "<thead><tr><th scope=col>movieId</th><th scope=col>title</th></tr></thead>\n",
       "<tbody>\n",
       "\t<tr><td> 1                                   </td><td>Toy Story (1995)                     </td></tr>\n",
       "\t<tr><td> 2                                   </td><td>Jumanji (1995)                       </td></tr>\n",
       "\t<tr><td> 3                                   </td><td>Grumpier Old Men (1995)              </td></tr>\n",
       "\t<tr><td> 4                                   </td><td>Waiting to Exhale (1995)             </td></tr>\n",
       "\t<tr><td> 5                                   </td><td>Father of the Bride Part II (1995)   </td></tr>\n",
       "\t<tr><td> 6                                   </td><td>Heat (1995)                          </td></tr>\n",
       "\t<tr><td> 7                                   </td><td>Sabrina (1995)                       </td></tr>\n",
       "\t<tr><td> 8                                   </td><td>Tom and Huck (1995)                  </td></tr>\n",
       "\t<tr><td> 9                                   </td><td>Sudden Death (1995)                  </td></tr>\n",
       "\t<tr><td>10                                   </td><td>GoldenEye (1995)                     </td></tr>\n",
       "\t<tr><td>11                                   </td><td>American President, The (1995)       </td></tr>\n",
       "\t<tr><td>12                                   </td><td>Dracula: Dead and Loving It (1995)   </td></tr>\n",
       "\t<tr><td>13                                   </td><td>Balto (1995)                         </td></tr>\n",
       "\t<tr><td>14                                   </td><td>Nixon (1995)                         </td></tr>\n",
       "\t<tr><td>15                                   </td><td>Cutthroat Island (1995)              </td></tr>\n",
       "\t<tr><td>16                                   </td><td>Casino (1995)                        </td></tr>\n",
       "\t<tr><td>17                                   </td><td>Sense and Sensibility (1995)         </td></tr>\n",
       "\t<tr><td>18                                   </td><td>Four Rooms (1995)                    </td></tr>\n",
       "\t<tr><td>19                                   </td><td>Ace Ventura: When Nature Calls (1995)</td></tr>\n",
       "\t<tr><td>20                                   </td><td>Money Train (1995)                   </td></tr>\n",
       "</tbody>\n",
       "</table>\n"
      ],
      "text/latex": [
       "\\begin{tabular}{r|ll}\n",
       " movieId & title\\\\\n",
       "\\hline\n",
       "\t  1                                    & Toy Story (1995)                     \\\\\n",
       "\t  2                                    & Jumanji (1995)                       \\\\\n",
       "\t  3                                    & Grumpier Old Men (1995)              \\\\\n",
       "\t  4                                    & Waiting to Exhale (1995)             \\\\\n",
       "\t  5                                    & Father of the Bride Part II (1995)   \\\\\n",
       "\t  6                                    & Heat (1995)                          \\\\\n",
       "\t  7                                    & Sabrina (1995)                       \\\\\n",
       "\t  8                                    & Tom and Huck (1995)                  \\\\\n",
       "\t  9                                    & Sudden Death (1995)                  \\\\\n",
       "\t 10                                    & GoldenEye (1995)                     \\\\\n",
       "\t 11                                    & American President, The (1995)       \\\\\n",
       "\t 12                                    & Dracula: Dead and Loving It (1995)   \\\\\n",
       "\t 13                                    & Balto (1995)                         \\\\\n",
       "\t 14                                    & Nixon (1995)                         \\\\\n",
       "\t 15                                    & Cutthroat Island (1995)              \\\\\n",
       "\t 16                                    & Casino (1995)                        \\\\\n",
       "\t 17                                    & Sense and Sensibility (1995)         \\\\\n",
       "\t 18                                    & Four Rooms (1995)                    \\\\\n",
       "\t 19                                    & Ace Ventura: When Nature Calls (1995)\\\\\n",
       "\t 20                                    & Money Train (1995)                   \\\\\n",
       "\\end{tabular}\n"
      ],
      "text/markdown": [
       "\n",
       "movieId | title | \n",
       "|---|---|---|---|---|---|---|---|---|---|---|---|---|---|---|---|---|---|---|---|\n",
       "|  1                                    | Toy Story (1995)                      | \n",
       "|  2                                    | Jumanji (1995)                        | \n",
       "|  3                                    | Grumpier Old Men (1995)               | \n",
       "|  4                                    | Waiting to Exhale (1995)              | \n",
       "|  5                                    | Father of the Bride Part II (1995)    | \n",
       "|  6                                    | Heat (1995)                           | \n",
       "|  7                                    | Sabrina (1995)                        | \n",
       "|  8                                    | Tom and Huck (1995)                   | \n",
       "|  9                                    | Sudden Death (1995)                   | \n",
       "| 10                                    | GoldenEye (1995)                      | \n",
       "| 11                                    | American President, The (1995)        | \n",
       "| 12                                    | Dracula: Dead and Loving It (1995)    | \n",
       "| 13                                    | Balto (1995)                          | \n",
       "| 14                                    | Nixon (1995)                          | \n",
       "| 15                                    | Cutthroat Island (1995)               | \n",
       "| 16                                    | Casino (1995)                         | \n",
       "| 17                                    | Sense and Sensibility (1995)          | \n",
       "| 18                                    | Four Rooms (1995)                     | \n",
       "| 19                                    | Ace Ventura: When Nature Calls (1995) | \n",
       "| 20                                    | Money Train (1995)                    | \n",
       "\n",
       "\n"
      ],
      "text/plain": [
       "   movieId title                                \n",
       "1   1      Toy Story (1995)                     \n",
       "2   2      Jumanji (1995)                       \n",
       "3   3      Grumpier Old Men (1995)              \n",
       "4   4      Waiting to Exhale (1995)             \n",
       "5   5      Father of the Bride Part II (1995)   \n",
       "6   6      Heat (1995)                          \n",
       "7   7      Sabrina (1995)                       \n",
       "8   8      Tom and Huck (1995)                  \n",
       "9   9      Sudden Death (1995)                  \n",
       "10 10      GoldenEye (1995)                     \n",
       "11 11      American President, The (1995)       \n",
       "12 12      Dracula: Dead and Loving It (1995)   \n",
       "13 13      Balto (1995)                         \n",
       "14 14      Nixon (1995)                         \n",
       "15 15      Cutthroat Island (1995)              \n",
       "16 16      Casino (1995)                        \n",
       "17 17      Sense and Sensibility (1995)         \n",
       "18 18      Four Rooms (1995)                    \n",
       "19 19      Ace Ventura: When Nature Calls (1995)\n",
       "20 20      Money Train (1995)                   "
      ]
     },
     "metadata": {},
     "output_type": "display_data"
    }
   ],
   "source": [
    "# Display the first 20 rows\n",
    "head(movies_df, 20)"
   ]
  },
  {
   "cell_type": "markdown",
   "metadata": {},
   "source": [
    "<br>"
   ]
  },
  {
   "cell_type": "markdown",
   "metadata": {},
   "source": [
    "Next, let's look at the ratings dataframe."
   ]
  },
  {
   "cell_type": "code",
   "execution_count": 9,
   "metadata": {
    "scrolled": false
   },
   "outputs": [
    {
     "data": {
      "text/html": [
       "<table>\n",
       "<thead><tr><th scope=col>V1</th><th scope=col>V2</th><th scope=col>V3</th><th scope=col>V4</th><th scope=col>V5</th><th scope=col>V6</th><th scope=col>V7</th></tr></thead>\n",
       "<tbody>\n",
       "\t<tr><td>1        </td><td>NA       </td><td>1193     </td><td>NA       </td><td>5        </td><td>NA       </td><td>978300760</td></tr>\n",
       "\t<tr><td>1        </td><td>NA       </td><td> 661     </td><td>NA       </td><td>3        </td><td>NA       </td><td>978302109</td></tr>\n",
       "\t<tr><td>1        </td><td>NA       </td><td> 914     </td><td>NA       </td><td>3        </td><td>NA       </td><td>978301968</td></tr>\n",
       "\t<tr><td>1        </td><td>NA       </td><td>3408     </td><td>NA       </td><td>4        </td><td>NA       </td><td>978300275</td></tr>\n",
       "\t<tr><td>1        </td><td>NA       </td><td>2355     </td><td>NA       </td><td>5        </td><td>NA       </td><td>978824291</td></tr>\n",
       "\t<tr><td>1        </td><td>NA       </td><td>1197     </td><td>NA       </td><td>3        </td><td>NA       </td><td>978302268</td></tr>\n",
       "</tbody>\n",
       "</table>\n"
      ],
      "text/latex": [
       "\\begin{tabular}{r|lllllll}\n",
       " V1 & V2 & V3 & V4 & V5 & V6 & V7\\\\\n",
       "\\hline\n",
       "\t 1         & NA        & 1193      & NA        & 5         & NA        & 978300760\\\\\n",
       "\t 1         & NA        &  661      & NA        & 3         & NA        & 978302109\\\\\n",
       "\t 1         & NA        &  914      & NA        & 3         & NA        & 978301968\\\\\n",
       "\t 1         & NA        & 3408      & NA        & 4         & NA        & 978300275\\\\\n",
       "\t 1         & NA        & 2355      & NA        & 5         & NA        & 978824291\\\\\n",
       "\t 1         & NA        & 1197      & NA        & 3         & NA        & 978302268\\\\\n",
       "\\end{tabular}\n"
      ],
      "text/markdown": [
       "\n",
       "V1 | V2 | V3 | V4 | V5 | V6 | V7 | \n",
       "|---|---|---|---|---|---|\n",
       "| 1         | NA        | 1193      | NA        | 5         | NA        | 978300760 | \n",
       "| 1         | NA        |  661      | NA        | 3         | NA        | 978302109 | \n",
       "| 1         | NA        |  914      | NA        | 3         | NA        | 978301968 | \n",
       "| 1         | NA        | 3408      | NA        | 4         | NA        | 978300275 | \n",
       "| 1         | NA        | 2355      | NA        | 5         | NA        | 978824291 | \n",
       "| 1         | NA        | 1197      | NA        | 3         | NA        | 978302268 | \n",
       "\n",
       "\n"
      ],
      "text/plain": [
       "  V1 V2 V3   V4 V5 V6 V7       \n",
       "1 1  NA 1193 NA 5  NA 978300760\n",
       "2 1  NA  661 NA 3  NA 978302109\n",
       "3 1  NA  914 NA 3  NA 978301968\n",
       "4 1  NA 3408 NA 4  NA 978300275\n",
       "5 1  NA 2355 NA 5  NA 978824291\n",
       "6 1  NA 1197 NA 3  NA 978302268"
      ]
     },
     "metadata": {},
     "output_type": "display_data"
    }
   ],
   "source": [
    "head(ratings_df)"
   ]
  },
  {
   "cell_type": "markdown",
   "metadata": {},
   "source": [
    "Every row in the ratings dataframe has a user id associated with at least one movie, a rating and a timestamp showing when they reviewed it. Let's name the columns accordingly and drop the timestamp column since we won't be using it for this type of recommendation."
   ]
  },
  {
   "cell_type": "code",
   "execution_count": null,
   "metadata": {
    "collapsed": true
   },
   "outputs": [],
   "source": [
    "# Removing the Empty Column Ex: V2, V4, V6 using subset function.\n",
    "# These columns were generated because the data is separated by \"::\" while the read.csv function only accepts single characters\n",
    "# for the sep value  such as \":\" or \"~\", thus the read function assumed that our data was separated by single colons (\":\").\n",
    "ratings_df <- subset( ratings_df, select = -c(V2, V4, V6 ) )\n",
    "head(ratings_df)"
   ]
  },
  {
   "cell_type": "markdown",
   "metadata": {},
   "source": [
    "Lets name the columns in rating_df as follows  \n",
    "- V1 as userId\n",
    "- V3 as movieId\n",
    "- V5 as rating\n",
    "- V7 as timestamp\n",
    "\n",
    "Remove Column timestamp"
   ]
  },
  {
   "cell_type": "code",
   "execution_count": null,
   "metadata": {
    "collapsed": true
   },
   "outputs": [],
   "source": [
    "names(ratings_df)[names(ratings_df)==\"V1\"] = \"userId\"\n",
    "names(ratings_df)[names(ratings_df)==\"V3\"] = \"movieId\"\n",
    "names(ratings_df)[names(ratings_df)==\"V5\"] = \"rating\"\n",
    "names(ratings_df)[names(ratings_df)==\"V7\"] = \"timestamp\"\n",
    "ratings_df$timestamp = NULL\n",
    "# Here's how the final ratings Dataframe looks like:\n",
    "head(ratings_df)"
   ]
  },
  {
   "cell_type": "markdown",
   "metadata": {},
   "source": [
    "<a id=\"ref2\"></a>\n",
    "## Collaborative Filtering"
   ]
  },
  {
   "cell_type": "markdown",
   "metadata": {},
   "source": [
    "Now, time to start our work on recommendation systems. \n",
    "\n",
    "The first technique we're going to take a look at is called __Collaborative Filtering__, which is also known as __User-User Filtering__. As hinted by its alternate name, this technique uses other users data to recommend items to the input user. It attempts to find users that have similar preferences and opinions as the input and then recommends items that they have liked to the input. There are several methods of finding similar users (Even some making use of Machine Learning), and the one we will be using here is going to be based on the __Pearson Correlation Function__.\n",
    "\n",
    "<img src=\"https://ibm.box.com/shared/static/qbubncyen4qqdn5idup8hpp3834igzwt.png\" alt=\"Drawing\" style=\"width: 700px;\"/>\n",
    "\n",
    "\n",
    "The process for creating a User Based recommendation system is as follows:\n",
    "- Select a user with the movies the user has watched\n",
    "- Based on his rating to movies, find the top X neighbours \n",
    "- Get the watched movie record of the user for each neighbour.\n",
    "- Calculate a similarity score using some formula\n",
    "- Recommend the items with the highest score\n",
    "\n",
    "\n",
    "Let's begin by creating an input user to recommend movies to:\n",
    "\n",
    "Notice: To add more movies, simply increase the amount of elements in the userInput. Feel free to add more in! Just be sure to write it in with capital letters and if a movie starts with a \"The\", like \"The Matrix\" then write it in like this: 'Matrix, The' ."
   ]
  },
  {
   "cell_type": "code",
   "execution_count": null,
   "metadata": {
    "collapsed": true
   },
   "outputs": [],
   "source": [
    "inputUser = data.frame(\"title\"=c(\"Breakfast Club, The (1985)\", \"Toy Story (1995)\", \"Jumanji (1995)\", \"Pulp Fiction (1994)\", \"Akira (1988)\"), \n",
    "                       \"rating\"=c(5, 3.5, 2, 5, 4.5))\n",
    "head(inputUser)"
   ]
  },
  {
   "cell_type": "markdown",
   "metadata": {},
   "source": [
    "#### Adding movieIds to the input user\n",
    "With the input complete, let's extract the input movies's ID's from the movies dataframe and add them into it.\n",
    "\n",
    "We can achieve this by first filtering out the rows that contain the input movies' titles and getting their IDs."
   ]
  },
  {
   "cell_type": "code",
   "execution_count": null,
   "metadata": {
    "collapsed": true
   },
   "outputs": [],
   "source": [
    "inputUser$movieId = rep(NA, length(inputUser$title))\n",
    "for (i in 1:length(inputUser$title)){\n",
    "    inputUser$movieId[i] = as.character(movies_df$movieId[movies_df$title == inputUser$title[i]])\n",
    "}\n",
    "head(inputUser)"
   ]
  },
  {
   "cell_type": "markdown",
   "metadata": {},
   "source": [
    "#### The users who have seen the same movies\n",
    "Now with the movie IDs in our input, we can now get the subset of users who have watched and reviewed the movies that our input user has seen."
   ]
  },
  {
   "cell_type": "code",
   "execution_count": null,
   "metadata": {
    "collapsed": true,
    "scrolled": true
   },
   "outputs": [],
   "source": [
    "#Filtering out users that have watched movies that the input has watched and storing it\n",
    "userSubset = ratings_df[ratings_df$movieId %in% inputUser$movieId,]\n",
    "head(userSubset)"
   ]
  },
  {
   "cell_type": "markdown",
   "metadata": {},
   "source": [
    "With every user extracted, let's sort them by the amount of movies that they have in common with the input and get the first 100 of them."
   ]
  },
  {
   "cell_type": "code",
   "execution_count": null,
   "metadata": {
    "collapsed": true
   },
   "outputs": [],
   "source": [
    "top100 <- head(sort(table(factor(userSubset$userId)), decreasing = TRUE), 100)"
   ]
  },
  {
   "cell_type": "markdown",
   "metadata": {},
   "source": [
    "View the first 6 of the 100 most similar users to our input user and the amount of movies they have in common:"
   ]
  },
  {
   "cell_type": "code",
   "execution_count": null,
   "metadata": {
    "collapsed": true,
    "scrolled": true
   },
   "outputs": [],
   "source": [
    "head(top100)"
   ]
  },
  {
   "cell_type": "markdown",
   "metadata": {},
   "source": [
    "Now let's extract the userIDs from the table and transform it into a table to make it easier to subset the data later on."
   ]
  },
  {
   "cell_type": "code",
   "execution_count": null,
   "metadata": {
    "collapsed": true
   },
   "outputs": [],
   "source": [
    "userList <- as.data.frame.table(top100)\n",
    "colnames(userList) <-  c(\"userId\",\"commonMovies\")\n",
    "head(userList)"
   ]
  },
  {
   "cell_type": "markdown",
   "metadata": {},
   "source": [
    "Now let's get the movies watched by these 100 users from the ratings dataframe and then create the UserSubset data frame (using merge function to combine the columns)"
   ]
  },
  {
   "cell_type": "code",
   "execution_count": null,
   "metadata": {
    "collapsed": true
   },
   "outputs": [],
   "source": [
    "userSubset = ratings_df[ratings_df$userId %in% userList$userId,]\n",
    "temp = as.data.frame(table(userSubset$movieId))\n",
    "names(temp)[names(temp)==\"Var1\"] = \"movieId\"\n",
    "userSubset = merge(temp, userSubset)"
   ]
  },
  {
   "cell_type": "markdown",
   "metadata": {},
   "source": [
    "This is what our final userSubset dataframe looks like:"
   ]
  },
  {
   "cell_type": "code",
   "execution_count": null,
   "metadata": {
    "collapsed": true
   },
   "outputs": [],
   "source": [
    "head(userSubset)"
   ]
  },
  {
   "cell_type": "markdown",
   "metadata": {},
   "source": [
    "Let's look at one of the users, e.g. the one with userID 533."
   ]
  },
  {
   "cell_type": "code",
   "execution_count": null,
   "metadata": {
    "collapsed": true
   },
   "outputs": [],
   "source": [
    "head(userSubset[userSubset$userId == 533,])"
   ]
  },
  {
   "cell_type": "markdown",
   "metadata": {},
   "source": [
    "Now let's filter out the movies with less than 10 occurrences in our dataframe:"
   ]
  },
  {
   "cell_type": "code",
   "execution_count": null,
   "metadata": {
    "collapsed": true,
    "scrolled": true
   },
   "outputs": [],
   "source": [
    "userSubset = userSubset[userSubset$Freq > 10,]\n",
    "head(userSubset)"
   ]
  },
  {
   "cell_type": "markdown",
   "metadata": {},
   "source": [
    "#### Similarity of users to input user\n",
    "Next, we are going to compare the top users to our specified user and find the one that is most similar.  \n",
    "we're going to find out how similar each user is to the input user through the __Pearson Correlation Coefficient__. It is used to measure the strength of the linear association between two variables. The formula for finding this coefficient between sets X and Y with N values can be seen in the image below. \n",
    "\n",
    "Why Pearson Correlation?\n",
    "\n",
    "Pearson correlation is invariant to scaling, i.e. multiplying all elements by a nonzero constant or adding any constant to all elements. For example, if you have two vectors X and Y, then, pearson(X, Y) == pearson(X, 2 * Y + 3). This is a pretty important property in recommendation systems because for example two users might rate two series of items totally different in terms of absolute rates, but they would be similar users (i.e. with similar ideas) with similar rates in various scales .\n",
    "<center>\n",
    "$S_{xx} = \\sum{x^2} - (\\sum{x})^2/n$\n",
    "<center>\n",
    "$S_{yy} = \\sum{y^2} - (\\sum{y})^2/n$\n",
    "<center>\n",
    "$S_{xy} = \\sum{xy} - (\\sum{x})(\\sum{y})/n$\n",
    "<center>\n",
    "$r =\\frac{S_{xy}}{\\sqrt{S_{xx}S_{yy}}}$\n",
    "\n",
    "The values given by the formula vary from r = -1 to r = 1, where 1 forms a direct correlation between the two entities (it means a perfect positive correlation) and -1 forms a perfect negative correlation. \n",
    "\n",
    "In our case, a 1 means that the two users have similar tastes while a -1 means the opposite."
   ]
  },
  {
   "cell_type": "markdown",
   "metadata": {},
   "source": [
    "Now, we calculate the Pearson Correlation between input user and subset group, and store it in a data frame, where the key is the user Id and the value is the coefficient\n"
   ]
  },
  {
   "cell_type": "code",
   "execution_count": null,
   "metadata": {
    "collapsed": true
   },
   "outputs": [],
   "source": [
    "pearson_df = data.frame(\"userId\"=integer(), \"similarityIndex\"=double())\n",
    "for (user in userList$userId)\n",
    "{\n",
    "    userRating = userSubset[userSubset$userId == user,]\n",
    "    \n",
    "    moviesInCommonX = userRating[userRating$movieId %in% inputUser$movieId,]\n",
    "    moviesInCommonX = moviesInCommonX[complete.cases(moviesInCommonX),]\n",
    "    \n",
    "    moviesInCommonY = inputUser[inputUser$movieId %in% userRating$movieId,]\n",
    "    moviesInCommonY = moviesInCommonY[complete.cases(moviesInCommonY),]\n",
    "    \n",
    "    #Now let's calculate the pearson correlation between two users, so called, x and y\n",
    "    Sxx = sum(moviesInCommonX$rating^2) - (sum(moviesInCommonX$rating)^2)/nrow(moviesInCommonX)\n",
    "    Syy = sum(moviesInCommonY$rating^2) - (sum(moviesInCommonY$rating)^2)/nrow(moviesInCommonY)\n",
    "    Sxy = sum(moviesInCommonX$rating*moviesInCommonY$rating) - (sum(moviesInCommonX$rating)*sum(moviesInCommonY$rating))/nrow(moviesInCommonX)\n",
    "    \n",
    "    \n",
    "    if(Sxx == 0 | Syy == 0 | Sxy == 0)\n",
    "    {\n",
    "        pearsonCorrelation = 0\n",
    "    }\n",
    "    else\n",
    "    {\n",
    "        pearsonCorrelation = Sxy/sqrt(Sxx*Syy)\n",
    "    }\n",
    "    \n",
    "    pearson_df = rbind(pearson_df, data.frame(\"userId\"=user, \"similarityIndex\"=pearsonCorrelation))   \n",
    "}"
   ]
  },
  {
   "cell_type": "markdown",
   "metadata": {},
   "source": [
    "Here's a look at the similarity scores:"
   ]
  },
  {
   "cell_type": "code",
   "execution_count": null,
   "metadata": {
    "collapsed": true,
    "scrolled": false
   },
   "outputs": [],
   "source": [
    "head(pearson_df)"
   ]
  },
  {
   "cell_type": "markdown",
   "metadata": {},
   "source": [
    "#### The top x similar users to input user\n",
    "Now let's get the top 50 users that are most similar to the input."
   ]
  },
  {
   "cell_type": "markdown",
   "metadata": {},
   "source": [
    "Now, let's start recommending movies to the input user.\n",
    "\n",
    "#### Rating of selected users to all movies\n",
    "We're going to do this by taking the weighted average of the ratings of the movies using the Pearson Correlation as the weight. But to do this, we first need to get the movies watched by the users in our __pearsonDF__ from the ratings dataframe and then store their correlation in a new column called _similarityIndex\". This is achieved below by merging of these two tables."
   ]
  },
  {
   "cell_type": "code",
   "execution_count": null,
   "metadata": {
    "collapsed": true
   },
   "outputs": [],
   "source": [
    "topUsersRating = merge(userSubset, pearson_df)\n",
    "head(topUsersRating, 15)"
   ]
  },
  {
   "cell_type": "markdown",
   "metadata": {},
   "source": [
    "Now all we need to do is simply multiply the movie rating by its weight (The similarity index), then sum up the new ratings and divide it by the sum of the weights.\n",
    "\n",
    "We can easily do this by simply multiplying two columns, then taking the mean of the aggregate of the movieId column:"
   ]
  },
  {
   "cell_type": "code",
   "execution_count": null,
   "metadata": {
    "collapsed": true,
    "scrolled": true
   },
   "outputs": [],
   "source": [
    "#Multiplies the similarity by the user's ratings\n",
    "topUsersRating$weightedRating = topUsersRating$similarityIndex*topUsersRating$rating\n",
    "weightedAverage_df = aggregate(topUsersRating$weightedRating, list(topUsersRating$movieId), mean)\n",
    "head(weightedAverage_df)"
   ]
  },
  {
   "cell_type": "markdown",
   "metadata": {},
   "source": [
    "Since we lose the column's names after doing so, we simply set them again in the next cell:"
   ]
  },
  {
   "cell_type": "code",
   "execution_count": null,
   "metadata": {
    "collapsed": true
   },
   "outputs": [],
   "source": [
    "names(weightedAverage_df)[names(weightedAverage_df)==\"Group.1\"] = \"movieId\"\n",
    "names(weightedAverage_df)[names(weightedAverage_df)==\"x\"] = \"weightedAverage\"\n",
    "head(weightedAverage_df)"
   ]
  },
  {
   "cell_type": "markdown",
   "metadata": {},
   "source": [
    "Now we merge the averages with the movies dataframe so we can get their titles."
   ]
  },
  {
   "cell_type": "code",
   "execution_count": null,
   "metadata": {
    "collapsed": true
   },
   "outputs": [],
   "source": [
    "recommendation_df = merge(weightedAverage_df, movies_df)"
   ]
  },
  {
   "cell_type": "markdown",
   "metadata": {},
   "source": [
    "And then we finally sort it to see the top 20 movies that the algorithm recommended!"
   ]
  },
  {
   "cell_type": "code",
   "execution_count": null,
   "metadata": {
    "collapsed": true,
    "scrolled": true
   },
   "outputs": [],
   "source": [
    "head(recommendation_df[order(-recommendation_df$weightedAverage),], 20)"
   ]
  },
  {
   "cell_type": "markdown",
   "metadata": {},
   "source": [
    "<a id=\"ref4\"></a>\n",
    "## Advantages and Disadvantages of Collaborative Filtering\n",
    "\n",
    "##### Advantages\n",
    "* Takes other user's ratings into consideration\n",
    "* Doesn't need to study or extract information from the recommended item\n",
    "* Adapts to the user's interests which might change over time\n",
    "\n",
    "##### Disadvantages\n",
    "* Approximation function can be slow\n",
    "* There might be a low of amount of users to approximate\n",
    "* Privacy issues when trying to learn the user's preferences"
   ]
  },
  {
   "cell_type": "markdown",
   "metadata": {},
   "source": [
    "## Want to learn more?\n",
    "\n",
    "IBM SPSS Modeler is a comprehensive analytics platform that has many machine learning algorithms. It has been designed to bring predictive intelligence to decisions made by individuals, by groups, by systems – by your enterprise as a whole. A free trial is available through this course, available here: [SPSS Modeler for Mac users](https://cocl.us/ML0151EN_SPSSMod_mac) and [SPSS Modeler for Windows users](https://cocl.us/ML0151EN_SPSSMod_win)\n",
    "\n",
    "Also, you can use Data Science Experience to run these notebooks faster with bigger datasets. Data Science Experience is IBM's leading cloud solution for data scientists, built by data scientists. With Jupyter notebooks, RStudio, Apache Spark and popular libraries pre-packaged in the cloud, DSX enables data scientists to collaborate on their projects without having to install anything. Join the fast-growing community of DSX users today with a free account at [Data Science Experience](https://cocl.us/ML0151EN_DSX)"
   ]
  },
  {
   "cell_type": "markdown",
   "metadata": {},
   "source": [
    "### Thanks for completing this lesson!\n",
    "\n",
    "Authors: Gabriel Garcez Barros Sousa, <a href = \"https://ca.linkedin.com/in/saeedaghabozorgi\">Saeed Aghabozorgi</a>"
   ]
  },
  {
   "cell_type": "markdown",
   "metadata": {},
   "source": [
    "## References\n",
    "[GroupLens Dataset](http://grouplens.org/datasets/movielens/)\n",
    "\n",
    "[Collaborative Filtering Recommender Systems](http://files.grouplens.org/papers/FnT%20CF%20Recsys%20Survey.pdf)\n",
    "\n",
    "[R Documentation](https://cran.r-project.org/manuals.html)\n"
   ]
  },
  {
   "cell_type": "markdown",
   "metadata": {},
   "source": [
    "<hr>\n",
    "Copyright &copy; 2017 [IBM Cognitive Class](https://cocl.us/ML0151_cclab). This notebook and its source code are released under the terms of the [MIT License](https://cognitiveclass.ai/mit-license/)."
   ]
  },
  {
   "cell_type": "code",
   "execution_count": null,
   "metadata": {
    "collapsed": true
   },
   "outputs": [],
   "source": []
  }
 ],
 "metadata": {
  "anaconda-cloud": {},
  "kernelspec": {
   "display_name": "R",
   "language": "R",
   "name": "ir"
  },
  "language_info": {
   "codemirror_mode": "r",
   "file_extension": ".r",
   "mimetype": "text/x-r-source",
   "name": "R",
   "pygments_lexer": "r",
   "version": "3.4.0"
  }
 },
 "nbformat": 4,
 "nbformat_minor": 1
}
