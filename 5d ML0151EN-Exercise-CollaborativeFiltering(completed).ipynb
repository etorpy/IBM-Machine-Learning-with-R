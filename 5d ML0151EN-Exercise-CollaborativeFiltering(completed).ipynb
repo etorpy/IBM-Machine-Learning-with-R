{
 "cells": [
  {
   "cell_type": "markdown",
   "metadata": {},
   "source": [
    "<a href=\"https://www.bigdatauniversity.com\"><img src = \"https://ibm.box.com/shared/static/cw2c7r3o20w9zn8gkecaeyjhgw3xdgbj.png\" width = 400, align = \"center\"></a>\n",
    "\n",
    "<h1 align=center><font size = 5>Exercise: Collaborative Filtering</font></h1>\n",
    "\n",
    "In this notebook we will be doing a collaborative filtering exercise using the *recommenderlab* function from the package 'recommenderlab'. For this exercise we will be using datasets acquired from [GroupLens](http://grouplens.org/datasets/movielens/) containing some information regarding a list of movies, such as user ratings, user IDs, movie IDs, and movie titles.\n",
    "\n",
    "<hl>"
   ]
  },
  {
   "cell_type": "markdown",
   "metadata": {},
   "source": [
    "## Table of Contents\n",
    "<div class=\"alert alert-block alert-info\" style=\"margin-top: 20px\">\n",
    "\n",
    "<br>\n",
    "- <p><a href=\"#ref0\">Acquiring the data</a></p>\n",
    "- <p><a href=\"#ref1\">Preprocessing</a></p>\n",
    "- <p><a href=\"#ref2\">Collaborative Filtering</a></p>\n",
    "- <p><a href=\"#ref3\">Advantages and Disadvantages of Collaborative Filtering</a></p>\n",
    "<p></p>\n",
    "</div>\n",
    "<hr>"
   ]
  },
  {
   "cell_type": "markdown",
   "metadata": {},
   "source": [
    "<a id=\"ref0\"></a>\n",
    "## Donwload the Data\n",
    "\n",
    "To download and store the data, simply run the following R cell:  \n",
    "Dataset acquired from [GroupLens](http://grouplens.org/datasets/movielens/)"
   ]
  },
  {
   "cell_type": "code",
   "execution_count": 1,
   "metadata": {
    "collapsed": true
   },
   "outputs": [],
   "source": [
    "# rating dataset\n",
    "download.file(\"https://ibm.box.com/shared/static/226cs3qlqylgkdiiqttjghwij0mfd6sp.csv\", \"/resources/data/ratings_cleaned.csv\")\n",
    "#Moview dtaset\n",
    "download.file(\"https://ibm.box.com/shared/static/jj7hu6jsvdwtyw1q4n9gpfdnt4mtd9rc.csv\", \"/resources/data/movies_cleaned.csv\")"
   ]
  },
  {
   "cell_type": "markdown",
   "metadata": {},
   "source": [
    "## Load the Data"
   ]
  },
  {
   "cell_type": "markdown",
   "metadata": {},
   "source": [
    "Let's begin by loading the data and storing them into dataframes named **'movies_df'** and **'ratings_df'**:"
   ]
  },
  {
   "cell_type": "code",
   "execution_count": 2,
   "metadata": {
    "collapsed": true
   },
   "outputs": [],
   "source": [
    "#Loading the movie information into a dataframe\n",
    "movies_df <- read.csv('/resources/data/movies_cleaned.csv',  sep=\",\")"
   ]
  },
  {
   "cell_type": "code",
   "execution_count": 3,
   "metadata": {
    "collapsed": true
   },
   "outputs": [],
   "source": [
    "#Loading the user information into a dataframe\n",
    "ratings_df <- read.csv('/resources/data/ratings_cleaned.csv',  sep=\",\")"
   ]
  },
  {
   "cell_type": "markdown",
   "metadata": {},
   "source": [
    "Let's have a look at the structure of these dataframes:"
   ]
  },
  {
   "cell_type": "code",
   "execution_count": 4,
   "metadata": {
    "collapsed": true,
    "scrolled": false
   },
   "outputs": [
    {
     "name": "stdout",
     "output_type": "stream",
     "text": [
      "'data.frame':\t9125 obs. of  3 variables:\n",
      " $ movieId: int  1 2 3 4 5 6 7 8 9 10 ...\n",
      " $ title  : Factor w/ 9123 levels \"¡Three Amigos! (1986)\",..: 8301 4319 3420 8648 2761 3591 6860 8253 7673 3287 ...\n",
      " $ genres : Factor w/ 902 levels \"(no genres listed)\",..: 329 394 687 646 596 242 687 377 2 124 ...\n",
      "'data.frame':\t100004 obs. of  4 variables:\n",
      " $ userId   : int  1 1 1 1 1 1 1 1 1 1 ...\n",
      " $ movieId  : int  31 1029 1061 1129 1172 1263 1287 1293 1339 1343 ...\n",
      " $ rating   : num  2.5 3 3 2 4 2 2 2 3.5 2 ...\n",
      " $ timestamp: int  1260759144 1260759179 1260759182 1260759185 1260759205 1260759151 1260759187 1260759148 1260759125 1260759131 ...\n"
     ]
    }
   ],
   "source": [
    "# write your code here\n",
    "\n",
    "str(movies_df)\n",
    "str(ratings_df)\n"
   ]
  },
  {
   "cell_type": "markdown",
   "metadata": {},
   "source": [
    "<div align=\"right\">\n",
    "<a href=\"#p1\" class=\"btn btn-default\" data-toggle=\"collapse\">Click here for the solution</a>\n",
    "</div>\n",
    "<div id=\"p1\" class=\"collapse\">\n",
    "```\n",
    "str(movies_df)\n",
    "str(ratings_df)\n",
    "```\n",
    "</div>"
   ]
  },
  {
   "cell_type": "markdown",
   "metadata": {},
   "source": [
    "## Format the data"
   ]
  },
  {
   "cell_type": "markdown",
   "metadata": {},
   "source": [
    "Now we will clean the data and have a look at the first few rows of each dataframes, to see what our data looks like:"
   ]
  },
  {
   "cell_type": "code",
   "execution_count": 5,
   "metadata": {
    "collapsed": true,
    "scrolled": true
   },
   "outputs": [
    {
     "data": {
      "text/html": [
       "<table>\n",
       "<thead><tr><th scope=col>movieId</th><th scope=col>title</th><th scope=col>genres</th></tr></thead>\n",
       "<tbody>\n",
       "\t<tr><td>1                                          </td><td>Toy Story (1995)                           </td><td>Adventure|Animation|Children|Comedy|Fantasy</td></tr>\n",
       "\t<tr><td>2                                          </td><td>Jumanji (1995)                             </td><td>Adventure|Children|Fantasy                 </td></tr>\n",
       "\t<tr><td>3                                          </td><td>Grumpier Old Men (1995)                    </td><td>Comedy|Romance                             </td></tr>\n",
       "\t<tr><td>4                                          </td><td>Waiting to Exhale (1995)                   </td><td>Comedy|Drama|Romance                       </td></tr>\n",
       "\t<tr><td>5                                          </td><td>Father of the Bride Part II (1995)         </td><td>Comedy                                     </td></tr>\n",
       "\t<tr><td>6                                          </td><td>Heat (1995)                                </td><td>Action|Crime|Thriller                      </td></tr>\n",
       "</tbody>\n",
       "</table>\n"
      ],
      "text/latex": [
       "\\begin{tabular}{r|lll}\n",
       " movieId & title & genres\\\\\n",
       "\\hline\n",
       "\t 1                                                                                   & Toy Story (1995)                                                                    & Adventure\\textbar{}Animation\\textbar{}Children\\textbar{}Comedy\\textbar{}Fantasy\\\\\n",
       "\t 2                                                               & Jumanji (1995)                                                  & Adventure\\textbar{}Children\\textbar{}Fantasy                 \\\\\n",
       "\t 3                                                     & Grumpier Old Men (1995)                               & Comedy\\textbar{}Romance                             \\\\\n",
       "\t 4                                                               & Waiting to Exhale (1995)                                        & Comedy\\textbar{}Drama\\textbar{}Romance                       \\\\\n",
       "\t 5                                           & Father of the Bride Part II (1995)          & Comedy                                     \\\\\n",
       "\t 6                                                               & Heat (1995)                                                     & Action\\textbar{}Crime\\textbar{}Thriller                      \\\\\n",
       "\\end{tabular}\n"
      ],
      "text/markdown": [
       "\n",
       "movieId | title | genres | \n",
       "|---|---|---|---|---|---|\n",
       "| 1                                           | Toy Story (1995)                            | Adventure|Animation|Children|Comedy|Fantasy | \n",
       "| 2                                           | Jumanji (1995)                              | Adventure|Children|Fantasy                  | \n",
       "| 3                                           | Grumpier Old Men (1995)                     | Comedy|Romance                              | \n",
       "| 4                                           | Waiting to Exhale (1995)                    | Comedy|Drama|Romance                        | \n",
       "| 5                                           | Father of the Bride Part II (1995)          | Comedy                                      | \n",
       "| 6                                           | Heat (1995)                                 | Action|Crime|Thriller                       | \n",
       "\n",
       "\n"
      ],
      "text/plain": [
       "  movieId title                             \n",
       "1 1       Toy Story (1995)                  \n",
       "2 2       Jumanji (1995)                    \n",
       "3 3       Grumpier Old Men (1995)           \n",
       "4 4       Waiting to Exhale (1995)          \n",
       "5 5       Father of the Bride Part II (1995)\n",
       "6 6       Heat (1995)                       \n",
       "  genres                                     \n",
       "1 Adventure|Animation|Children|Comedy|Fantasy\n",
       "2 Adventure|Children|Fantasy                 \n",
       "3 Comedy|Romance                             \n",
       "4 Comedy|Drama|Romance                       \n",
       "5 Comedy                                     \n",
       "6 Action|Crime|Thriller                      "
      ]
     },
     "metadata": {},
     "output_type": "display_data"
    },
    {
     "data": {
      "text/html": [
       "<table>\n",
       "<thead><tr><th scope=col>userId</th><th scope=col>movieId</th><th scope=col>rating</th><th scope=col>timestamp</th></tr></thead>\n",
       "<tbody>\n",
       "\t<tr><td>1         </td><td>  31      </td><td>2.5       </td><td>1260759144</td></tr>\n",
       "\t<tr><td>1         </td><td>1029      </td><td>3.0       </td><td>1260759179</td></tr>\n",
       "\t<tr><td>1         </td><td>1061      </td><td>3.0       </td><td>1260759182</td></tr>\n",
       "\t<tr><td>1         </td><td>1129      </td><td>2.0       </td><td>1260759185</td></tr>\n",
       "\t<tr><td>1         </td><td>1172      </td><td>4.0       </td><td>1260759205</td></tr>\n",
       "\t<tr><td>1         </td><td>1263      </td><td>2.0       </td><td>1260759151</td></tr>\n",
       "</tbody>\n",
       "</table>\n"
      ],
      "text/latex": [
       "\\begin{tabular}{r|llll}\n",
       " userId & movieId & rating & timestamp\\\\\n",
       "\\hline\n",
       "\t 1          &   31       & 2.5        & 1260759144\\\\\n",
       "\t 1          & 1029       & 3.0        & 1260759179\\\\\n",
       "\t 1          & 1061       & 3.0        & 1260759182\\\\\n",
       "\t 1          & 1129       & 2.0        & 1260759185\\\\\n",
       "\t 1          & 1172       & 4.0        & 1260759205\\\\\n",
       "\t 1          & 1263       & 2.0        & 1260759151\\\\\n",
       "\\end{tabular}\n"
      ],
      "text/markdown": [
       "\n",
       "userId | movieId | rating | timestamp | \n",
       "|---|---|---|---|---|---|\n",
       "| 1          |   31       | 2.5        | 1260759144 | \n",
       "| 1          | 1029       | 3.0        | 1260759179 | \n",
       "| 1          | 1061       | 3.0        | 1260759182 | \n",
       "| 1          | 1129       | 2.0        | 1260759185 | \n",
       "| 1          | 1172       | 4.0        | 1260759205 | \n",
       "| 1          | 1263       | 2.0        | 1260759151 | \n",
       "\n",
       "\n"
      ],
      "text/plain": [
       "  userId movieId rating timestamp \n",
       "1 1        31    2.5    1260759144\n",
       "2 1      1029    3.0    1260759179\n",
       "3 1      1061    3.0    1260759182\n",
       "4 1      1129    2.0    1260759185\n",
       "5 1      1172    4.0    1260759205\n",
       "6 1      1263    2.0    1260759151"
      ]
     },
     "metadata": {},
     "output_type": "display_data"
    }
   ],
   "source": [
    "head(movies_df)\n",
    "head(ratings_df)"
   ]
  },
  {
   "cell_type": "markdown",
   "metadata": {},
   "source": [
    "Let's remove the timestamp column from the ratings dataframe, since we won't need it for this exercise. Then, look at the first few rows of our final dataframes:"
   ]
  },
  {
   "cell_type": "code",
   "execution_count": 6,
   "metadata": {
    "collapsed": true,
    "scrolled": false
   },
   "outputs": [
    {
     "data": {
      "text/html": [
       "<table>\n",
       "<thead><tr><th scope=col>movieId</th><th scope=col>title</th><th scope=col>genres</th></tr></thead>\n",
       "<tbody>\n",
       "\t<tr><td>1                                          </td><td>Toy Story (1995)                           </td><td>Adventure|Animation|Children|Comedy|Fantasy</td></tr>\n",
       "\t<tr><td>2                                          </td><td>Jumanji (1995)                             </td><td>Adventure|Children|Fantasy                 </td></tr>\n",
       "\t<tr><td>3                                          </td><td>Grumpier Old Men (1995)                    </td><td>Comedy|Romance                             </td></tr>\n",
       "\t<tr><td>4                                          </td><td>Waiting to Exhale (1995)                   </td><td>Comedy|Drama|Romance                       </td></tr>\n",
       "\t<tr><td>5                                          </td><td>Father of the Bride Part II (1995)         </td><td>Comedy                                     </td></tr>\n",
       "\t<tr><td>6                                          </td><td>Heat (1995)                                </td><td>Action|Crime|Thriller                      </td></tr>\n",
       "</tbody>\n",
       "</table>\n"
      ],
      "text/latex": [
       "\\begin{tabular}{r|lll}\n",
       " movieId & title & genres\\\\\n",
       "\\hline\n",
       "\t 1                                                                                   & Toy Story (1995)                                                                    & Adventure\\textbar{}Animation\\textbar{}Children\\textbar{}Comedy\\textbar{}Fantasy\\\\\n",
       "\t 2                                                               & Jumanji (1995)                                                  & Adventure\\textbar{}Children\\textbar{}Fantasy                 \\\\\n",
       "\t 3                                                     & Grumpier Old Men (1995)                               & Comedy\\textbar{}Romance                             \\\\\n",
       "\t 4                                                               & Waiting to Exhale (1995)                                        & Comedy\\textbar{}Drama\\textbar{}Romance                       \\\\\n",
       "\t 5                                           & Father of the Bride Part II (1995)          & Comedy                                     \\\\\n",
       "\t 6                                                               & Heat (1995)                                                     & Action\\textbar{}Crime\\textbar{}Thriller                      \\\\\n",
       "\\end{tabular}\n"
      ],
      "text/markdown": [
       "\n",
       "movieId | title | genres | \n",
       "|---|---|---|---|---|---|\n",
       "| 1                                           | Toy Story (1995)                            | Adventure|Animation|Children|Comedy|Fantasy | \n",
       "| 2                                           | Jumanji (1995)                              | Adventure|Children|Fantasy                  | \n",
       "| 3                                           | Grumpier Old Men (1995)                     | Comedy|Romance                              | \n",
       "| 4                                           | Waiting to Exhale (1995)                    | Comedy|Drama|Romance                        | \n",
       "| 5                                           | Father of the Bride Part II (1995)          | Comedy                                      | \n",
       "| 6                                           | Heat (1995)                                 | Action|Crime|Thriller                       | \n",
       "\n",
       "\n"
      ],
      "text/plain": [
       "  movieId title                             \n",
       "1 1       Toy Story (1995)                  \n",
       "2 2       Jumanji (1995)                    \n",
       "3 3       Grumpier Old Men (1995)           \n",
       "4 4       Waiting to Exhale (1995)          \n",
       "5 5       Father of the Bride Part II (1995)\n",
       "6 6       Heat (1995)                       \n",
       "  genres                                     \n",
       "1 Adventure|Animation|Children|Comedy|Fantasy\n",
       "2 Adventure|Children|Fantasy                 \n",
       "3 Comedy|Romance                             \n",
       "4 Comedy|Drama|Romance                       \n",
       "5 Comedy                                     \n",
       "6 Action|Crime|Thriller                      "
      ]
     },
     "metadata": {},
     "output_type": "display_data"
    },
    {
     "data": {
      "text/html": [
       "<table>\n",
       "<thead><tr><th scope=col>userId</th><th scope=col>movieId</th><th scope=col>rating</th></tr></thead>\n",
       "<tbody>\n",
       "\t<tr><td>1   </td><td>  31</td><td>2.5 </td></tr>\n",
       "\t<tr><td>1   </td><td>1029</td><td>3.0 </td></tr>\n",
       "\t<tr><td>1   </td><td>1061</td><td>3.0 </td></tr>\n",
       "\t<tr><td>1   </td><td>1129</td><td>2.0 </td></tr>\n",
       "\t<tr><td>1   </td><td>1172</td><td>4.0 </td></tr>\n",
       "\t<tr><td>1   </td><td>1263</td><td>2.0 </td></tr>\n",
       "</tbody>\n",
       "</table>\n"
      ],
      "text/latex": [
       "\\begin{tabular}{r|lll}\n",
       " userId & movieId & rating\\\\\n",
       "\\hline\n",
       "\t 1    &   31 & 2.5 \\\\\n",
       "\t 1    & 1029 & 3.0 \\\\\n",
       "\t 1    & 1061 & 3.0 \\\\\n",
       "\t 1    & 1129 & 2.0 \\\\\n",
       "\t 1    & 1172 & 4.0 \\\\\n",
       "\t 1    & 1263 & 2.0 \\\\\n",
       "\\end{tabular}\n"
      ],
      "text/markdown": [
       "\n",
       "userId | movieId | rating | \n",
       "|---|---|---|---|---|---|\n",
       "| 1    |   31 | 2.5  | \n",
       "| 1    | 1029 | 3.0  | \n",
       "| 1    | 1061 | 3.0  | \n",
       "| 1    | 1129 | 2.0  | \n",
       "| 1    | 1172 | 4.0  | \n",
       "| 1    | 1263 | 2.0  | \n",
       "\n",
       "\n"
      ],
      "text/plain": [
       "  userId movieId rating\n",
       "1 1        31    2.5   \n",
       "2 1      1029    3.0   \n",
       "3 1      1061    3.0   \n",
       "4 1      1129    2.0   \n",
       "5 1      1172    4.0   \n",
       "6 1      1263    2.0   "
      ]
     },
     "metadata": {},
     "output_type": "display_data"
    }
   ],
   "source": [
    "# write your code here\n",
    "\n",
    "ratings_df$timestamp = NULL\n",
    "head(movies_df)\n",
    "head(ratings_df)\n"
   ]
  },
  {
   "cell_type": "markdown",
   "metadata": {},
   "source": [
    "<div align=\"right\">\n",
    "<a href=\"#p2\" class=\"btn btn-default\" data-toggle=\"collapse\">Click here for the solution</a>\n",
    "</div>\n",
    "<div id=\"p2\" class=\"collapse\">\n",
    "```\n",
    "ratings_df$timestamp = NULL\n",
    "head(movies_df)\n",
    "head(ratings_df)\n",
    "```\n",
    "</div>"
   ]
  },
  {
   "cell_type": "markdown",
   "metadata": {},
   "source": [
    "<a id=\"ref2\"></a>\n",
    "## User-Based Collaborative Filtering"
   ]
  },
  {
   "cell_type": "markdown",
   "metadata": {},
   "source": [
    "User-based collaborative filtering (**UBCF**) is a collaborative filtering technique that makes recommendations using the similarity between users. The assumption is that users with similar preferences will rate items similarly. Thus missing ratings for a user can be predicted by first finding a neighborhood of similar users and then aggregate the ratings of these users to form a prediction.\n",
    "\n",
    "\n",
    "UBCF algorithms first identify the k most similar users (nearest neighbors) to the active user, using a similarity measure such as the Pearson correlation or Cosine similarity, in which each user is treated as a vector in the m-dimensional item space and the similarities between the active user and other users are computed between the vectors. After the most similar users have been discovered, their corresponding rows in the user-item matrix are aggregated to identify a set of items, L, rated by the group together with their frequency. With the set L, UBCF techniques then recommend the top-n most frequent items in that the active user has not rated. UBCF algorithms have limitations related to scalability and real-time performance."
   ]
  },
  {
   "cell_type": "markdown",
   "metadata": {},
   "source": [
    "To do our implementation of recommender systems we will install and load the recommenderlab and Matrix packages:"
   ]
  },
  {
   "cell_type": "code",
   "execution_count": 7,
   "metadata": {
    "collapsed": true,
    "scrolled": true
   },
   "outputs": [
    {
     "name": "stderr",
     "output_type": "stream",
     "text": [
      "Updating HTML index of packages in '.Library'\n",
      "Making 'packages.html' ... done\n",
      "Updating HTML index of packages in '.Library'\n",
      "Making 'packages.html' ... done\n",
      "Updating HTML index of packages in '.Library'\n",
      "Making 'packages.html' ... done\n",
      "Loading required package: Matrix\n",
      "Loading required package: arules\n",
      "\n",
      "Attaching package: ‘arules’\n",
      "\n",
      "The following objects are masked from ‘package:base’:\n",
      "\n",
      "    abbreviate, write\n",
      "\n",
      "Loading required package: proxy\n",
      "\n",
      "Attaching package: ‘proxy’\n",
      "\n",
      "The following object is masked from ‘package:Matrix’:\n",
      "\n",
      "    as.matrix\n",
      "\n",
      "The following objects are masked from ‘package:stats’:\n",
      "\n",
      "    as.dist, dist\n",
      "\n",
      "The following object is masked from ‘package:base’:\n",
      "\n",
      "    as.matrix\n",
      "\n",
      "Loading required package: registry\n"
     ]
    }
   ],
   "source": [
    "# NOTE: installing these three packages takes a very long time, but it will complete.\n",
    "\n",
    "install.packages(\"proxy\")\n",
    "install.packages(\"recommenderlab\")\n",
    "install.packages(\"Matrix\")\n",
    "library(recommenderlab)\n",
    "library(Matrix)"
   ]
  },
  {
   "cell_type": "markdown",
   "metadata": {},
   "source": [
    "## Prepare the data"
   ]
  },
  {
   "cell_type": "markdown",
   "metadata": {},
   "source": [
    "To use the recommenderlab package, our data will need to be converted to sparse format:"
   ]
  },
  {
   "cell_type": "code",
   "execution_count": 8,
   "metadata": {
    "collapsed": true,
    "scrolled": true
   },
   "outputs": [
    {
     "name": "stderr",
     "output_type": "stream",
     "text": [
      "   [[ suppressing 10 column names ‘m1’, ‘m2’, ‘m3’ ... ]]\n"
     ]
    },
    {
     "data": {
      "text/plain": [
       "10 x 10 sparse Matrix of class \"dgCMatrix\"\n",
       "                       \n",
       "u1  . . . . . . . . . .\n",
       "u2  . . . . . . . . . 4\n",
       "u3  . . . . . . . . . .\n",
       "u4  . . . . . . . . . 4\n",
       "u5  . . 4 . . . . . . .\n",
       "u6  . . . . . . . . . .\n",
       "u7  3 . . . . . . . . 3\n",
       "u8  . . . . . . . . . .\n",
       "u9  4 . . . . . . . . .\n",
       "u10 . . . . . . . . . ."
      ]
     },
     "metadata": {},
     "output_type": "display_data"
    },
    {
     "data": {
      "text/html": [
       "<ol class=list-inline>\n",
       "\t<li>671</li>\n",
       "\t<li>163949</li>\n",
       "</ol>\n"
      ],
      "text/latex": [
       "\\begin{enumerate*}\n",
       "\\item 671\n",
       "\\item 163949\n",
       "\\end{enumerate*}\n"
      ],
      "text/markdown": [
       "1. 671\n",
       "2. 163949\n",
       "\n",
       "\n"
      ],
      "text/plain": [
       "[1]    671 163949"
      ]
     },
     "metadata": {},
     "output_type": "display_data"
    }
   ],
   "source": [
    "sparse_ratings <- sparseMatrix(i = ratings_df$userId, j = ratings_df$movieId, x = ratings_df$rating,\n",
    "                              dimnames = list(paste(\"u\", 1:length(unique(ratings_df$userId)), sep = \"\"), \n",
    "                                               paste(\"m\", 1:max(ratings_df$movieId), sep = \"\"))) \n",
    "                               \n",
    "sparse_ratings[1:10, 1:10]\n",
    "\n",
    "dim(sparse_ratings)"
   ]
  },
  {
   "cell_type": "markdown",
   "metadata": {},
   "source": [
    "We can see that our sparse matrix has more columns (movies) at 163949 than the 9066 movies that we have ratings for in our ratings dataframe. However, this will not affect our results.\n",
    "\n",
    "NOTE: In our ratings dataframe, we have 9066 different movieIds with the largest value for a movieId being 163949. While in our movies dataframe, we have 9125 different movies with the largest value for a movieId being 164979."
   ]
  },
  {
   "cell_type": "markdown",
   "metadata": {},
   "source": [
    "## Create recommender models"
   ]
  },
  {
   "cell_type": "markdown",
   "metadata": {},
   "source": [
    "The function **recommender** from the recommenderlab package works with a realRatingMatrix object, which we will create from our sparse matrix:"
   ]
  },
  {
   "cell_type": "code",
   "execution_count": 9,
   "metadata": {
    "collapsed": true
   },
   "outputs": [
    {
     "data": {
      "text/plain": [
       "671 x 163949 rating matrix of class ‘realRatingMatrix’ with 100004 ratings."
      ]
     },
     "metadata": {},
     "output_type": "display_data"
    }
   ],
   "source": [
    "real_ratings <- new(\"realRatingMatrix\", data = sparse_ratings)\n",
    "real_ratings"
   ]
  },
  {
   "cell_type": "markdown",
   "metadata": {},
   "source": [
    "Now let's construct a recommender model using the **Recommender** algorithm and the first 500 users of the real rating matrix. "
   ]
  },
  {
   "cell_type": "code",
   "execution_count": 10,
   "metadata": {
    "collapsed": true,
    "scrolled": true
   },
   "outputs": [],
   "source": [
    "rmodel <- Recommender(real_ratings[1:500], method = \"UBCF\", param=list(normalize = \"center\", method = \"Pearson\"))"
   ]
  },
  {
   "cell_type": "markdown",
   "metadata": {},
   "source": [
    "Let's make movie recommendations for users 501 and 502 from our data."
   ]
  },
  {
   "cell_type": "markdown",
   "metadata": {},
   "source": [
    "We can make recommendations for new users using the **predict** function and the recommender models we created. However, the recommendations will not be in list form so we will have to use the **as** function to display it as a list."
   ]
  },
  {
   "cell_type": "code",
   "execution_count": 11,
   "metadata": {
    "collapsed": true,
    "scrolled": false
   },
   "outputs": [
    {
     "data": {
      "text/html": [
       "<dl>\n",
       "\t<dt>$u501</dt>\n",
       "\t\t<dd><ol class=list-inline>\n",
       "\t<li>'m1073'</li>\n",
       "\t<li>'m260'</li>\n",
       "\t<li>'m2987'</li>\n",
       "\t<li>'m2858'</li>\n",
       "\t<li>'m6'</li>\n",
       "</ol>\n",
       "</dd>\n",
       "\t<dt>$u502</dt>\n",
       "\t\t<dd><ol class=list-inline>\n",
       "\t<li>'m593'</li>\n",
       "\t<li>'m2028'</li>\n",
       "\t<li>'m5902'</li>\n",
       "\t<li>'m1270'</li>\n",
       "\t<li>'m457'</li>\n",
       "</ol>\n",
       "</dd>\n",
       "</dl>\n"
      ],
      "text/latex": [
       "\\begin{description}\n",
       "\\item[\\$u501] \\begin{enumerate*}\n",
       "\\item 'm1073'\n",
       "\\item 'm260'\n",
       "\\item 'm2987'\n",
       "\\item 'm2858'\n",
       "\\item 'm6'\n",
       "\\end{enumerate*}\n",
       "\n",
       "\\item[\\$u502] \\begin{enumerate*}\n",
       "\\item 'm593'\n",
       "\\item 'm2028'\n",
       "\\item 'm5902'\n",
       "\\item 'm1270'\n",
       "\\item 'm457'\n",
       "\\end{enumerate*}\n",
       "\n",
       "\\end{description}\n"
      ],
      "text/markdown": [
       "$u501\n",
       ":   1. 'm1073'\n",
       "2. 'm260'\n",
       "3. 'm2987'\n",
       "4. 'm2858'\n",
       "5. 'm6'\n",
       "\n",
       "\n",
       "\n",
       "$u502\n",
       ":   1. 'm593'\n",
       "2. 'm2028'\n",
       "3. 'm5902'\n",
       "4. 'm1270'\n",
       "5. 'm457'\n",
       "\n",
       "\n",
       "\n",
       "\n",
       "\n"
      ],
      "text/plain": [
       "$u501\n",
       "[1] \"m1073\" \"m260\"  \"m2987\" \"m2858\" \"m6\"   \n",
       "\n",
       "$u502\n",
       "[1] \"m593\"  \"m2028\" \"m5902\" \"m1270\" \"m457\" \n"
      ]
     },
     "metadata": {},
     "output_type": "display_data"
    }
   ],
   "source": [
    "recom <- predict(rmodel, real_ratings[501:502],n=5)\n",
    "lrecom <- as(recom, \"list\")\n",
    "lrecom"
   ]
  },
  {
   "cell_type": "markdown",
   "metadata": {},
   "source": [
    "As you can see our lists contain the recommendations as the corresponding movieIds prefixed with the letter 'm'.\n",
    "To obtain a list of integer-valued movieIds we will have to perform some data transformation."
   ]
  },
  {
   "cell_type": "markdown",
   "metadata": {},
   "source": [
    "We can do this using a combination of the **as.numeric** and **sub** functions in R:"
   ]
  },
  {
   "cell_type": "code",
   "execution_count": 12,
   "metadata": {
    "collapsed": true,
    "scrolled": false
   },
   "outputs": [
    {
     "data": {
      "text/html": [
       "<dl>\n",
       "\t<dt>$u501</dt>\n",
       "\t\t<dd><ol class=list-inline>\n",
       "\t<li>1073</li>\n",
       "\t<li>260</li>\n",
       "\t<li>2987</li>\n",
       "\t<li>2858</li>\n",
       "\t<li>6</li>\n",
       "</ol>\n",
       "</dd>\n",
       "\t<dt>$u502</dt>\n",
       "\t\t<dd><ol class=list-inline>\n",
       "\t<li>593</li>\n",
       "\t<li>2028</li>\n",
       "\t<li>5902</li>\n",
       "\t<li>1270</li>\n",
       "\t<li>457</li>\n",
       "</ol>\n",
       "</dd>\n",
       "</dl>\n"
      ],
      "text/latex": [
       "\\begin{description}\n",
       "\\item[\\$u501] \\begin{enumerate*}\n",
       "\\item 1073\n",
       "\\item 260\n",
       "\\item 2987\n",
       "\\item 2858\n",
       "\\item 6\n",
       "\\end{enumerate*}\n",
       "\n",
       "\\item[\\$u502] \\begin{enumerate*}\n",
       "\\item 593\n",
       "\\item 2028\n",
       "\\item 5902\n",
       "\\item 1270\n",
       "\\item 457\n",
       "\\end{enumerate*}\n",
       "\n",
       "\\end{description}\n"
      ],
      "text/markdown": [
       "$u501\n",
       ":   1. 1073\n",
       "2. 260\n",
       "3. 2987\n",
       "4. 2858\n",
       "5. 6\n",
       "\n",
       "\n",
       "\n",
       "$u502\n",
       ":   1. 593\n",
       "2. 2028\n",
       "3. 5902\n",
       "4. 1270\n",
       "5. 457\n",
       "\n",
       "\n",
       "\n",
       "\n",
       "\n"
      ],
      "text/plain": [
       "$u501\n",
       "[1] 1073  260 2987 2858    6\n",
       "\n",
       "$u502\n",
       "[1]  593 2028 5902 1270  457\n"
      ]
     },
     "metadata": {},
     "output_type": "display_data"
    }
   ],
   "source": [
    "lr <- lapply(lrecom, function(x) as.numeric(sub(\"m\",\"\", x)))\n",
    "lr"
   ]
  },
  {
   "cell_type": "markdown",
   "metadata": {},
   "source": [
    "Let's have a look at the movies user 501 has rated."
   ]
  },
  {
   "cell_type": "code",
   "execution_count": 13,
   "metadata": {
    "collapsed": true,
    "scrolled": true
   },
   "outputs": [
    {
     "name": "stdout",
     "output_type": "stream",
     "text": [
      "[1] \"User501\"\n",
      "\n",
      "[1] Toy Story (1995)\n",
      "[1] Dead Man Walking (1995)\n",
      "[1] Seven (a.k.a. Se7en) (1995)\n",
      "[1] Usual Suspects, The (1995)\n",
      "[1] Taxi Driver (1976)\n",
      "[1] Pulp Fiction (1994)\n",
      "[1] Shawshank Redemption, The (1994)\n",
      "[1] Forrest Gump (1994)\n",
      "[1] Lion King, The (1994)\n",
      "[1] Mask, The (1994)\n",
      "[1] Silence of the Lambs, The (1991)\n",
      "[1] Pinocchio (1940)\n",
      "[1] Fargo (1996)\n",
      "[1] Wallace & Gromit: A Close Shave (1995)\n",
      "[1] Trainspotting (1996)\n",
      "[1] Godfather, The (1972)\n",
      "[1] Reservoir Dogs (1992)\n",
      "[1] E.T. the Extra-Terrestrial (1982)\n",
      "[1] Monty Python and the Holy Grail (1975)\n",
      "[1] Wallace & Gromit: The Wrong Trousers (1993)\n",
      "[1] 12 Angry Men (1957)\n",
      "[1] Clockwork Orange, A (1971)\n",
      "[1] Goodfellas (1990)\n",
      "[1] Godfather: Part II, The (1974)\n",
      "[1] Full Metal Jacket (1987)\n",
      "[1] Groundhog Day (1993)\n",
      "[1] Men in Black (a.k.a. MIB) (1997)\n",
      "[1] Truman Show, The (1998)\n",
      "[1] Good Will Hunting (1997)\n",
      "[1] Jackie Brown (1997)\n",
      "[1] Big Lebowski, The (1998)\n",
      "[1] Twilight (1998)\n",
      "[1] Saving Private Ryan (1998)\n",
      "[1] American History X (1998)\n",
      "[1] Bug's Life, A (1998)\n",
      "[1] Day of the Beast, The (Día de la Bestia, El) (1995)\n",
      "[1] Lock, Stock & Two Smoking Barrels (1998)\n",
      "[1] Matrix, The (1999)\n",
      "[1] Run Lola Run (Lola rennt) (1998)\n",
      "[1] Wild Wild West (1999)\n",
      "[1] Iron Giant, The (1999)\n",
      "[1] Sixth Sense, The (1999)\n",
      "[1] Fight Club (1999)\n",
      "[1] Being John Malkovich (1999)\n",
      "[1] Awakenings (1990)\n",
      "[1] Toy Story 2 (1999)\n",
      "[1] Magnolia (1999)\n",
      "[1] Final Destination (2000)\n",
      "[1] High Fidelity (2000)\n",
      "[1] Gladiator (2000)\n",
      "[1] Mission: Impossible II (2000)\n",
      "[1] Chicken Run (2000)\n",
      "[1] Requiem for a Dream (2000)\n",
      "[1] Snatch (2000)\n",
      "[1] Cast Away (2000)\n",
      "[1] Memento (2000)\n",
      "[1] Amores Perros (Love's a Bitch) (2000)\n",
      "[1] Shrek (2001)\n",
      "[1] Donnie Darko (2001)\n",
      "[1] Monsters, Inc. (2001)\n",
      "[1] Harry Potter and the Sorcerer's Stone (a.k.a. Harry Potter and the Philosopher's Stone) (2001)\n",
      "[1] Ocean's Eleven (2001)\n",
      "[1] Amelie (Fabuleux destin d'Amélie Poulain, Le) (2001)\n",
      "[1] Lord of the Rings: The Fellowship of the Ring, The (2001)\n",
      "[1] Beautiful Mind, A (2001)\n",
      "[1] Panic Room (2002)\n",
      "[1] Nine Queens (Nueve reinas) (2000)\n",
      "[1] Men in Black II (a.k.a. MIIB) (a.k.a. MIB 2) (2002)\n",
      "[1] Das Experiment (Experiment, The) (2001)\n",
      "[1] Red Dragon (2002)\n",
      "[1] Bowling for Columbine (2002)\n",
      "[1] Harry Potter and the Chamber of Secrets (2002)\n",
      "[1] Lord of the Rings: The Two Towers, The (2002)\n",
      "[1] 25th Hour (2002)\n",
      "[1] Catch Me If You Can (2002)\n",
      "[1] City of God (Cidade de Deus) (2002)\n",
      "[1] Identity (2003)\n",
      "[1] Finding Nemo (2003)\n",
      "[1] School of Rock (2003)\n",
      "[1] Kill Bill: Vol. 1 (2003)\n",
      "[1] Lord of the Rings: The Return of the King, The (2003)\n",
      "[1] The Butterfly Effect (2004)\n",
      "[1] Good bye, Lenin! (2003)\n",
      "[1] Eternal Sunshine of the Spotless Mind (2004)\n",
      "[1] Zelig (1983)\n",
      "[1] Shrek 2 (2004)\n",
      "[1] I, Robot (2004)\n",
      "[1] The Machinist (2004)\n",
      "[1] Saw (2004)\n",
      "[1] Incredibles, The (2004)\n",
      "[1] Scarface (1932)\n",
      "[1] Woman in the Window, The (1944)\n",
      "[1] Lemony Snicket's A Series of Unfortunate Events (2004)\n",
      "[1] Chorus, The (Choristes, Les) (2004)\n",
      "[1] Aviator, The (2004)\n",
      "[1] Hitch (2005)\n",
      "[1] Control (Kontroll) (2003)\n",
      "[1] Robots (2005)\n",
      "[1] Mr. & Mrs. Smith (2005)\n",
      "[1] Island, The (2005)\n",
      "[1] Transporter 2 (2005)\n",
      "[1] Green Street Hooligans (a.k.a. Hooligans) (2005)\n",
      "[1] Saw II (2005)\n",
      "[1] Revolver (2005)\n",
      "[1] Match Point (2005)\n",
      "[1] Keeping Mum (2005)\n",
      "[1] On Probation (Tiempo de Valientes) (2005)\n",
      "[1] Thank You for Smoking (2006)\n",
      "[1] Inside Man (2006)\n",
      "[1] Hard Candy (2005)\n",
      "[1] Road to Guantanamo, The (2006)\n",
      "[1] Little Miss Sunshine (2006)\n",
      "[1] Stranger than Fiction (2006)\n",
      "[1] Pursuit of Happyness, The (2006)\n",
      "[1] Red Balloon, The (Ballon rouge, Le) (1956)\n",
      "[1] Departed, The (2006)\n",
      "[1] Prestige, The (2006)\n",
      "[1] Saw III (2006)\n",
      "[1] Ratatouille (2007)\n",
      "[1] 300 (2007)\n",
      "[1] Disturbia (2007)\n",
      "[1] Once (2006)\n",
      "[1] Into the Wild (2007)\n",
      "[1] Saw IV (2007)\n",
      "[1] Elite Squad (Tropa de Elite) (2007)\n",
      "[1] Bee Movie (2007)\n",
      "[1] No Country for Old Men (2007)\n",
      "[1] I Am Legend (2007)\n",
      "[1] Juno (2007)\n",
      "[1] Bucket List, The (2007)\n",
      "[1] Cloverfield (2008)\n",
      "[1] In Bruges (2008)\n",
      "[1] Vantage Point (2008)\n",
      "[1] Taxi to the Dark Side (2007)\n",
      "[1] Counterfeiters, The (Die Fälscher) (2007)\n",
      "[1] Dark Knight, The (2008)\n",
      "[1] Super High Me (2007)\n",
      "[1] WALL·E (2008)\n",
      "[1] Wanted (2008)\n",
      "[1] Hancock (2008)\n",
      "[1] Space Chimps (2008)\n",
      "[1] Wave, The (Welle, Die) (2008)\n",
      "[1] RocknRolla (2008)\n",
      "[1] Changeling (2008)\n",
      "[1] Slumdog Millionaire (2008)\n",
      "[1] Saw V (2008)\n",
      "[1] Boy in the Striped Pajamas, The (Boy in the Striped Pyjamas, The) (2008)\n",
      "[1] Gran Torino (2008)\n",
      "[1] Seven Pounds (2008)\n",
      "[1] Inglourious Basterds (2009)\n",
      "[1] Crank: High Voltage (2009)\n",
      "[1] Up (2009)\n",
      "[1] Hangover, The (2009)\n",
      "[1] Harry Potter and the Half-Blood Prince (2009)\n",
      "[1] District 9 (2009)\n",
      "[1] Adam (2009)\n",
      "[1] Secret in Their Eyes, The (El secreto de sus ojos) (2009)\n",
      "[1] Most Hated Family in America, The (2007)\n",
      "[1] Paranormal Activity (2009)\n",
      "[1] Mary and Max (2009)\n",
      "[1] Saw VI (2009)\n",
      "[1] Fantastic Mr. Fox (2009)\n",
      "[1] Fourth Kind, The (2009)\n",
      "[1] Precious (2009)\n",
      "[1] Twilight Saga: New Moon, The (2009)\n",
      "[1] Avatar (2009)\n",
      "[1] I Love You Phillip Morris (2009)\n",
      "[1] Shutter Island (2010)\n",
      "[1] Ghost Writer, The (2010)\n",
      "[1] Agora (2009)\n",
      "[1] Case 39 (2009)\n",
      "[1] How to Train Your Dragon (2010)\n",
      "[1] Exit Through the Gift Shop (2010)\n",
      "[1] Nightmare on Elm Street, A (2010)\n",
      "[1] Buried (2010)\n",
      "[1] Exam (2009)\n",
      "[1] Toy Story 3 (2010)\n",
      "[1] 24: Redemption (2008)\n",
      "[1] Twilight Saga: Eclipse, The (2010)\n",
      "[1] Inception (2010)\n",
      "[1] Salt (2010)\n",
      "[1] Tekken (2010)\n",
      "[1] Vampires Suck (2010)\n",
      "[1] Social Network, The (2010)\n",
      "[1] Town, The (2010)\n",
      "[1] Easy A (2010)\n",
      "[1] It's Kind of a Funny Story (2010)\n",
      "[1] Jackass 3D (2010)\n",
      "[1] Restrepo (2010)\n",
      "[1] Saw VII 3D - The Final Chapter (2010)\n",
      "[1] 127 Hours (2010)\n",
      "[1] Megamind (2010)\n",
      "[1] Black Swan (2010)\n",
      "[1] Harry Potter and the Deathly Hallows: Part 1 (2010)\n",
      "[1] King's Speech, The (2010)\n",
      "[1] Tangled (2010)\n",
      "[1] Fighter, The (2010)\n",
      "[1] Tillman Story, The (2010)\n",
      "[1] Little Fockers (2010)\n",
      "[1] Adjustment Bureau, The (2011)\n",
      "[1] Just Go with It (2011)\n",
      "[1] Source Code (2011)\n",
      "[1] BURN-E (2008)\n"
     ]
    }
   ],
   "source": [
    "user501=ratings_df$movieId[ratings_df$userId==501]\n",
    "print(\"User501\")\n",
    "cat(\"\\n\")\n",
    "for (i in user501){\n",
    "    movie <- movies_df$title[movies_df$movieId==i]\n",
    "    print (movie, max.levels=0)\n",
    "}"
   ]
  },
  {
   "cell_type": "markdown",
   "metadata": {},
   "source": [
    "Now, let's see which movies are recommended for the user. For each movie we will show the title, the genres, the total number of ratings and the average rating."
   ]
  },
  {
   "cell_type": "code",
   "execution_count": 14,
   "metadata": {
    "collapsed": true,
    "scrolled": false
   },
   "outputs": [
    {
     "name": "stdout",
     "output_type": "stream",
     "text": [
      "[1] \"User-based collaborative filtering\"\n",
      "\n",
      "\n",
      "\n",
      "[1] \"User 501 Recommendations:\"\n",
      "\n",
      "\n",
      "[1] Willy Wonka & the Chocolate Factory (1971)\n",
      "Genres:  Children|Comedy|Fantasy|Musical \n",
      "Total ratings:  148 \n",
      "Average rating:  3.753378 \n",
      "\n",
      "[1] Star Wars: Episode IV - A New Hope (1977)\n",
      "Genres:  Action|Adventure|Sci-Fi \n",
      "Total ratings:  291 \n",
      "Average rating:  4.221649 \n",
      "\n",
      "[1] Who Framed Roger Rabbit? (1988)\n",
      "Genres:  Adventure|Animation|Children|Comedy|Crime|Fantasy|Mystery \n",
      "Total ratings:  108 \n",
      "Average rating:  3.666667 \n",
      "\n",
      "[1] American Beauty (1999)\n",
      "Genres:  Drama|Romance \n",
      "Total ratings:  220 \n",
      "Average rating:  4.236364 \n",
      "\n",
      "[1] Heat (1995)\n",
      "Genres:  Action|Crime|Thriller \n",
      "Total ratings:  104 \n",
      "Average rating:  3.884615 \n",
      "\n"
     ]
    },
    {
     "data": {
      "text/html": [],
      "text/latex": [],
      "text/markdown": [],
      "text/plain": [
       "$u501\n",
       "NULL\n"
      ]
     },
     "metadata": {},
     "output_type": "display_data"
    }
   ],
   "source": [
    "print(\"User-based collaborative filtering\")\n",
    "cat(\"\\n\")\n",
    "cat(\"\\n\")\n",
    "cat(\"\\n\")\n",
    "\n",
    "print(\"User 501 Recommendations:\")\n",
    "cat(\"\\n\")\n",
    "cat(\"\\n\")\n",
    "\n",
    "u501_recom <- lapply(lr[1], function(x) for (i in x){\n",
    "                                movie <- movies_df$title[movies_df$movieId==i]\n",
    "                                print (movie, max.levels=0)\n",
    "                                genres <- movies_df$genres[movies_df$movieId==i]\n",
    "                                cat(\"Genres: \", as.character(genres), \"\\n\")\n",
    "                                indices <- which(ratings_df$movieId==i, arr.ind=T)\n",
    "                                cat(\"Total ratings: \", length(indices), \"\\n\")\n",
    "                                cat(\"Average rating: \",mean(ratings_df$rating[indices]), \"\\n\")\n",
    "                                cat(\"\\n\")\n",
    "}\n",
    "    )\n",
    "u501_recom"
   ]
  },
  {
   "cell_type": "markdown",
   "metadata": {},
   "source": [
    "Now, let's do the same for user 502. "
   ]
  },
  {
   "cell_type": "markdown",
   "metadata": {},
   "source": [
    "Display the list of movies user 502 has rated:"
   ]
  },
  {
   "cell_type": "code",
   "execution_count": 15,
   "metadata": {
    "collapsed": true
   },
   "outputs": [
    {
     "name": "stdout",
     "output_type": "stream",
     "text": [
      "[1] \"User502\"\n",
      "\n",
      "[1] Toy Story (1995)\n",
      "[1] Heat (1995)\n",
      "[1] Four Rooms (1995)\n",
      "[1] Leaving Las Vegas (1995)\n",
      "[1] Twelve Monkeys (a.k.a. 12 Monkeys) (1995)\n",
      "[1] Dead Man Walking (1995)\n",
      "[1] Usual Suspects, The (1995)\n",
      "[1] Mighty Aphrodite (1995)\n",
      "[1] Mr. Holland's Opus (1995)\n",
      "[1] French Twist (Gazon maudit) (1995)\n",
      "[1] Crossing Guard, The (1995)\n",
      "[1] Happy Gilmore (1996)\n",
      "[1] Rumble in the Bronx (Hont faan kui) (1995)\n",
      "[1] Flirting With Disaster (1996)\n",
      "[1] Apollo 13 (1995)\n",
      "[1] Smoke (1995)\n",
      "[1] Strange Days (1995)\n",
      "[1] Clerks (1994)\n",
      "[1] Dumb & Dumber (Dumb and Dumber) (1994)\n",
      "[1] Ed Wood (1994)\n",
      "[1] Hoop Dreams (1994)\n",
      "[1] Star Wars: Episode IV - A New Hope (1977)\n",
      "[1] Pulp Fiction (1994)\n",
      "[1] Shawshank Redemption, The (1994)\n",
      "[1] What's Eating Gilbert Grape (1993)\n",
      "[1] River Wild, The (1994)\n",
      "[1] Bronx Tale, A (1993)\n",
      "[1] Hudsucker Proxy, The (1994)\n",
      "[1] Blade Runner (1982)\n",
      "[1] True Romance (1993)\n",
      "[1] Terminator 2: Judgment Day (1991)\n",
      "[1] One Fine Day (1996)\n",
      "[1] Fargo (1996)\n",
      "[1] Mission: Impossible (1996)\n",
      "[1] Mystery Science Theater 3000: The Movie (1996)\n",
      "[1] Feeling Minnesota (1996)\n",
      "[1] Truth About Cats & Dogs, The (1996)\n",
      "[1] Dead Man (1995)\n",
      "[1] Wallace & Gromit: The Best of Aardman Animation (1996)\n",
      "[1] Rock, The (1996)\n",
      "[1] Twister (1996)\n",
      "[1] Wallace & Gromit: A Close Shave (1995)\n",
      "[1] Dr. Strangelove or: How I Learned to Stop Worrying and Love the Bomb (1964)\n",
      "[1] Jack (1996)\n",
      "[1] Trainspotting (1996)\n",
      "[1] Independence Day (a.k.a. ID4) (1996)\n",
      "[1] Cable Guy, The (1996)\n",
      "[1] Kingpin (1996)\n",
      "[1] Eraser (1996)\n",
      "[1] She's the One (1996)\n",
      "[1] Godfather, The (1972)\n",
      "[1] Kansas City (1996)\n",
      "[1] 2 Days in the Valley (1996)\n",
      "[1] Ghost and the Darkness, The (1996)\n",
      "[1] Trees Lounge (1996)\n",
      "[1] William Shakespeare's Romeo + Juliet (1996)\n",
      "[1] Swingers (1996)\n",
      "[1] Willy Wonka & the Chocolate Factory (1971)\n",
      "[1] Monty Python's Life of Brian (1979)\n",
      "[1] Reservoir Dogs (1992)\n",
      "[1] People vs. Larry Flynt, The (1996)\n",
      "[1] Monty Python and the Holy Grail (1975)\n",
      "[1] Cook the Thief His Wife & Her Lover, The (1989)\n",
      "[1] One Flew Over the Cuckoo's Nest (1975)\n",
      "[1] Star Wars: Episode V - The Empire Strikes Back (1980)\n",
      "[1] Princess Bride, The (1987)\n",
      "[1] Raiders of the Lost Ark (Indiana Jones and the Raiders of the Lost Ark) (1981)\n",
      "[1] Brazil (1985)\n",
      "[1] Clockwork Orange, A (1971)\n",
      "[1] Apocalypse Now (1979)\n",
      "[1] Star Wars: Episode VI - Return of the Jedi (1983)\n",
      "[1] Goodfellas (1990)\n",
      "[1] Alien (1979)\n",
      "[1] Blues Brothers, The (1980)\n",
      "[1] Godfather: Part II, The (1974)\n",
      "[1] Full Metal Jacket (1987)\n",
      "[1] Amadeus (1984)\n",
      "[1] Boot, Das (Boat, The) (1981)\n",
      "[1] Sting, The (1973)\n",
      "[1] Terminator, The (1984)\n",
      "[1] Miller's Crossing (1990)\n",
      "[1] Graduate, The (1967)\n",
      "[1] Femme Nikita, La (Nikita) (1990)\n",
      "[1] Unforgiven (1992)\n",
      "[1] Heathers (1989)\n",
      "[1] This Is Spinal Tap (1984)\n",
      "[1] Being There (1979)\n",
      "[1] Mars Attacks! (1996)\n",
      "[1] Jerry Maguire (1996)\n",
      "[1] Raising Arizona (1987)\n",
      "[1] Marvin's Room (1996)\n",
      "[1] Beavis and Butt-Head Do America (1996)\n",
      "[1] Hamlet (1996)\n",
      "[1] First Strike (Police Story 4: First Strike) (Ging chaat goo si 4: Ji gaan daan yam mo) (1996)\n",
      "[1] Cement Garden, The (1993)\n",
      "[1] SubUrbia (1997)\n",
      "[1] Fools Rush In (1997)\n",
      "[1] Lost Highway (1997)\n",
      "[1] Donnie Brasco (1997)\n",
      "[1] Private Parts (1997)\n",
      "[1] Double Team (1997)\n",
      "[1] Grosse Pointe Blank (1997)\n",
      "[1] Austin Powers: International Man of Mystery (1997)\n",
      "[1] Fifth Element, The (1997)\n",
      "[1] Addicted to Love (1997)\n",
      "[1] Lost World: Jurassic Park, The (1997)\n",
      "[1] Con Air (1997)\n",
      "[1] Batman & Robin (1997)\n",
      "[1] My Best Friend's Wedding (1997)\n",
      "[1] Face/Off (1997)\n",
      "[1] Men in Black (a.k.a. MIB) (1997)\n",
      "[1] Contact (1997)\n",
      "[1] Chasing Amy (1997)\n"
     ]
    }
   ],
   "source": [
    "# your code here\n",
    "\n",
    "user502 <- ratings_df$movieId[ratings_df$userId==502]\n",
    "print(\"User502\")\n",
    "cat(\"\\n\")\n",
    "for (i in user502){\n",
    "    movie <- movies_df$title[movies_df$movieId==i]\n",
    "    print (movie, max.levels=0)\n",
    "}\n"
   ]
  },
  {
   "cell_type": "markdown",
   "metadata": {},
   "source": [
    "<div align=\"right\">\n",
    "<a href=\"#p3\" class=\"btn btn-default\" data-toggle=\"collapse\">Click here for the solution</a>\n",
    "</div>\n",
    "<div id=\"p3\" class=\"collapse\">\n",
    "```\n",
    "user502 <- ratings_df$movieId[ratings_df$userId==502]\n",
    "print(\"User502\")\n",
    "cat(\"\\n\")\n",
    "for (i in user502){\n",
    "    movie <- movies_df$title[movies_df$movieId==i]\n",
    "    print (movie, max.levels=0)\n",
    "}\n",
    "```\n",
    "</div>"
   ]
  },
  {
   "cell_type": "markdown",
   "metadata": {},
   "source": [
    "Display the recommendations for user 502, similarly to what we did for user 501:"
   ]
  },
  {
   "cell_type": "code",
   "execution_count": 17,
   "metadata": {
    "collapsed": true,
    "scrolled": true
   },
   "outputs": [
    {
     "name": "stdout",
     "output_type": "stream",
     "text": [
      "[1] \"User-based collaborative filtering\"\n",
      "\n",
      "\n",
      "\n",
      "[1] \"User 502 Recommendations:\"\n",
      "\n",
      "\n",
      "[1] Silence of the Lambs, The (1991)\n",
      "Genres:  Crime|Horror|Thriller \n",
      "Total ratings:  304 \n",
      "Average rating:  4.138158 \n",
      "\n",
      "[1] Saving Private Ryan (1998)\n",
      "Genres:  Action|Drama|War \n",
      "Total ratings:  191 \n",
      "Average rating:  3.945026 \n",
      "\n",
      "[1] Adaptation (2002)\n",
      "Genres:  Comedy|Drama|Romance \n",
      "Total ratings:  42 \n",
      "Average rating:  3.77381 \n",
      "\n",
      "[1] Back to the Future (1985)\n",
      "Genres:  Adventure|Comedy|Sci-Fi \n",
      "Total ratings:  226 \n",
      "Average rating:  4.015487 \n",
      "\n",
      "[1] Fugitive, The (1993)\n",
      "Genres:  Thriller \n",
      "Total ratings:  213 \n",
      "Average rating:  3.953052 \n",
      "\n"
     ]
    },
    {
     "data": {
      "text/html": [],
      "text/latex": [],
      "text/markdown": [],
      "text/plain": [
       "$u502\n",
       "NULL\n"
      ]
     },
     "metadata": {},
     "output_type": "display_data"
    }
   ],
   "source": [
    "# you code here:\n",
    "\n",
    "print(\"User-based collaborative filtering\")\n",
    "cat(\"\\n\")\n",
    "cat(\"\\n\")\n",
    "cat(\"\\n\")\n",
    "\n",
    "print(\"User 502 Recommendations:\")\n",
    "cat(\"\\n\")\n",
    "cat(\"\\n\")\n",
    "\n",
    "u502_recom <- lapply(lr[2], function(x) for (i in x){\n",
    "                                movie <- movies_df$title[movies_df$movieId==i]\n",
    "                                print (movie, max.levels=0)\n",
    "                                genres <- movies_df$genres[movies_df$movieId==i]\n",
    "                                cat(\"Genres: \", as.character(genres), \"\\n\")\n",
    "                                indices <- which(ratings_df$movieId==i, arr.ind=T)\n",
    "                                indices <- which(ratings_df$movieId==i, arr.ind=T)\n",
    "                                cat(\"Total ratings: \", length(indices), \"\\n\")\n",
    "                                cat(\"Average rating: \",mean(ratings_df$rating[indices]), \"\\n\")\n",
    "                                cat(\"\\n\")\n",
    "}\n",
    "    )\n",
    "u502_recom\n"
   ]
  },
  {
   "cell_type": "markdown",
   "metadata": {},
   "source": [
    "<div align=\"right\">\n",
    "<a href=\"#p4\" class=\"btn btn-default\" data-toggle=\"collapse\">Click here for the solution</a>\n",
    "</div>\n",
    "<div id=\"p4\" class=\"collapse\">\n",
    "```\n",
    "print(\"User-based collaborative filtering\")\n",
    "cat(\"\\n\")\n",
    "cat(\"\\n\")\n",
    "cat(\"\\n\")\n",
    "\n",
    "print(\"User 502 Recommendations:\")\n",
    "cat(\"\\n\")\n",
    "cat(\"\\n\")\n",
    "\n",
    "u502_recom <- lapply(lr[2], function(x) for (i in x){\n",
    "                                movie <- movies_df$title[movies_df$movieId==i]\n",
    "                                print (movie, max.levels=0)\n",
    "                                genres <- movies_df$genres[movies_df$movieId==i]\n",
    "                                cat(\"Genres: \", as.character(genres), \"\\n\")\n",
    "                                indices <- which(ratings_df$movieId==i, arr.ind=T)\n",
    "                                indices <- which(ratings_df$movieId==i, arr.ind=T)\n",
    "                                cat(\"Total ratings: \", length(indices), \"\\n\")\n",
    "                                cat(\"Average rating: \",mean(ratings_df$rating[indices]), \"\\n\")\n",
    "                                cat(\"\\n\")\n",
    "}\n",
    "    )\n",
    "u502_recom\n",
    "```\n",
    "</div>"
   ]
  },
  {
   "cell_type": "markdown",
   "metadata": {},
   "source": [
    "## Want to learn more?\n",
    "\n",
    "IBM SPSS Modeler is a comprehensive analytics platform that has many machine learning algorithms. It has been designed to bring predictive intelligence to decisions made by individuals, by groups, by systems – by your enterprise as a whole. A free trial is available through this course, available here: [SPSS Modeler for Mac users](https://cocl.us/ML0151EN_SPSSMod_mac) and [SPSS Modeler for Windows users](https://cocl.us/ML0151EN_SPSSMod_win)\n",
    "\n",
    "Also, you can use Data Science Experience to run these notebooks faster with bigger datasets. Data Science Experience is IBM's leading cloud solution for data scientists, built by data scientists. With Jupyter notebooks, RStudio, Apache Spark and popular libraries pre-packaged in the cloud, DSX enables data scientists to collaborate on their projects without having to install anything. Join the fast-growing community of DSX users today with a free account at [Data Science Experience](https://cocl.us/ML0151EN_DSX)"
   ]
  },
  {
   "cell_type": "markdown",
   "metadata": {},
   "source": [
    "### Thank you for completing this exercise!\n",
    "\n",
    "Notebook created by: Dominique Warren, <a href = \"https://ca.linkedin.com/in/saeedaghabozorgi\">Saeed Aghabozorgi</a>"
   ]
  },
  {
   "cell_type": "markdown",
   "metadata": {},
   "source": [
    "## References\n",
    "[Recommenderlab](https://cran.r-project.org/web/packages/recommenderlab/vignettes/recommenderlab.pdf)\n",
    "\n",
    "[Package 'recommenderlab'](https://cran.r-project.org/web/packages/recommenderlab/recommenderlab.pdf)\n",
    "\n",
    "[Package ‘Matrix’](https://cran.r-project.org/web/packages/Matrix/Matrix.pdf)\n",
    "\n",
    "[Collaborative Filtering Recommender Systems](http://files.grouplens.org/papers/FnT%20CF%20Recsys%20Survey.pdf)\n",
    "\n",
    "[R Documentation](https://cran.r-project.org/manuals.html)\n"
   ]
  },
  {
   "cell_type": "markdown",
   "metadata": {},
   "source": [
    "<hr>\n",
    "Copyright &copy; 2017 [IBM Cognitive Class](https://cocl.us/ML0151EN_cclab_cc). This notebook and its source code are released under the terms of the [MIT License](https://cognitiveclass.ai/mit-license/)."
   ]
  },
  {
   "cell_type": "code",
   "execution_count": null,
   "metadata": {
    "collapsed": true
   },
   "outputs": [],
   "source": []
  }
 ],
 "metadata": {
  "anaconda-cloud": {},
  "kernelspec": {
   "display_name": "R",
   "language": "R",
   "name": "ir"
  },
  "language_info": {
   "codemirror_mode": "r",
   "file_extension": ".r",
   "mimetype": "text/x-r-source",
   "name": "R",
   "pygments_lexer": "r",
   "version": "3.5.1"
  }
 },
 "nbformat": 4,
 "nbformat_minor": 2
}
